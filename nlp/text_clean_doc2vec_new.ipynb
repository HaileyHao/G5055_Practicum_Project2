{
 "cells": [
  {
   "cell_type": "code",
   "execution_count": 1,
   "id": "5f95a8ed",
   "metadata": {},
   "outputs": [
    {
     "name": "stderr",
     "output_type": "stream",
     "text": [
      "[nltk_data] Downloading package stopwords to /Users/lidan/nltk_data...\n",
      "[nltk_data]   Package stopwords is already up-to-date!\n"
     ]
    }
   ],
   "source": [
    "import pandas as pd \n",
    "import numpy as np\n",
    "from nltk.corpus import stopwords\n",
    "import nltk\n",
    "nltk.download('stopwords')\n",
    "import re"
   ]
  },
  {
   "cell_type": "code",
   "execution_count": 2,
   "id": "9c55a418",
   "metadata": {},
   "outputs": [],
   "source": [
    "#download filled definition from google doc as fill.xlsx(csv shows weird character), read in to pandas\n",
    "new_def = pd.read_excel('fill-3.xlsx')\n",
    "# combined with the original gaol-target-indicator-definition\n",
    "df = pd.read_csv('goal_target_indicator_definition.csv')\n",
    "# fill in the definition and clean the colomns' names\n",
    "new_def = new_def[['Index','pdf_name','definition']]\n",
    "df_new = df.merge(new_def, on = 'Index')\n",
    "df = df_new[['Index','Goal','Target','Indicator','definition_y']].rename(columns={'definition_y':'definition'})"
   ]
  },
  {
   "cell_type": "code",
   "execution_count": 3,
   "id": "dd2ba6ea",
   "metadata": {},
   "outputs": [
    {
     "data": {
      "text/plain": [
       "Index         False\n",
       "Goal          False\n",
       "Target        False\n",
       "Indicator     False\n",
       "definition    False\n",
       "dtype: bool"
      ]
     },
     "execution_count": 3,
     "metadata": {},
     "output_type": "execute_result"
    }
   ],
   "source": [
    "df.isna().any()"
   ]
  },
  {
   "cell_type": "markdown",
   "id": "01168a9c",
   "metadata": {},
   "source": [
    "## clean the definition column"
   ]
  },
  {
   "cell_type": "code",
   "execution_count": 4,
   "id": "3d2fec91",
   "metadata": {},
   "outputs": [],
   "source": [
    "#remove \\n\n",
    "df['definition'] = df['definition'].replace(r'\\n','', regex=True) \n",
    "#remove multiple whitespace\n",
    "df['definition'] = df['definition'].replace('\\s+', ' ', regex=True)\n",
    "#remove white space in the beginning and end\n",
    "df['definition'] = df['definition'].str.strip()\n",
    "stop_words_l=stopwords.words('english')\n",
    "# removing special characters and stop words from the text and lower case\n",
    "df['definition']=df['definition'].apply(lambda x: \" \".join(re.sub(r'[^a-zA-Z0-9$]','',w).lower() for w in x.split() if re.sub(r'[^a-zA-Z0-9$]',' ',w).lower() not in stop_words_l) )\n",
    "\n",
    "#remove white space \n",
    "df['definition'] = df['definition'].replace('\\s+', ' ', regex=True)"
   ]
  },
  {
   "cell_type": "code",
   "execution_count": 5,
   "id": "88a1bfcb",
   "metadata": {},
   "outputs": [],
   "source": [
    "# select the goal index out of index eg 1, 2\n",
    "goal_num = df['Index']\n",
    "df['goal_num'] = [re.findall(r'^(\\d+).', goal)[0] for goal in goal_num]"
   ]
  },
  {
   "cell_type": "markdown",
   "id": "850023f9",
   "metadata": {},
   "source": [
    "## use tf-idf to do word embedding"
   ]
  },
  {
   "cell_type": "code",
   "execution_count": 6,
   "id": "eae178b8",
   "metadata": {},
   "outputs": [],
   "source": [
    "from sklearn.feature_extraction.text import TfidfVectorizer\n",
    "from sklearn.metrics.pairwise import cosine_similarity\n",
    "\n",
    "tfidfvectoriser=TfidfVectorizer()\n",
    "tfidfvectoriser.fit(df['definition'])\n",
    "tfidf_vectors=tfidfvectoriser.transform(df['definition'])\n",
    "\n",
    "#calculate similarity based on the vectors\n",
    "pairwise_similarities=cosine_similarity(tfidf_vectors.toarray())"
   ]
  },
  {
   "cell_type": "markdown",
   "id": "c7893afc",
   "metadata": {},
   "source": [
    "## convert similarity to a dataframe¶"
   ]
  },
  {
   "cell_type": "code",
   "execution_count": 7,
   "id": "5edd2795",
   "metadata": {},
   "outputs": [],
   "source": [
    "def similardocs_one(doc_id,similarity_matrix):\n",
    "    #find the index for the doc_id\n",
    "    index = df.iloc[doc_id]['Index']\n",
    "    #initiated related index\n",
    "    related_index = []\n",
    "    similar_score = similarity_matrix[doc_id]\n",
    "    score_sort = np.sort(similar_score)[::-1]\n",
    "    #find related doc_id, sort from most similar to least similar \n",
    "    similar_ix=np.argsort(similarity_matrix[doc_id])[::-1] # sort doc_id from most similar to least \n",
    "    #find corresponded index for doc_id\n",
    "    for ix in similar_ix:\n",
    "        if ix==doc_id:\n",
    "            continue\n",
    "        related_index.append(df.iloc[ix][\"Index\"])\n",
    "    #create a dataframe of\n",
    "    relation_df = pd.DataFrame({'indicator': np.repeat(index, len(related_index)),\n",
    "                                'related_indicator': related_index,\n",
    "                                'similarity_score': score_sort[1:]})\n",
    "    return relation_df\n",
    "\n",
    "list_of_dataframes = [similardocs_one(x,pairwise_similarities) for x in range(len(df['Index']))]\n",
    "outcome_tf_idf = pd.concat(list_of_dataframes)"
   ]
  },
  {
   "cell_type": "code",
   "execution_count": 32,
   "id": "42f47e40",
   "metadata": {},
   "outputs": [],
   "source": [
    "outcome_tf_idf = outcome_tf_idf.rename(columns = {'similarity_score':'similarity_score_tf_idf','related_indicator':'related_indicator_tf_idf'})\n",
    "outcome_tf_idf_new = outcome_tf_idf.groupby('indicator').head().reset_index(drop=True)"
   ]
  },
  {
   "cell_type": "markdown",
   "id": "adf5e737",
   "metadata": {},
   "source": [
    "## predict the belonged goal using word embedding result to evaluate the accuracy of word embedding?"
   ]
  },
  {
   "cell_type": "code",
   "execution_count": 9,
   "id": "6269c90f",
   "metadata": {},
   "outputs": [],
   "source": [
    "from sklearn.metrics import precision_recall_fscore_support\n",
    "from sklearn.model_selection import train_test_split\n",
    "from sklearn.ensemble import RandomForestClassifier\n",
    "from sklearn.metrics import f1_score"
   ]
  },
  {
   "cell_type": "code",
   "execution_count": 10,
   "id": "19f43492",
   "metadata": {},
   "outputs": [
    {
     "name": "stderr",
     "output_type": "stream",
     "text": [
      "/Users/lidan/opt/anaconda3/lib/python3.8/site-packages/sklearn/metrics/_classification.py:1245: UndefinedMetricWarning: Precision and F-score are ill-defined and being set to 0.0 in labels with no predicted samples. Use `zero_division` parameter to control this behavior.\n",
      "  _warn_prf(average, modifier, msg_start, len(result))\n",
      "/Users/lidan/opt/anaconda3/lib/python3.8/site-packages/sklearn/metrics/_classification.py:1245: UndefinedMetricWarning: Recall and F-score are ill-defined and being set to 0.0 in labels with no true samples. Use `zero_division` parameter to control this behavior.\n",
      "  _warn_prf(average, modifier, msg_start, len(result))\n"
     ]
    },
    {
     "data": {
      "text/plain": [
       "(0.579047619047619, 0.44, 0.4321818181818181, None)"
      ]
     },
     "execution_count": 10,
     "metadata": {},
     "output_type": "execute_result"
    }
   ],
   "source": [
    "# predict the belonged goal by the embedded definition, to check the accuracy of embedding\n",
    "X_train, X_test, y_train, y_test = train_test_split(tfidf_vectors.toarray(), df['goal_num'], test_size=0.2, random_state=42)\n",
    "clf = RandomForestClassifier(random_state=123)\n",
    "clf.fit(X_train, y_train)\n",
    "y_pred = clf.predict(X_test)\n",
    "precision_recall_fscore_support(y_test, y_pred, average='weighted')\n"
   ]
  },
  {
   "cell_type": "markdown",
   "id": "3e6ebb10",
   "metadata": {},
   "source": [
    "## use bert to do word embeddings and calculate the similarity"
   ]
  },
  {
   "cell_type": "code",
   "execution_count": 11,
   "id": "579a93d4",
   "metadata": {},
   "outputs": [],
   "source": [
    "from sentence_transformers import SentenceTransformer\n",
    "sbert_model = SentenceTransformer('bert-base-nli-mean-tokens')\n",
    "\n",
    "document_embeddings = sbert_model.encode(df['definition'])\n",
    "\n",
    "pairwise_similarities=cosine_similarity(document_embeddings)"
   ]
  },
  {
   "cell_type": "code",
   "execution_count": 12,
   "id": "a0a50748",
   "metadata": {},
   "outputs": [],
   "source": [
    "list_of_dataframes = [similardocs_one(x,pairwise_similarities) for x in range(len(df['Index']))]\n",
    "outcome_bert = pd.concat(list_of_dataframes)"
   ]
  },
  {
   "cell_type": "code",
   "execution_count": 13,
   "id": "1747f2cf",
   "metadata": {},
   "outputs": [],
   "source": [
    "outcome_bert = outcome_bert.rename(columns = {'similarity_score':'similarity_score_bert','related_indicator':'related_indicator_bert'})\n",
    "                                              "
   ]
  },
  {
   "cell_type": "code",
   "execution_count": 16,
   "id": "7d62e450",
   "metadata": {},
   "outputs": [
    {
     "data": {
      "text/plain": [
       "(60270, 3)"
      ]
     },
     "execution_count": 16,
     "metadata": {},
     "output_type": "execute_result"
    }
   ],
   "source": [
    "outcome_bert.shape"
   ]
  },
  {
   "cell_type": "code",
   "execution_count": 17,
   "id": "345c438e",
   "metadata": {},
   "outputs": [],
   "source": [
    "outcome_bert_new = outcome_bert.groupby('indicator').head().reset_index(drop=True)"
   ]
  },
  {
   "cell_type": "code",
   "execution_count": 18,
   "id": "dbf6ff41",
   "metadata": {},
   "outputs": [
    {
     "name": "stderr",
     "output_type": "stream",
     "text": [
      "/Users/lidan/opt/anaconda3/lib/python3.8/site-packages/sklearn/metrics/_classification.py:1245: UndefinedMetricWarning: Precision and F-score are ill-defined and being set to 0.0 in labels with no predicted samples. Use `zero_division` parameter to control this behavior.\n",
      "  _warn_prf(average, modifier, msg_start, len(result))\n"
     ]
    },
    {
     "data": {
      "text/plain": [
       "(0.5550732600732601, 0.44, 0.44217179311916155, None)"
      ]
     },
     "execution_count": 18,
     "metadata": {},
     "output_type": "execute_result"
    }
   ],
   "source": [
    "X_train, X_test, y_train, y_test = train_test_split(document_embeddings, df['goal_num'], test_size=0.2, random_state=42)\n",
    "clf = RandomForestClassifier(random_state=123)\n",
    "clf.fit(X_train, y_train)\n",
    "y_pred = clf.predict(X_test)\n",
    "precision_recall_fscore_support(y_test, y_pred, average='weighted')"
   ]
  },
  {
   "cell_type": "markdown",
   "id": "a3789d27",
   "metadata": {},
   "source": [
    "## using doc2vec"
   ]
  },
  {
   "cell_type": "code",
   "execution_count": 61,
   "id": "85db656f",
   "metadata": {},
   "outputs": [
    {
     "name": "stderr",
     "output_type": "stream",
     "text": [
      "[nltk_data] Downloading package punkt to /Users/lidan/nltk_data...\n",
      "[nltk_data]   Package punkt is already up-to-date!\n"
     ]
    },
    {
     "data": {
      "text/plain": [
       "True"
      ]
     },
     "execution_count": 61,
     "metadata": {},
     "output_type": "execute_result"
    }
   ],
   "source": [
    "from gensim.models.doc2vec import Doc2Vec, TaggedDocument\n",
    "from nltk.tokenize import word_tokenize\n",
    "nltk.download('punkt')"
   ]
  },
  {
   "cell_type": "code",
   "execution_count": 62,
   "id": "32d8be06",
   "metadata": {},
   "outputs": [],
   "source": [
    "# get the data into the format neede for doc2vec (tagged data )\n",
    "tagged_data = [TaggedDocument(words=word_tokenize(doc), tags=[i]) for i, doc in enumerate(df['definition'])]"
   ]
  },
  {
   "cell_type": "code",
   "execution_count": 63,
   "id": "a6689a01",
   "metadata": {},
   "outputs": [
    {
     "name": "stderr",
     "output_type": "stream",
     "text": [
      "<ipython-input-63-3938c60db6a3>:11: DeprecationWarning: Call to deprecated `docvecs` (The `docvecs` property has been renamed `dv`.).\n",
      "  document_embeddings[i]= model.docvecs[i]\n"
     ]
    }
   ],
   "source": [
    "model = Doc2Vec(vector_size = 300, alpha = 0.025,min_count=5,dm =1,epochs = 50) #alpha learning rate, \n",
    "model.build_vocab(tagged_data)\n",
    "\n",
    "#train the model\n",
    "model.train(tagged_data,total_examples=model.corpus_count,# number of documents 246\n",
    "                        epochs=model.epochs)\n",
    "\n",
    "#gain the word embeddings from the model\n",
    "document_embeddings=np.zeros((246,300))\n",
    "for i in range(len(document_embeddings)):\n",
    "    document_embeddings[i]= model.docvecs[i]\n"
   ]
  },
  {
   "cell_type": "code",
   "execution_count": 64,
   "id": "bc14c14e",
   "metadata": {},
   "outputs": [],
   "source": [
    "pairwise_similarities=cosine_similarity(document_embeddings)\n",
    "\n",
    "list_of_dataframes = [similardocs_one(x,pairwise_similarities) for x in range(len(df['Index']))]\n",
    "outcome_doc2vec = pd.concat(list_of_dataframes)\n",
    "outcome_doc2vec = outcome_doc2vec.rename(columns = {'similarity_score':'similarity_score_doc2vec','related_indicator':'related_indicator_doc2vec'})"
   ]
  },
  {
   "cell_type": "code",
   "execution_count": 65,
   "id": "f865db5e",
   "metadata": {},
   "outputs": [
    {
     "data": {
      "text/html": [
       "<div>\n",
       "<style scoped>\n",
       "    .dataframe tbody tr th:only-of-type {\n",
       "        vertical-align: middle;\n",
       "    }\n",
       "\n",
       "    .dataframe tbody tr th {\n",
       "        vertical-align: top;\n",
       "    }\n",
       "\n",
       "    .dataframe thead th {\n",
       "        text-align: right;\n",
       "    }\n",
       "</style>\n",
       "<table border=\"1\" class=\"dataframe\">\n",
       "  <thead>\n",
       "    <tr style=\"text-align: right;\">\n",
       "      <th></th>\n",
       "      <th>indicator</th>\n",
       "      <th>related_indicator_doc2vec</th>\n",
       "      <th>similarity_score_doc2vec</th>\n",
       "    </tr>\n",
       "  </thead>\n",
       "  <tbody>\n",
       "    <tr>\n",
       "      <th>0</th>\n",
       "      <td>1.1.1</td>\n",
       "      <td>1.2.1</td>\n",
       "      <td>0.875192</td>\n",
       "    </tr>\n",
       "    <tr>\n",
       "      <th>1</th>\n",
       "      <td>1.1.1</td>\n",
       "      <td>11.1.1</td>\n",
       "      <td>0.871263</td>\n",
       "    </tr>\n",
       "    <tr>\n",
       "      <th>2</th>\n",
       "      <td>1.1.1</td>\n",
       "      <td>11.6.2</td>\n",
       "      <td>0.761997</td>\n",
       "    </tr>\n",
       "    <tr>\n",
       "      <th>3</th>\n",
       "      <td>1.1.1</td>\n",
       "      <td>17.3.2</td>\n",
       "      <td>0.753025</td>\n",
       "    </tr>\n",
       "    <tr>\n",
       "      <th>4</th>\n",
       "      <td>1.1.1</td>\n",
       "      <td>3.3.1</td>\n",
       "      <td>0.748638</td>\n",
       "    </tr>\n",
       "  </tbody>\n",
       "</table>\n",
       "</div>"
      ],
      "text/plain": [
       "  indicator related_indicator_doc2vec  similarity_score_doc2vec\n",
       "0     1.1.1                     1.2.1                  0.875192\n",
       "1     1.1.1                    11.1.1                  0.871263\n",
       "2     1.1.1                    11.6.2                  0.761997\n",
       "3     1.1.1                    17.3.2                  0.753025\n",
       "4     1.1.1                     3.3.1                  0.748638"
      ]
     },
     "execution_count": 65,
     "metadata": {},
     "output_type": "execute_result"
    }
   ],
   "source": [
    "outcome_doc2vec_new = outcome_doc2vec.groupby('indicator').head().reset_index(drop=True)\n",
    "outcome_doc2vec_new.head()"
   ]
  },
  {
   "cell_type": "code",
   "execution_count": 25,
   "id": "db596117",
   "metadata": {},
   "outputs": [
    {
     "name": "stderr",
     "output_type": "stream",
     "text": [
      "/Users/lidan/opt/anaconda3/lib/python3.8/site-packages/sklearn/metrics/_classification.py:1245: UndefinedMetricWarning: Recall and F-score are ill-defined and being set to 0.0 in labels with no true samples. Use `zero_division` parameter to control this behavior.\n",
      "  _warn_prf(average, modifier, msg_start, len(result))\n"
     ]
    },
    {
     "data": {
      "text/plain": [
       "(0.6265555555555555, 0.48, 0.48273726273726275, None)"
      ]
     },
     "execution_count": 25,
     "metadata": {},
     "output_type": "execute_result"
    }
   ],
   "source": [
    "X_train, X_test, y_train, y_test = train_test_split(document_embeddings, df['goal_num'], test_size=0.2, random_state=42)\n",
    "clf = RandomForestClassifier(random_state=123)\n",
    "clf.fit(X_train, y_train)\n",
    "y_pred = clf.predict(X_test)\n",
    "precision_recall_fscore_support(y_test, y_pred, average='weighted')\n"
   ]
  },
  {
   "cell_type": "markdown",
   "id": "fd94fb5b",
   "metadata": {},
   "source": [
    "## Word2vec"
   ]
  },
  {
   "cell_type": "code",
   "execution_count": 26,
   "id": "325d402f",
   "metadata": {},
   "outputs": [],
   "source": [
    "from gensim.models import Word2Vec"
   ]
  },
  {
   "cell_type": "code",
   "execution_count": 56,
   "id": "25d06136",
   "metadata": {},
   "outputs": [],
   "source": [
    "# generate a new cleaned column, which contain definition and index information\n",
    "df['cleaned'] = df[['definition','Index']].apply(lambda x: ','.join(x.astype(str)), axis=1)\n",
    "# get the data into the format neede for word2vec (list of list data )\n",
    "sent = [row.split(',') for row in df['cleaned']]"
   ]
  },
  {
   "cell_type": "code",
   "execution_count": 57,
   "id": "15ce94cf",
   "metadata": {},
   "outputs": [],
   "source": [
    "model = Word2Vec(sent, min_count=1,workers=3, vector_size = 300, window =3, sg = 1)"
   ]
  },
  {
   "cell_type": "code",
   "execution_count": 58,
   "id": "ae33fb25",
   "metadata": {},
   "outputs": [],
   "source": [
    "#gain the word embeddings from the model\n",
    "document_embeddings_word2vec=np.zeros((246,300))\n",
    "for i in range(len(document_embeddings_word2vec)):\n",
    "    document_embeddings_word2vec[i]= model.wv[df['Index'].iloc[i]].reshape((1,300))"
   ]
  },
  {
   "cell_type": "code",
   "execution_count": 59,
   "id": "e9dfb0e5",
   "metadata": {},
   "outputs": [],
   "source": [
    "pairwise_similarities=cosine_similarity(document_embeddings)\n",
    "\n",
    "list_of_dataframes_word2vec = [similardocs_one(x,pairwise_similarities) for x in range(len(df['Index']))]\n",
    "outcome_word2vec = pd.concat(list_of_dataframes_word2vec)"
   ]
  },
  {
   "cell_type": "code",
   "execution_count": 60,
   "id": "a0db5a89",
   "metadata": {},
   "outputs": [
    {
     "data": {
      "text/html": [
       "<div>\n",
       "<style scoped>\n",
       "    .dataframe tbody tr th:only-of-type {\n",
       "        vertical-align: middle;\n",
       "    }\n",
       "\n",
       "    .dataframe tbody tr th {\n",
       "        vertical-align: top;\n",
       "    }\n",
       "\n",
       "    .dataframe thead th {\n",
       "        text-align: right;\n",
       "    }\n",
       "</style>\n",
       "<table border=\"1\" class=\"dataframe\">\n",
       "  <thead>\n",
       "    <tr style=\"text-align: right;\">\n",
       "      <th></th>\n",
       "      <th>indicator</th>\n",
       "      <th>related_indicator_word2vec</th>\n",
       "      <th>similarity_score_word2vec</th>\n",
       "    </tr>\n",
       "  </thead>\n",
       "  <tbody>\n",
       "    <tr>\n",
       "      <th>0</th>\n",
       "      <td>1.1.1</td>\n",
       "      <td>1.2.1</td>\n",
       "      <td>0.858479</td>\n",
       "    </tr>\n",
       "    <tr>\n",
       "      <th>1</th>\n",
       "      <td>1.1.1</td>\n",
       "      <td>11.1.1</td>\n",
       "      <td>0.828153</td>\n",
       "    </tr>\n",
       "    <tr>\n",
       "      <th>2</th>\n",
       "      <td>1.1.1</td>\n",
       "      <td>11.6.2</td>\n",
       "      <td>0.700170</td>\n",
       "    </tr>\n",
       "    <tr>\n",
       "      <th>3</th>\n",
       "      <td>1.1.1</td>\n",
       "      <td>3.3.2</td>\n",
       "      <td>0.699983</td>\n",
       "    </tr>\n",
       "    <tr>\n",
       "      <th>4</th>\n",
       "      <td>1.1.1</td>\n",
       "      <td>3.3.1</td>\n",
       "      <td>0.692252</td>\n",
       "    </tr>\n",
       "  </tbody>\n",
       "</table>\n",
       "</div>"
      ],
      "text/plain": [
       "  indicator related_indicator_word2vec  similarity_score_word2vec\n",
       "0     1.1.1                      1.2.1                   0.858479\n",
       "1     1.1.1                     11.1.1                   0.828153\n",
       "2     1.1.1                     11.6.2                   0.700170\n",
       "3     1.1.1                      3.3.2                   0.699983\n",
       "4     1.1.1                      3.3.1                   0.692252"
      ]
     },
     "execution_count": 60,
     "metadata": {},
     "output_type": "execute_result"
    }
   ],
   "source": [
    "outcome_word2vec = outcome_word2vec.rename(columns = {'similarity_score':'similarity_score_word2vec','related_indicator':'related_indicator_word2vec'})\n",
    "outcome_word2vec_new = outcome_word2vec.groupby('indicator').head().reset_index(drop=True)\n",
    "outcome_word2vec_new.head()"
   ]
  },
  {
   "cell_type": "markdown",
   "id": "1eead936",
   "metadata": {},
   "source": [
    "## Create the Matrix"
   ]
  },
  {
   "cell_type": "code",
   "execution_count": 95,
   "id": "0a2ce9cc",
   "metadata": {},
   "outputs": [],
   "source": [
    " # merge tf-idf and bert\n",
    "outcome_full = pd.concat([outcome_tf_idf_new,outcome_bert_new],axis=1)\n",
    "# add doc2vec\n",
    "outcome_full= pd.concat([outcome_full,outcome_doc2vec_new],axis=1)\n",
    "# add word2vec\n",
    "outcome_full= pd.concat([outcome_full,outcome_word2vec_new],axis=1)"
   ]
  },
  {
   "cell_type": "code",
   "execution_count": 96,
   "id": "c84d63a5",
   "metadata": {},
   "outputs": [],
   "source": [
    "outcome_full = outcome_full[['indicator', 'related_indicator_tf_idf', 'similarity_score_tf_idf',\n",
    "        'related_indicator_doc2vec', 'similarity_score_doc2vec',\n",
    "        'related_indicator_word2vec', 'similarity_score_word2vec']]"
   ]
  },
  {
   "cell_type": "code",
   "execution_count": 97,
   "id": "3f817ae5",
   "metadata": {},
   "outputs": [
    {
     "data": {
      "text/html": [
       "<div>\n",
       "<style scoped>\n",
       "    .dataframe tbody tr th:only-of-type {\n",
       "        vertical-align: middle;\n",
       "    }\n",
       "\n",
       "    .dataframe tbody tr th {\n",
       "        vertical-align: top;\n",
       "    }\n",
       "\n",
       "    .dataframe thead th {\n",
       "        text-align: right;\n",
       "    }\n",
       "</style>\n",
       "<table border=\"1\" class=\"dataframe\">\n",
       "  <thead>\n",
       "    <tr style=\"text-align: right;\">\n",
       "      <th></th>\n",
       "      <th>indicator</th>\n",
       "      <th>related_indicator_tf_idf</th>\n",
       "      <th>similarity_score_tf_idf</th>\n",
       "      <th>related_indicator_doc2vec</th>\n",
       "      <th>similarity_score_doc2vec</th>\n",
       "      <th>related_indicator_word2vec</th>\n",
       "      <th>similarity_score_word2vec</th>\n",
       "    </tr>\n",
       "  </thead>\n",
       "  <tbody>\n",
       "    <tr>\n",
       "      <th>0</th>\n",
       "      <td>1.1.1</td>\n",
       "      <td>1.2.1</td>\n",
       "      <td>0.414994</td>\n",
       "      <td>1.2.1</td>\n",
       "      <td>0.875192</td>\n",
       "      <td>1.2.1</td>\n",
       "      <td>0.858479</td>\n",
       "    </tr>\n",
       "    <tr>\n",
       "      <th>1</th>\n",
       "      <td>1.1.1</td>\n",
       "      <td>10.2.1</td>\n",
       "      <td>0.193975</td>\n",
       "      <td>11.1.1</td>\n",
       "      <td>0.871263</td>\n",
       "      <td>11.1.1</td>\n",
       "      <td>0.828153</td>\n",
       "    </tr>\n",
       "    <tr>\n",
       "      <th>2</th>\n",
       "      <td>1.1.1</td>\n",
       "      <td>10.7.4</td>\n",
       "      <td>0.158748</td>\n",
       "      <td>11.6.2</td>\n",
       "      <td>0.761997</td>\n",
       "      <td>11.6.2</td>\n",
       "      <td>0.700170</td>\n",
       "    </tr>\n",
       "    <tr>\n",
       "      <th>3</th>\n",
       "      <td>1.1.1</td>\n",
       "      <td>16.8.1</td>\n",
       "      <td>0.155508</td>\n",
       "      <td>17.3.2</td>\n",
       "      <td>0.753025</td>\n",
       "      <td>3.3.2</td>\n",
       "      <td>0.699983</td>\n",
       "    </tr>\n",
       "    <tr>\n",
       "      <th>4</th>\n",
       "      <td>1.1.1</td>\n",
       "      <td>16.b.1</td>\n",
       "      <td>0.152244</td>\n",
       "      <td>3.3.1</td>\n",
       "      <td>0.748638</td>\n",
       "      <td>3.3.1</td>\n",
       "      <td>0.692252</td>\n",
       "    </tr>\n",
       "    <tr>\n",
       "      <th>5</th>\n",
       "      <td>1.2.1</td>\n",
       "      <td>1.1.1</td>\n",
       "      <td>0.414994</td>\n",
       "      <td>1.1.1</td>\n",
       "      <td>0.875192</td>\n",
       "      <td>1.1.1</td>\n",
       "      <td>0.858479</td>\n",
       "    </tr>\n",
       "    <tr>\n",
       "      <th>6</th>\n",
       "      <td>1.2.1</td>\n",
       "      <td>1.b.1</td>\n",
       "      <td>0.153754</td>\n",
       "      <td>11.1.1</td>\n",
       "      <td>0.844428</td>\n",
       "      <td>9.1.1</td>\n",
       "      <td>0.806331</td>\n",
       "    </tr>\n",
       "    <tr>\n",
       "      <th>7</th>\n",
       "      <td>1.2.1</td>\n",
       "      <td>1.a.1</td>\n",
       "      <td>0.148588</td>\n",
       "      <td>9.1.1</td>\n",
       "      <td>0.812365</td>\n",
       "      <td>11.1.1</td>\n",
       "      <td>0.785132</td>\n",
       "    </tr>\n",
       "    <tr>\n",
       "      <th>8</th>\n",
       "      <td>1.2.1</td>\n",
       "      <td>9.1.1</td>\n",
       "      <td>0.142980</td>\n",
       "      <td>3.9.3</td>\n",
       "      <td>0.720787</td>\n",
       "      <td>11.6.2</td>\n",
       "      <td>0.740767</td>\n",
       "    </tr>\n",
       "    <tr>\n",
       "      <th>9</th>\n",
       "      <td>1.2.1</td>\n",
       "      <td>1.2.2</td>\n",
       "      <td>0.137517</td>\n",
       "      <td>3.6.1</td>\n",
       "      <td>0.717430</td>\n",
       "      <td>3.6.1</td>\n",
       "      <td>0.731003</td>\n",
       "    </tr>\n",
       "  </tbody>\n",
       "</table>\n",
       "</div>"
      ],
      "text/plain": [
       "  indicator related_indicator_tf_idf  similarity_score_tf_idf  \\\n",
       "0     1.1.1                    1.2.1                 0.414994   \n",
       "1     1.1.1                   10.2.1                 0.193975   \n",
       "2     1.1.1                   10.7.4                 0.158748   \n",
       "3     1.1.1                   16.8.1                 0.155508   \n",
       "4     1.1.1                   16.b.1                 0.152244   \n",
       "5     1.2.1                    1.1.1                 0.414994   \n",
       "6     1.2.1                    1.b.1                 0.153754   \n",
       "7     1.2.1                    1.a.1                 0.148588   \n",
       "8     1.2.1                    9.1.1                 0.142980   \n",
       "9     1.2.1                    1.2.2                 0.137517   \n",
       "\n",
       "  related_indicator_doc2vec  similarity_score_doc2vec  \\\n",
       "0                     1.2.1                  0.875192   \n",
       "1                    11.1.1                  0.871263   \n",
       "2                    11.6.2                  0.761997   \n",
       "3                    17.3.2                  0.753025   \n",
       "4                     3.3.1                  0.748638   \n",
       "5                     1.1.1                  0.875192   \n",
       "6                    11.1.1                  0.844428   \n",
       "7                     9.1.1                  0.812365   \n",
       "8                     3.9.3                  0.720787   \n",
       "9                     3.6.1                  0.717430   \n",
       "\n",
       "  related_indicator_word2vec  similarity_score_word2vec  \n",
       "0                      1.2.1                   0.858479  \n",
       "1                     11.1.1                   0.828153  \n",
       "2                     11.6.2                   0.700170  \n",
       "3                      3.3.2                   0.699983  \n",
       "4                      3.3.1                   0.692252  \n",
       "5                      1.1.1                   0.858479  \n",
       "6                      9.1.1                   0.806331  \n",
       "7                     11.1.1                   0.785132  \n",
       "8                     11.6.2                   0.740767  \n",
       "9                      3.6.1                   0.731003  "
      ]
     },
     "execution_count": 97,
     "metadata": {},
     "output_type": "execute_result"
    }
   ],
   "source": [
    "outcome_full =  outcome_full.iloc[: , 3:]\n",
    "outcome_full.head(10)"
   ]
  },
  {
   "cell_type": "code",
   "execution_count": 98,
   "id": "fd860cc9",
   "metadata": {},
   "outputs": [],
   "source": [
    "outcome_full.to_excel('method_outcome.xlsx')"
   ]
  }
 ],
 "metadata": {
  "kernelspec": {
   "display_name": "Python 3",
   "language": "python",
   "name": "python3"
  },
  "language_info": {
   "codemirror_mode": {
    "name": "ipython",
    "version": 3
   },
   "file_extension": ".py",
   "mimetype": "text/x-python",
   "name": "python",
   "nbconvert_exporter": "python",
   "pygments_lexer": "ipython3",
   "version": "3.8.8"
  }
 },
 "nbformat": 4,
 "nbformat_minor": 5
}
