{
 "cells": [
  {
   "cell_type": "code",
   "execution_count": 10,
   "metadata": {},
   "outputs": [],
   "source": [
    "import pandas as pd\n",
    "pd.set_option(\"display.max_rows\", None, \"display.max_columns\", None)"
   ]
  },
  {
   "cell_type": "code",
   "execution_count": 73,
   "metadata": {},
   "outputs": [],
   "source": [
    "df = pd.read_csv('goal_target_indicator_definition.csv')\n",
    "#remove \\n\n",
    "df['definition'] = df['definition'].replace(r'\\n','', regex=True) "
   ]
  },
  {
   "cell_type": "code",
   "execution_count": 91,
   "metadata": {},
   "outputs": [],
   "source": [
    "#remove multiple whitespace\n",
    "df['definition'] = df['definition'].replace('\\s+', ' ', regex=True)\n",
    "#remove white space in the beginning and end\n",
    "df['definition'] = df['definition'].str.strip()"
   ]
  },
  {
   "cell_type": "code",
   "execution_count": 96,
   "metadata": {},
   "outputs": [
    {
     "data": {
      "text/plain": [
       "'The following four series are used to monitor the SDG 1.2.2. 1) Official multidimensional poverty headcount, by sex, and age (% of population) - The percentage of people who are multidimensionally poor 2) Average share of weighted deprivations (intensity) for total population - The average share of weighted dimensions in which poor people are deprived among total population 3) Official multidimensional poverty headcount (% of total households) - The percentage of households who are multidimensionally poor 4) Average share of weighted deprivations (intensity) for total households - The average share of weighted dimensions in which poor people are deprived among total households Last updated: May 2021 5) Multidimensional deprivation for children (% of population under 18) - The percentage of children who are simultaneously deprived in multiple dimensions of well-being'"
      ]
     },
     "execution_count": 96,
     "metadata": {},
     "output_type": "execute_result"
    }
   ],
   "source": [
    "df['definition'][2]"
   ]
  }
 ],
 "metadata": {
  "kernelspec": {
   "display_name": "Python 3",
   "language": "python",
   "name": "python3"
  },
  "language_info": {
   "codemirror_mode": {
    "name": "ipython",
    "version": 3
   },
   "file_extension": ".py",
   "mimetype": "text/x-python",
   "name": "python",
   "nbconvert_exporter": "python",
   "pygments_lexer": "ipython3",
   "version": "3.8.5"
  }
 },
 "nbformat": 4,
 "nbformat_minor": 4
}
