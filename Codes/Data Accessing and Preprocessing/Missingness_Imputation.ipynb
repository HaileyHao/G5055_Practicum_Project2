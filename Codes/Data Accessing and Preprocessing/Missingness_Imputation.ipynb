{
 "cells": [
  {
   "cell_type": "code",
   "execution_count": 4,
   "id": "6a276ac8",
   "metadata": {},
   "outputs": [],
   "source": [
    "import pandas as pd \n",
    "\n",
    "indonesia_full = pd.read_csv('https://raw.githubusercontent.com/PeishanLi/G5055_Practicum_Project2/main/Data/Indonesia%20Data%20Without%20Disaggregation.csv')"
   ]
  },
  {
   "cell_type": "code",
   "execution_count": 8,
   "id": "02063d9d",
   "metadata": {
    "scrolled": true
   },
   "outputs": [
    {
     "data": {
      "text/plain": [
       "PERCENT                   638\n",
       "NUMBER                    354\n",
       "PER_100000_POP             69\n",
       "INDEX                      65\n",
       "CU_USD                     50\n",
       "KMSQ                       47\n",
       "CON_USD                    33\n",
       "NUM_TH                     30\n",
       "Ratio                      29\n",
       "CU_USD_M                   24\n",
       "PER_1000_LIVE_BIRTHS       24\n",
       "CON_USD_M                  20\n",
       "HA_TH                      18\n",
       "W_PER_CAPITA               16\n",
       "NUM_M                       8\n",
       "SCORE                       8\n",
       "CUR_LCU_M                   8\n",
       "PER_100_POP                 8\n",
       "PER_1000_POP                8\n",
       "TEU                         8\n",
       "KG_PER_CON_USD              7\n",
       "TONNES_M                    7\n",
       "USD/m3                      7\n",
       "MJ_PER_GDP_CON_PPP_USD      7\n",
       "PER_POP_U5                  6\n",
       "BOOL                        6\n",
       "T_PER_HA                    6\n",
       "TONNES                      6\n",
       "mgr/m^3                     5\n",
       "PER_1000000_POP             3\n",
       "Name: [Units], dtype: int64"
      ]
     },
     "execution_count": 8,
     "metadata": {},
     "output_type": "execute_result"
    }
   ],
   "source": [
    "# Indonesia Data including '[Units]' Data \n",
    "indonesia_full['[Units]'].value_counts()"
   ]
  },
  {
   "cell_type": "code",
   "execution_count": 14,
   "id": "1f7e1334",
   "metadata": {},
   "outputs": [
    {
     "data": {
      "text/html": [
       "<div>\n",
       "<style scoped>\n",
       "    .dataframe tbody tr th:only-of-type {\n",
       "        vertical-align: middle;\n",
       "    }\n",
       "\n",
       "    .dataframe tbody tr th {\n",
       "        vertical-align: top;\n",
       "    }\n",
       "\n",
       "    .dataframe thead th {\n",
       "        text-align: right;\n",
       "    }\n",
       "</style>\n",
       "<table border=\"1\" class=\"dataframe\">\n",
       "  <thead>\n",
       "    <tr style=\"text-align: right;\">\n",
       "      <th></th>\n",
       "      <th>SeriesCode</th>\n",
       "      <th>[Units]</th>\n",
       "    </tr>\n",
       "  </thead>\n",
       "  <tbody>\n",
       "    <tr>\n",
       "      <th>0</th>\n",
       "      <td>SI_POV_DAY1</td>\n",
       "      <td>PERCENT</td>\n",
       "    </tr>\n",
       "    <tr>\n",
       "      <th>8</th>\n",
       "      <td>SI_POV_NAHC</td>\n",
       "      <td>PERCENT</td>\n",
       "    </tr>\n",
       "    <tr>\n",
       "      <th>11</th>\n",
       "      <td>SI_COV_POOR</td>\n",
       "      <td>PERCENT</td>\n",
       "    </tr>\n",
       "    <tr>\n",
       "      <th>12</th>\n",
       "      <td>SI_COV_CHLD</td>\n",
       "      <td>PERCENT</td>\n",
       "    </tr>\n",
       "    <tr>\n",
       "      <th>13</th>\n",
       "      <td>SI_COV_UEMP</td>\n",
       "      <td>PERCENT</td>\n",
       "    </tr>\n",
       "    <tr>\n",
       "      <th>...</th>\n",
       "      <td>...</td>\n",
       "      <td>...</td>\n",
       "    </tr>\n",
       "    <tr>\n",
       "      <th>1484</th>\n",
       "      <td>BX_TRF_PWKR</td>\n",
       "      <td>PERCENT</td>\n",
       "    </tr>\n",
       "    <tr>\n",
       "      <th>1493</th>\n",
       "      <td>GF_FRN_FDI</td>\n",
       "      <td>CU_USD_M</td>\n",
       "    </tr>\n",
       "    <tr>\n",
       "      <th>1501</th>\n",
       "      <td>DT_TDS_DECT</td>\n",
       "      <td>PERCENT</td>\n",
       "    </tr>\n",
       "    <tr>\n",
       "      <th>1509</th>\n",
       "      <td>IT_USE_ii99</td>\n",
       "      <td>PER_100_POP</td>\n",
       "    </tr>\n",
       "    <tr>\n",
       "      <th>1517</th>\n",
       "      <td>DC_FTA_TOTAL</td>\n",
       "      <td>CON_USD</td>\n",
       "    </tr>\n",
       "  </tbody>\n",
       "</table>\n",
       "<p>253 rows × 2 columns</p>\n",
       "</div>"
      ],
      "text/plain": [
       "        SeriesCode      [Units]\n",
       "0      SI_POV_DAY1      PERCENT\n",
       "8      SI_POV_NAHC      PERCENT\n",
       "11     SI_COV_POOR      PERCENT\n",
       "12     SI_COV_CHLD      PERCENT\n",
       "13     SI_COV_UEMP      PERCENT\n",
       "...            ...          ...\n",
       "1484   BX_TRF_PWKR      PERCENT\n",
       "1493    GF_FRN_FDI     CU_USD_M\n",
       "1501   DT_TDS_DECT      PERCENT\n",
       "1509   IT_USE_ii99  PER_100_POP\n",
       "1517  DC_FTA_TOTAL      CON_USD\n",
       "\n",
       "[253 rows x 2 columns]"
      ]
     },
     "execution_count": 14,
     "metadata": {},
     "output_type": "execute_result"
    }
   ],
   "source": [
    "series_units = indonesia_full[['SeriesCode','[Units]']]\n",
    "series_units = series_units.drop_duplicates()\n",
    "series_units"
   ]
  },
  {
   "cell_type": "code",
   "execution_count": null,
   "id": "3ff1037c",
   "metadata": {},
   "outputs": [],
   "source": [
    "import os\n",
    "import glob\n",
    "\n",
    "path = '../../Data/'\n",
    "extension = 'csv'\n",
    "os.chdir(path)\n",
    "result = glob.glob('*.{}'.format(extension))\n",
    "print(result)\n"
   ]
  },
  {
   "cell_type": "code",
   "execution_count": null,
   "id": "163f67c5",
   "metadata": {},
   "outputs": [],
   "source": [
    "for file in "
   ]
  }
 ],
 "metadata": {
  "kernelspec": {
   "display_name": "Python 3",
   "language": "python",
   "name": "python3"
  },
  "language_info": {
   "codemirror_mode": {
    "name": "ipython",
    "version": 3
   },
   "file_extension": ".py",
   "mimetype": "text/x-python",
   "name": "python",
   "nbconvert_exporter": "python",
   "pygments_lexer": "ipython3",
   "version": "3.8.8"
  }
 },
 "nbformat": 4,
 "nbformat_minor": 5
}
