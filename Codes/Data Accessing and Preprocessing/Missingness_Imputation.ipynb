{
 "cells": [
  {
   "cell_type": "code",
   "execution_count": 1,
   "id": "6a276ac8",
   "metadata": {},
   "outputs": [],
   "source": [
    "import pandas as pd \n",
    "\n",
    "indonesia_full = pd.read_csv('https://raw.githubusercontent.com/PeishanLi/G5055_Practicum_Project2/main/Data/Indonesia%20Data%20Without%20Disaggregation.csv')"
   ]
  },
  {
   "cell_type": "code",
   "execution_count": 2,
   "id": "02063d9d",
   "metadata": {
    "scrolled": true
   },
   "outputs": [
    {
     "data": {
      "text/plain": [
       "PERCENT                   638\n",
       "NUMBER                    354\n",
       "PER_100000_POP             69\n",
       "INDEX                      65\n",
       "CU_USD                     50\n",
       "KMSQ                       47\n",
       "CON_USD                    33\n",
       "NUM_TH                     30\n",
       "Ratio                      29\n",
       "CU_USD_M                   24\n",
       "PER_1000_LIVE_BIRTHS       24\n",
       "CON_USD_M                  20\n",
       "HA_TH                      18\n",
       "W_PER_CAPITA               16\n",
       "CUR_LCU_M                   8\n",
       "PER_100_POP                 8\n",
       "PER_1000_POP                8\n",
       "SCORE                       8\n",
       "NUM_M                       8\n",
       "TEU                         8\n",
       "KG_PER_CON_USD              7\n",
       "TONNES_M                    7\n",
       "MJ_PER_GDP_CON_PPP_USD      7\n",
       "USD/m3                      7\n",
       "TONNES                      6\n",
       "PER_POP_U5                  6\n",
       "BOOL                        6\n",
       "T_PER_HA                    6\n",
       "mgr/m^3                     5\n",
       "PER_1000000_POP             3\n",
       "Name: [Units], dtype: int64"
      ]
     },
     "execution_count": 2,
     "metadata": {},
     "output_type": "execute_result"
    }
   ],
   "source": [
    "# Indonesia Data including '[Units]' Data \n",
    "indonesia_full['[Units]'].value_counts()"
   ]
  },
  {
   "cell_type": "code",
   "execution_count": 3,
   "id": "1f7e1334",
   "metadata": {},
   "outputs": [
    {
     "data": {
      "text/html": [
       "<div>\n",
       "<style scoped>\n",
       "    .dataframe tbody tr th:only-of-type {\n",
       "        vertical-align: middle;\n",
       "    }\n",
       "\n",
       "    .dataframe tbody tr th {\n",
       "        vertical-align: top;\n",
       "    }\n",
       "\n",
       "    .dataframe thead th {\n",
       "        text-align: right;\n",
       "    }\n",
       "</style>\n",
       "<table border=\"1\" class=\"dataframe\">\n",
       "  <thead>\n",
       "    <tr style=\"text-align: right;\">\n",
       "      <th></th>\n",
       "      <th>SeriesCode</th>\n",
       "      <th>[Units]</th>\n",
       "    </tr>\n",
       "  </thead>\n",
       "  <tbody>\n",
       "    <tr>\n",
       "      <th>0</th>\n",
       "      <td>SI_POV_DAY1</td>\n",
       "      <td>PERCENT</td>\n",
       "    </tr>\n",
       "    <tr>\n",
       "      <th>8</th>\n",
       "      <td>SI_POV_NAHC</td>\n",
       "      <td>PERCENT</td>\n",
       "    </tr>\n",
       "    <tr>\n",
       "      <th>11</th>\n",
       "      <td>SI_COV_POOR</td>\n",
       "      <td>PERCENT</td>\n",
       "    </tr>\n",
       "    <tr>\n",
       "      <th>12</th>\n",
       "      <td>SI_COV_CHLD</td>\n",
       "      <td>PERCENT</td>\n",
       "    </tr>\n",
       "    <tr>\n",
       "      <th>13</th>\n",
       "      <td>SI_COV_UEMP</td>\n",
       "      <td>PERCENT</td>\n",
       "    </tr>\n",
       "    <tr>\n",
       "      <th>...</th>\n",
       "      <td>...</td>\n",
       "      <td>...</td>\n",
       "    </tr>\n",
       "    <tr>\n",
       "      <th>1484</th>\n",
       "      <td>BX_TRF_PWKR</td>\n",
       "      <td>PERCENT</td>\n",
       "    </tr>\n",
       "    <tr>\n",
       "      <th>1493</th>\n",
       "      <td>GF_FRN_FDI</td>\n",
       "      <td>CU_USD_M</td>\n",
       "    </tr>\n",
       "    <tr>\n",
       "      <th>1501</th>\n",
       "      <td>DT_TDS_DECT</td>\n",
       "      <td>PERCENT</td>\n",
       "    </tr>\n",
       "    <tr>\n",
       "      <th>1509</th>\n",
       "      <td>IT_USE_ii99</td>\n",
       "      <td>PER_100_POP</td>\n",
       "    </tr>\n",
       "    <tr>\n",
       "      <th>1517</th>\n",
       "      <td>DC_FTA_TOTAL</td>\n",
       "      <td>CON_USD</td>\n",
       "    </tr>\n",
       "  </tbody>\n",
       "</table>\n",
       "<p>253 rows × 2 columns</p>\n",
       "</div>"
      ],
      "text/plain": [
       "        SeriesCode      [Units]\n",
       "0      SI_POV_DAY1      PERCENT\n",
       "8      SI_POV_NAHC      PERCENT\n",
       "11     SI_COV_POOR      PERCENT\n",
       "12     SI_COV_CHLD      PERCENT\n",
       "13     SI_COV_UEMP      PERCENT\n",
       "...            ...          ...\n",
       "1484   BX_TRF_PWKR      PERCENT\n",
       "1493    GF_FRN_FDI     CU_USD_M\n",
       "1501   DT_TDS_DECT      PERCENT\n",
       "1509   IT_USE_ii99  PER_100_POP\n",
       "1517  DC_FTA_TOTAL      CON_USD\n",
       "\n",
       "[253 rows x 2 columns]"
      ]
     },
     "execution_count": 3,
     "metadata": {},
     "output_type": "execute_result"
    }
   ],
   "source": [
    "series_units = indonesia_full[['SeriesCode','[Units]']]\n",
    "series_units = series_units.drop_duplicates()\n",
    "series_units"
   ]
  },
  {
   "cell_type": "code",
   "execution_count": 8,
   "id": "3ff1037c",
   "metadata": {},
   "outputs": [
    {
     "ename": "FileNotFoundError",
     "evalue": "[Errno 2] No such file or directory: '../../Data/Data_preprocessed_for_PCA/Filtered_indicators_with_eligible_measurements_missing_data/Guatemala/'",
     "output_type": "error",
     "traceback": [
      "\u001b[0;31m---------------------------------------------------------------------------\u001b[0m",
      "\u001b[0;31mFileNotFoundError\u001b[0m                         Traceback (most recent call last)",
      "\u001b[0;32m<ipython-input-8-35cc02f68506>\u001b[0m in \u001b[0;36m<module>\u001b[0;34m\u001b[0m\n\u001b[1;32m      5\u001b[0m \u001b[0;34m\u001b[0m\u001b[0m\n\u001b[1;32m      6\u001b[0m \u001b[0mextension\u001b[0m \u001b[0;34m=\u001b[0m \u001b[0;34m'csv'\u001b[0m\u001b[0;34m\u001b[0m\u001b[0;34m\u001b[0m\u001b[0m\n\u001b[0;32m----> 7\u001b[0;31m \u001b[0mos\u001b[0m\u001b[0;34m.\u001b[0m\u001b[0mchdir\u001b[0m\u001b[0;34m(\u001b[0m\u001b[0mpath_g\u001b[0m\u001b[0;34m)\u001b[0m\u001b[0;34m\u001b[0m\u001b[0;34m\u001b[0m\u001b[0m\n\u001b[0m\u001b[1;32m      8\u001b[0m \u001b[0mguatemala_list\u001b[0m \u001b[0;34m=\u001b[0m \u001b[0mglob\u001b[0m\u001b[0;34m.\u001b[0m\u001b[0mglob\u001b[0m\u001b[0;34m(\u001b[0m\u001b[0;34m'*.{}'\u001b[0m\u001b[0;34m.\u001b[0m\u001b[0mformat\u001b[0m\u001b[0;34m(\u001b[0m\u001b[0mextension\u001b[0m\u001b[0;34m)\u001b[0m\u001b[0;34m)\u001b[0m\u001b[0;34m\u001b[0m\u001b[0;34m\u001b[0m\u001b[0m\n\u001b[1;32m      9\u001b[0m \u001b[0mprint\u001b[0m\u001b[0;34m(\u001b[0m\u001b[0mguatemala_list\u001b[0m\u001b[0;34m)\u001b[0m\u001b[0;34m\u001b[0m\u001b[0;34m\u001b[0m\u001b[0m\n",
      "\u001b[0;31mFileNotFoundError\u001b[0m: [Errno 2] No such file or directory: '../../Data/Data_preprocessed_for_PCA/Filtered_indicators_with_eligible_measurements_missing_data/Guatemala/'"
     ]
    }
   ],
   "source": [
    "import os\n",
    "import glob\n",
    "\n",
    "path_g = '../../Data/Data_preprocessed_for_PCA/Filtered_indicators_with_eligible_measurements_missing_data/Guatemala/'\n",
    "\n",
    "extension = 'csv'\n",
    "os.chdir(path_g)\n",
    "guatemala_list = glob.glob('*.{}'.format(extension))\n",
    "print(guatemala_list)\n"
   ]
  },
  {
   "cell_type": "code",
   "execution_count": 7,
   "id": "163f67c5",
   "metadata": {},
   "outputs": [
    {
     "data": {
      "text/plain": [
       "['Indicator13.1.3.csv',\n",
       " 'Indicator13.1.2.csv',\n",
       " 'Indicator8.8.2.csv',\n",
       " 'Indicator17.9.1.csv',\n",
       " 'Indicator13.1.1.csv',\n",
       " 'Indicator6.1.1.csv',\n",
       " 'Indicator3.b.1.csv',\n",
       " 'Indicator11.6.2.csv',\n",
       " 'Indicator10.4.1.csv',\n",
       " 'Indicator6.5.1.csv',\n",
       " 'Indicator1.a.2.csv',\n",
       " 'Indicator4.2.2.csv',\n",
       " 'Indicator15.8.1.csv',\n",
       " 'Indicator7.1.1.csv',\n",
       " 'Indicator17.18.3.csv',\n",
       " 'Indicator7.3.1.csv',\n",
       " 'Indicator3.9.3.csv',\n",
       " 'Indicator7.1.2.csv',\n",
       " 'Indicator17.18.2.csv',\n",
       " 'Indicator17.8.1.csv',\n",
       " 'Indicator11.5.1.csv',\n",
       " 'Indicator4.5.1.csv',\n",
       " 'Indicator5.1.1.csv',\n",
       " 'Indicator16.a.1.csv',\n",
       " 'Indicator6.2.1.csv',\n",
       " 'Indicator11.5.2.csv',\n",
       " 'Indicator12.4.2.csv',\n",
       " 'Indicator4.3.1.csv',\n",
       " 'Indicator7.2.1.csv',\n",
       " 'Indicator2.a.1.csv',\n",
       " 'Indicator6.4.2.csv',\n",
       " 'Indicator6.6.1.csv',\n",
       " 'Indicator8.b.1.csv',\n",
       " 'Indicator17.19.2.csv',\n",
       " 'Indicator3.8.1.csv',\n",
       " 'Indicator10.5.1.csv',\n",
       " 'Indicator6.4.1.csv',\n",
       " 'Indicator10.7.3.csv',\n",
       " 'Indicator11.1.1.csv',\n",
       " 'Indicator14.b.1.csv',\n",
       " 'Indicator2.c.1.csv',\n",
       " 'Indicator14.1.1.csv',\n",
       " 'Indicator12.c.1.csv',\n",
       " 'Indicator11.b.1.csv',\n",
       " 'Indicator2.2.2.csv',\n",
       " 'Indicator9.5.2.csv',\n",
       " 'Indicator3.4.1.csv',\n",
       " 'Indicator15.5.1.csv',\n",
       " 'Indicator8.3.1.csv',\n",
       " 'Indicator1.5.4.csv',\n",
       " 'Indicator8.1.1.csv',\n",
       " 'Indicator3.6.1.csv',\n",
       " 'Indicator16.6.1.csv',\n",
       " 'Indicator11.b.2.csv',\n",
       " 'Indicator2.2.1.csv',\n",
       " 'Indicator9.5.1.csv',\n",
       " 'Indicator1.3.1.csv',\n",
       " 'Indicator12.a.1.csv',\n",
       " 'Indicator7.a.1.csv',\n",
       " 'Indicator17.17.1.csv',\n",
       " 'Indicator3.4.2.csv',\n",
       " 'Indicator1.5.3.csv',\n",
       " 'Indicator14.7.1.csv',\n",
       " 'Indicator17.13.1.csv',\n",
       " 'Indicator3.2.1.csv',\n",
       " 'Indicator1.5.2.csv',\n",
       " 'Indicator9.1.2.csv',\n",
       " 'Indicator15.1.1.csv',\n",
       " 'Indicator16.2.2.csv',\n",
       " 'Indicator3.2.2.csv',\n",
       " 'Indicator17.4.1.csv',\n",
       " 'Indicator1.5.1.csv',\n",
       " 'Indicator3.3.5.csv',\n",
       " 'Indicator2.1.2.csv',\n",
       " 'Indicator15.6.1.csv',\n",
       " 'Indicator17.3.1.csv',\n",
       " 'Indicator9.4.1.csv',\n",
       " 'Indicator7.b.1.csv',\n",
       " 'Indicator12.b.1.csv',\n",
       " 'Indicator2.1.1.csv',\n",
       " 'Indicator17.1.1.csv',\n",
       " 'Indicator8.2.1.csv',\n",
       " 'Indicator17.3.2.csv',\n",
       " 'Indicator10.c.1.csv',\n",
       " 'Indicator3.3.3.csv',\n",
       " 'Indicator2.5.1.csv',\n",
       " 'Indicator1.4.1.csv',\n",
       " 'Indicator3.3.2.csv',\n",
       " 'Indicator16.3.2.csv',\n",
       " 'Indicator2.5.2.csv',\n",
       " 'Indicator3.3.1.csv',\n",
       " 'Indicator15.2.1.csv']"
      ]
     },
     "execution_count": 7,
     "metadata": {},
     "output_type": "execute_result"
    }
   ],
   "source": [
    "guatemala_list"
   ]
  },
  {
   "cell_type": "code",
   "execution_count": 9,
   "id": "56c8f230",
   "metadata": {},
   "outputs": [
    {
     "ename": "FileNotFoundError",
     "evalue": "[Errno 2] No such file or directory: '../../Data/Data_preprocessed_for_PCA/Filtered_indicators_with_eligible_measurements_missing_data/Indonesia/'",
     "output_type": "error",
     "traceback": [
      "\u001b[0;31m---------------------------------------------------------------------------\u001b[0m",
      "\u001b[0;31mFileNotFoundError\u001b[0m                         Traceback (most recent call last)",
      "\u001b[0;32m<ipython-input-9-a9ce7b0628bb>\u001b[0m in \u001b[0;36m<module>\u001b[0;34m\u001b[0m\n\u001b[1;32m      1\u001b[0m \u001b[0mpath_i\u001b[0m \u001b[0;34m=\u001b[0m \u001b[0;34m'../../Data/Data_preprocessed_for_PCA/Filtered_indicators_with_eligible_measurements_missing_data/Indonesia/'\u001b[0m\u001b[0;34m\u001b[0m\u001b[0;34m\u001b[0m\u001b[0m\n\u001b[1;32m      2\u001b[0m \u001b[0;34m\u001b[0m\u001b[0m\n\u001b[0;32m----> 3\u001b[0;31m \u001b[0mos\u001b[0m\u001b[0;34m.\u001b[0m\u001b[0mchdir\u001b[0m\u001b[0;34m(\u001b[0m\u001b[0mpath_i\u001b[0m\u001b[0;34m)\u001b[0m\u001b[0;34m\u001b[0m\u001b[0;34m\u001b[0m\u001b[0m\n\u001b[0m\u001b[1;32m      4\u001b[0m \u001b[0mindonesia_list\u001b[0m \u001b[0;34m=\u001b[0m \u001b[0mglob\u001b[0m\u001b[0;34m.\u001b[0m\u001b[0mglob\u001b[0m\u001b[0;34m(\u001b[0m\u001b[0;34m'*.{}'\u001b[0m\u001b[0;34m.\u001b[0m\u001b[0mformat\u001b[0m\u001b[0;34m(\u001b[0m\u001b[0mextension\u001b[0m\u001b[0;34m)\u001b[0m\u001b[0;34m)\u001b[0m\u001b[0;34m\u001b[0m\u001b[0;34m\u001b[0m\u001b[0m\n\u001b[1;32m      5\u001b[0m \u001b[0mprint\u001b[0m\u001b[0;34m(\u001b[0m\u001b[0mindonesia_list\u001b[0m\u001b[0;34m)\u001b[0m\u001b[0;34m\u001b[0m\u001b[0;34m\u001b[0m\u001b[0m\n",
      "\u001b[0;31mFileNotFoundError\u001b[0m: [Errno 2] No such file or directory: '../../Data/Data_preprocessed_for_PCA/Filtered_indicators_with_eligible_measurements_missing_data/Indonesia/'"
     ]
    }
   ],
   "source": [
    "path_i = '../../Data/Data_preprocessed_for_PCA/Filtered_indicators_with_eligible_measurements_missing_data/Indonesia/'\n",
    "\n",
    "os.chdir(path_i)\n",
    "indonesia_list = glob.glob('*.{}'.format(extension))\n",
    "print(indonesia_list)"
   ]
  }
 ],
 "metadata": {
  "kernelspec": {
   "display_name": "Python 3",
   "language": "python",
   "name": "python3"
  },
  "language_info": {
   "codemirror_mode": {
    "name": "ipython",
    "version": 3
   },
   "file_extension": ".py",
   "mimetype": "text/x-python",
   "name": "python",
   "nbconvert_exporter": "python",
   "pygments_lexer": "ipython3",
   "version": "3.8.8"
  }
 },
 "nbformat": 4,
 "nbformat_minor": 5
}
