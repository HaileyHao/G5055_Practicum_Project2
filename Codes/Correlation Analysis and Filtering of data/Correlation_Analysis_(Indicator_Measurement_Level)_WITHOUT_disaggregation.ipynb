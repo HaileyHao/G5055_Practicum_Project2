{
  "nbformat": 4,
  "nbformat_minor": 0,
  "metadata": {
    "colab": {
      "name": "Correlation_Analysis_(Indicator_Measurement_Level)-WITHOUT disaggregation.ipynb",
      "provenance": [],
      "collapsed_sections": []
    },
    "kernelspec": {
      "display_name": "Python 3",
      "language": "python",
      "name": "python3"
    },
    "language_info": {
      "codemirror_mode": {
        "name": "ipython",
        "version": 3
      },
      "file_extension": ".py",
      "mimetype": "text/x-python",
      "name": "python",
      "nbconvert_exporter": "python",
      "pygments_lexer": "ipython3",
      "version": "3.8.8"
    }
  },
  "cells": [
    {
      "cell_type": "code",
      "metadata": {
        "colab": {
          "base_uri": "https://localhost:8080/"
        },
        "id": "DTToHS-IoBI1",
        "outputId": "2e263d73-4f60-41a8-97bc-338e5cc2d5ff"
      },
      "source": [
        "from google.colab import drive\n",
        "drive.mount('/content/drive')"
      ],
      "execution_count": 62,
      "outputs": [
        {
          "output_type": "stream",
          "name": "stdout",
          "text": [
            "Drive already mounted at /content/drive; to attempt to forcibly remount, call drive.mount(\"/content/drive\", force_remount=True).\n"
          ]
        }
      ]
    },
    {
      "cell_type": "code",
      "metadata": {
        "id": "Emjxn116or7Y",
        "colab": {
          "base_uri": "https://localhost:8080/"
        },
        "outputId": "035b5fd2-ce65-4893-d8ef-62546f5141a1"
      },
      "source": [
        "import pandas as pd\n",
        "import numpy as np\n",
        "Indonesia=pd.read_csv('https://github.com/PeishanLi/G5055_Practicum_Project2/raw/main/Data/Indonesia.csv')\n",
        "Guatemala=pd.read_csv('https://github.com/PeishanLi/G5055_Practicum_Project2/raw/main/Data/Guatemala.csv')\n",
        "print(len(Indonesia))\n",
        "print(len(Guatemala))"
      ],
      "execution_count": 63,
      "outputs": [
        {
          "output_type": "stream",
          "name": "stdout",
          "text": [
            "4233\n",
            "4795\n"
          ]
        }
      ]
    },
    {
      "cell_type": "code",
      "metadata": {
        "colab": {
          "base_uri": "https://localhost:8080/"
        },
        "id": "AGyeVUiA69V8",
        "outputId": "3bfbb4d6-22e4-4866-988a-23dce32cd94f"
      },
      "source": [
        "print(Indonesia.columns)\n",
        "print(Guatemala.columns)"
      ],
      "execution_count": 64,
      "outputs": [
        {
          "output_type": "stream",
          "name": "stdout",
          "text": [
            "Index(['Goal', 'Target', 'Indicator', 'SeriesCode', 'SeriesDescription',\n",
            "       'GeoAreaCode', 'GeoAreaName', 'TimePeriod', 'Value', 'Time_Detail',\n",
            "       'TimeCoverage', 'UpperBound', 'LowerBound', 'BasePeriod', 'Source',\n",
            "       'GeoInfoUrl', 'FootNote', '[Substance use disorders]',\n",
            "       '[Tariff regime (status)]', '[Severity of price levels]', '[Sex]',\n",
            "       '[Deviation Level]', '[Mountain Elevation]',\n",
            "       '[Parliamentary committees]', '[Mode of transportation]',\n",
            "       '[Fiscal intervention stage]', '[Type of support]', '[Type of speed]',\n",
            "       '[Policy instruments]', '[Policy Domains]', '[Counterpart]',\n",
            "       '[Type of skill]', '[Education level]', '[Type of waste treatment]',\n",
            "       '[Location]', '[Food Waste Sector]',\n",
            "       '[Name of international agreement]', '[Reporting Type]', '[Freq]',\n",
            "       '[Type of product]', '[Cause of death]', '[Report Ordinal]',\n",
            "       '[Type of facilities]', '[Government_Name]', '[Observation Status]',\n",
            "       '[Type of occupation]', '[Type of mobile technology]',\n",
            "       '[Name of non-communicable disease]', '[Grounds of discrimination]',\n",
            "       '[Units]', '[Level/Status]', '[Age]', '[Disability status]',\n",
            "       '[Frequency of Chlorophyll-a concentration]', '[Activity]', '[Nature]',\n",
            "       '[Sampling Stations]', '[Cities]', '[Level of requirement]',\n",
            "       '[Quantile]', '[IHR Capacity]', '[Hazard type]', '[Migratory status]',\n",
            "       '[Name of international institution]'],\n",
            "      dtype='object')\n",
            "Index(['Goal', 'Target', 'Indicator', 'SeriesCode', 'SeriesDescription',\n",
            "       'GeoAreaCode', 'GeoAreaName', 'TimePeriod', 'Value', 'Time_Detail',\n",
            "       'TimeCoverage', 'UpperBound', 'LowerBound', 'BasePeriod', 'Source',\n",
            "       'GeoInfoUrl', 'FootNote', '[Substance use disorders]',\n",
            "       '[Tariff regime (status)]', '[Severity of price levels]', '[Sex]',\n",
            "       '[Deviation Level]', '[Mountain Elevation]',\n",
            "       '[Parliamentary committees]', '[Mode of transportation]',\n",
            "       '[Fiscal intervention stage]', '[Type of support]', '[Type of speed]',\n",
            "       '[Policy instruments]', '[Policy Domains]', '[Counterpart]',\n",
            "       '[Type of skill]', '[Education level]', '[Type of waste treatment]',\n",
            "       '[Location]', '[Food Waste Sector]',\n",
            "       '[Name of international agreement]', '[Reporting Type]', '[Freq]',\n",
            "       '[Type of product]', '[Cause of death]', '[Report Ordinal]',\n",
            "       '[Type of facilities]', '[Government_Name]', '[Observation Status]',\n",
            "       '[Type of occupation]', '[Type of mobile technology]',\n",
            "       '[Name of non-communicable disease]', '[Grounds of discrimination]',\n",
            "       '[Units]', '[Level/Status]', '[Age]', '[Disability status]',\n",
            "       '[Frequency of Chlorophyll-a concentration]', '[Activity]', '[Nature]',\n",
            "       '[Sampling Stations]', '[Cities]', '[Level of requirement]',\n",
            "       '[Quantile]', '[IHR Capacity]', '[Hazard type]', '[Migratory status]',\n",
            "       '[Name of international institution]'],\n",
            "      dtype='object')\n"
          ]
        }
      ]
    },
    {
      "cell_type": "code",
      "metadata": {
        "colab": {
          "base_uri": "https://localhost:8080/"
        },
        "id": "ipk777dsDIL5",
        "outputId": "07f522a7-a643-4e98-d3a7-3fdab82ab2e9"
      },
      "source": [
        "list=['[Substance use disorders]', '[Tariff regime (status)]','[Sex]',\n",
        "                                   '[Deviation Level]', '[Mountain Elevation]',\n",
        "                                   '[Parliamentary committees]', '[Mode of transportation]',\n",
        "                                   '[Type of speed]', '[Policy instruments]', '[Type of skill]',\n",
        "                                   '[Education level]', '[Location]', '[Food Waste Sector]',\n",
        "                                   '[Freq]', '[Type of product]', '[Observation Status]',\n",
        "                                   '[Type of occupation]','[Name of non-communicable disease]', '[Level/Status]',\n",
        "                                   '[Age]', '[Disability status]','[Frequency of Chlorophyll-a concentration]',\n",
        "                                   '[Activity]', '[Level of requirement]', '[Quantile]',\n",
        "                                   '[IHR Capacity]','[Name of international institution]'\n",
        "                                  ]\n",
        "for column in list:\n",
        "  print('Indonesia,',column,': ', Indonesia[column].unique())                                \n",
        "for column in list:\n",
        "  print('Guatemala,',column,': ', Guatemala[column].unique())                                          "
      ],
      "execution_count": 65,
      "outputs": [
        {
          "output_type": "stream",
          "name": "stdout",
          "text": [
            "Indonesia, [Substance use disorders] :  [nan]\n",
            "Indonesia, [Tariff regime (status)] :  [nan]\n",
            "Indonesia, [Sex] :  [nan 'FEMALE' 'MALE' 'BOTHSEX']\n",
            "Indonesia, [Deviation Level] :  [nan 'MEDIUM' 'HIGH' 'EXTREME' 'LOW']\n",
            "Indonesia, [Mountain Elevation] :  [nan '2' '1' '6' 'ALL' '3' '4' '5']\n",
            "Indonesia, [Parliamentary committees] :  [nan 'FINANCE' 'FAFF_DEF' 'GEN_EQU' 'HUM_RIGH']\n",
            "Indonesia, [Mode of transportation] :  [nan 'AIR' 'ROA' 'RAI' 'IWW' 'SEA']\n",
            "Indonesia, [Type of speed] :  [nan 'ANYS' '10MBPS' '2MT10MBPS' '256KT2MBPS']\n",
            "Indonesia, [Policy instruments] :  [nan 'POLICY_MACRO' 'POLICY_VOLSRG']\n",
            "Indonesia, [Type of skill] :  [nan 'SKILL_READ' 'SKILL_MATH' 'EPRS' 'TRAF' 'CMFL' 'EMAIL' 'SOFT' 'ARSP'\n",
            " 'INST' 'COPA' 'PCPR']\n",
            "Indonesia, [Education level] :  [nan 'LOWSEC' 'PRIMAR' 'UPPSEC' 'SECOND' '_T']\n",
            "Indonesia, [Location] :  [nan 'ALLAREA' 'RURAL' 'URBAN']\n",
            "Indonesia, [Food Waste Sector] :  [nan 'HHS' 'OOHC' 'RTL']\n",
            "Indonesia, [Freq] :  [nan 'ANNUAL']\n",
            "Indonesia, [Type of product] :  [nan 'MIL' 'MAZ' 'WHE' 'RIC' 'SOR' 'BIM' 'PET' 'NMM' 'WOD' 'NMA' 'MEO'\n",
            " 'COL' 'FEO' 'CRO' 'NMC' 'GAS' 'WCH' 'CPR' 'GBO' 'ALP' 'FOF' 'NFO' 'IND'\n",
            " 'ARM' 'CLO' 'TEX' 'OIL' 'AGR']\n",
            "Indonesia, [Observation Status] :  [nan 'A' 'I' 'O']\n",
            "Indonesia, [Type of occupation] :  [nan 'PHYS' 'DENT' 'PHAR' 'NURSMID' 'NURS' 'isco08-9' 'isco08-8'\n",
            " 'isco08-5' 'isco08' 'isco08-1' 'isco08-0' 'isco08-7' 'isco08-6'\n",
            " 'isco08-4' 'isco08-3' 'isco08-2']\n",
            "Indonesia, [Name of non-communicable disease] :  [nan 'CAR' 'RES' 'DIA' 'CAN']\n",
            "Indonesia, [Level/Status] :  [nan '_T' 'ABT2ACHIEVE' 'LS_COMPDISSE']\n",
            "Indonesia, [Age] :  [nan '15-24' '15+' '25+' 'ALLAGE' '<5Y' '15-49' '<1Y' '<1M' '30-70'\n",
            " '15-19' 'M36T59' '20-24' '46+' '<=45Y']\n",
            "Indonesia, [Disability status] :  [nan 'PWD' '_T' 'PD']\n",
            "Indonesia, [Frequency of Chlorophyll-a concentration] :  [nan 'Moderate' 'High']\n",
            "Indonesia, [Activity] :  [nan 'TOTAL' 'INDUSTRIES' 'ISIC4_A01_A0210_A0322' 'ISIC4_GTT' 'NONAGR'\n",
            " 'ISIC4_A' 'ISIC4_C' 'ISIC4_C10T32X19']\n",
            "Indonesia, [Level of requirement] :  [nan 'MINIMUM' 'ADVANCED']\n",
            "Indonesia, [Quantile] :  [nan 'Q1' '_T' 'Q3' 'Q2' 'Q4' 'Q5' 'B40']\n",
            "Indonesia, [IHR Capacity] :  [nan 'IHR05' 'IHR12' 'IHR09' 'IHR10' 'IHR04' 'IHR03' 'IHR07' 'IHR11'\n",
            " 'IHR13' 'IHR08' 'IHR06' 'IHR01' 'IHR02' 'SPAR07' 'SPAR05' 'SPAR09'\n",
            " 'SPAR11' 'SPAR08' 'SPAR06' 'SPAR12' 'SPAR04' 'SPAR10' 'SPAR03' 'SPAR02'\n",
            " 'SPAR13' 'SPAR01']\n",
            "Indonesia, [Name of international institution] :  [nan 'IMF' 'FSB' 'UNGA' 'WTO' 'ADB' 'IFC' 'IBRD' 'UNSC']\n",
            "Guatemala, [Substance use disorders] :  [nan]\n",
            "Guatemala, [Tariff regime (status)] :  [nan]\n",
            "Guatemala, [Sex] :  [nan 'FEMALE' 'BOTHSEX' 'MALE']\n",
            "Guatemala, [Deviation Level] :  [nan 'EXTREME' 'HIGH' 'MEDIUM' 'LOW']\n",
            "Guatemala, [Mountain Elevation] :  [nan '6' '5' '2' 'ALL' '4' '3']\n",
            "Guatemala, [Parliamentary committees] :  [nan 'DEFENCE' 'FINANCE' 'FOR_AFF' 'GEN_EQU' 'HUM_RIGH']\n",
            "Guatemala, [Mode of transportation] :  [nan 'AIR' 'ROA' 'IWW' 'RAI' 'SEA']\n",
            "Guatemala, [Type of speed] :  [nan 'ANYS']\n",
            "Guatemala, [Policy instruments] :  [nan 'POLICY_MACRO']\n",
            "Guatemala, [Type of skill] :  [nan 'SKILL_MATH' 'SKILL_READ']\n",
            "Guatemala, [Education level] :  [nan 'GRAD23' 'PRIMAR' 'LOWSEC' 'UPPSEC' 'SECOND' '_T']\n",
            "Guatemala, [Location] :  [nan 'URBAN' 'RURAL' 'ALLAREA']\n",
            "Guatemala, [Food Waste Sector] :  [nan 'HHS' 'OOHC' 'RTL']\n",
            "Guatemala, [Freq] :  [nan 'ANNUAL']\n",
            "Guatemala, [Type of product] :  [nan 'MIL' 'SOR' 'WHE' 'RIC' 'MAZ' 'FEO' 'GBO' 'CPR' 'CRO' 'NMA' 'COL'\n",
            " 'NMM' 'WOD' 'FOF' 'NFO' 'ALP' 'WCH' 'PET' 'NMC' 'BIM' 'MEO' 'TEX' 'AGR'\n",
            " 'IND' 'ARM' 'OIL' 'CLO']\n",
            "Guatemala, [Observation Status] :  [nan 'A' 'I']\n",
            "Guatemala, [Type of occupation] :  [nan 'NURSMID' 'DENT' 'PHYS' 'PHAR' 'NURS' 'isco08' 'isco08-1' 'isco08-2'\n",
            " 'isco08-3' 'isco08-4' 'isco08-5' 'isco08-7' 'isco08-8' 'isco08-9'\n",
            " 'isco08-6' 'isco08-0']\n",
            "Guatemala, [Name of non-communicable disease] :  [nan 'CAN' 'DIA' 'RES' 'CAR']\n",
            "Guatemala, [Level/Status] :  [nan '_T' 'ABT2INSUFNT' 'LS_DISSEM']\n",
            "Guatemala, [Age] :  [nan '15+' '25+' '15-24' 'ALLAGE' '<6Y' '<5Y' '15-49' '<1Y' '<1M' '50+'\n",
            " '<15Y' '30-70' '15-19' '20-24' '55-64' '45-54' '65+' '25-44' '7-17'\n",
            " '18-29' '<18Y' '18+' '<=45Y' '46+' '_U']\n",
            "Guatemala, [Disability status] :  [nan '_T']\n",
            "Guatemala, [Frequency of Chlorophyll-a concentration] :  [nan 'High' 'Moderate']\n",
            "Guatemala, [Activity] :  [nan 'ISIC4_GTT' 'TOTAL' 'INDUSTRIES' 'ISIC4_A01_A0210_A0322' 'NONAGR'\n",
            " 'ISIC4_A' 'ISIC4_C' 'ISIC4_C10T32X19' 'ISIC4_T']\n",
            "Guatemala, [Level of requirement] :  [nan 'ADVANCED' 'MINIMUM']\n",
            "Guatemala, [Quantile] :  [nan 'Q1' '_T' 'Q5' 'Q2' 'Q3' 'Q4' 'B50']\n",
            "Guatemala, [IHR Capacity] :  [nan 'IHR02' 'IHR03' 'IHR06' 'IHR10' 'IHR01' 'IHR11' 'IHR04' 'IHR12'\n",
            " 'IHR13' 'IHR07' 'IHR05' 'IHR08' 'IHR09' 'SPAR03' 'SPAR13' 'SPAR06'\n",
            " 'SPAR07' 'SPAR08' 'SPAR04' 'SPAR05' 'SPAR01' 'SPAR12' 'SPAR02' 'SPAR11'\n",
            " 'SPAR09' 'SPAR10']\n",
            "Guatemala, [Name of international institution] :  [nan 'ECOSOC' 'UNGA' 'IABD' 'WTO' 'IMF' 'IFC' 'IBRD']\n"
          ]
        }
      ]
    },
    {
      "cell_type": "markdown",
      "metadata": {
        "id": "r_eMLg03DwyR"
      },
      "source": [
        "The result suggests that some columns have aggregated categories:\n",
        "\n",
        "*   [Sex]: BOTHSEX\n",
        "*   [Age]: ALLAGE\n",
        "*   [Mountain Elevation]: ALL\n",
        "*   [Location]: ALLAREA\n",
        "*   [Activity]: Total\n",
        "\n",
        "This means when eliminating disaggregation the entries should be kept, even though they might have 'by' that indicates disaggregation in their series descriptions.\n",
        "\n",
        "\n",
        "\n"
      ]
    },
    {
      "cell_type": "code",
      "metadata": {
        "id": "ALcfWHT9QIQy",
        "colab": {
          "base_uri": "https://localhost:8080/"
        },
        "outputId": "2d592564-7545-41f0-a55c-eeb33ebaba44"
      },
      "source": [
        "#Eliminate disaggregation rows from dataset\n",
        "def eliminate_disaggregation(df):\n",
        "  idx=(df['SeriesDescription'].str.contains('by')==False)|((df['SeriesDescription'].str.contains('by')==True) & ((df['[Sex]']=='BOTHSEX') | (df['[Age]']=='ALLAGE') | (df['[Mountain Elevation]']=='ALL') | (df['[Location]']=='ALLAREA') | (df['[Activity]']=='Total')))\n",
        "  df=df[idx]\n",
        "  print(len(df))\n",
        "  #Note that there are also measurements disaggregated by a combination of the above mentioned categories\n",
        "  #'by sex and age', 'by age and sex', 'by sex, location'\n",
        "  idx2=(df['SeriesDescription'].str.contains('by sex and age')==False) | ((df['SeriesDescription'].str.contains('by sex and age')==True) & (df['[Sex]']=='BOTHSEX') & (df['[Age]']=='ALLAGE'))\n",
        "  df=df[idx2]\n",
        "  print(len(df))\n",
        "  idx3=(df['SeriesDescription'].str.contains('by age and sex')==False) | ((df['SeriesDescription'].str.contains('by age and sex')==True) & (df['[Sex]']=='BOTHSEX') & (df['[Age]']=='ALLAGE'))\n",
        "  df=df[idx3]\n",
        "  print(len(df))\n",
        "  idx4=(df['SeriesDescription'].str.contains('by sex, location')==False) | ((df['SeriesDescription'].str.contains('by sex, location')==True) & (df['[Sex]']=='BOTHSEX') & (df['[Location]']=='ALLAREA'))\n",
        "  df=df[idx4]\n",
        "  print(len(df))\n",
        "  return df\n",
        "Indonesia=eliminate_disaggregation(Indonesia)\n",
        "Guatemala=eliminate_disaggregation(Guatemala)\n",
        "Indonesia.to_csv('/content/drive/MyDrive/Colab Notebooks/Practicum SDG Networks/Data/Indonesia Data Without Disaggregation.csv')\n",
        "Guatemala.to_csv('/content/drive/MyDrive/Colab Notebooks/Practicum SDG Networks/Data/Guatmala Data Without Disaggregation.csv')\n",
        "print('length of Indonesia data processed and without disaggregation:', len(Indonesia))\n",
        "print('length of Guatemala data processed and without disaggregation:', len(Guatemala))"
      ],
      "execution_count": 66,
      "outputs": [
        {
          "output_type": "stream",
          "name": "stdout",
          "text": [
            "2221\n",
            "2174\n",
            "2174\n",
            "2078\n",
            "2553\n",
            "2459\n",
            "2451\n",
            "2283\n",
            "length of Indonesia data processed and without disaggregation: 2078\n",
            "length of Guatemala data processed and without disaggregation: 2283\n"
          ]
        }
      ]
    },
    {
      "cell_type": "code",
      "metadata": {
        "colab": {
          "base_uri": "https://localhost:8080/"
        },
        "id": "rSCQannr53Ki",
        "outputId": "2f4c87e7-d356-457b-b350-53f052b20573"
      },
      "source": [
        "Indonesia.SeriesCode"
      ],
      "execution_count": 67,
      "outputs": [
        {
          "output_type": "execute_result",
          "data": {
            "text/plain": [
              "0        SI_POV_DAY1\n",
              "1        SI_POV_DAY1\n",
              "2        SI_POV_DAY1\n",
              "3        SI_POV_DAY1\n",
              "4        SI_POV_DAY1\n",
              "            ...     \n",
              "4227    DC_FTA_TOTAL\n",
              "4228    DC_FTA_TOTAL\n",
              "4229    DC_FTA_TOTAL\n",
              "4230    DC_FTA_TOTAL\n",
              "4231    DC_FTA_TOTAL\n",
              "Name: SeriesCode, Length: 2078, dtype: object"
            ]
          },
          "metadata": {},
          "execution_count": 67
        }
      ]
    },
    {
      "cell_type": "code",
      "metadata": {
        "id": "6BShIRDhjSKR"
      },
      "source": [
        "def preprocess_for_correlation(df): \n",
        "    df_copy=df.copy()\n",
        "\n",
        "    # If a column with unique identifying info has nothing, we then will have blanks for those fields - otherwise concatenating the text will be NanNan etc. \n",
        "    df_copy=df_copy.fillna('')\n",
        "\n",
        "    # Concatenated Column with a number of identifiers \n",
        "    df_copy['UniqueID']=df_copy[['SeriesCode','[Sex]',\\\n",
        "                                   '[Deviation Level]', '[Mountain Elevation]',\\\n",
        "                                   '[Parliamentary committees]', '[Mode of transportation]',\\\n",
        "                                   '[Type of speed]', '[Policy instruments]', '[Type of skill]',\\\n",
        "                                   '[Education level]', '[Location]', '[Food Waste Sector]',\\\n",
        "                                   '[Freq]', '[Type of product]', '[Observation Status]',\\\n",
        "                                   '[Type of occupation]','[Name of non-communicable disease]', '[Level/Status]',\\\n",
        "                                   '[Age]', '[Disability status]','[Frequency of Chlorophyll-a concentration]',\\\n",
        "                                   '[Activity]', '[Level of requirement]', '[Quantile]',\\\n",
        "                                   '[IHR Capacity]','[Name of international institution]'\\\n",
        "                                  ]].apply(lambda x: ' '.join(x), axis=1)\n",
        "    duplicates=df_copy[df_copy.duplicated(subset=['UniqueID','Goal', 'Target', 'Indicator',\\\n",
        "                                      'SeriesCode', 'SeriesDescription','Source','TimePeriod'])]\n",
        "    duplicates # if you print duplicates (outside of this function) you will find a small number of duplicate columns; \n",
        "    # however when I looked at them, the values were largely consistent - the only differing column I could find was Value. \n",
        "    # Let me know if you think this should be done differently. \n",
        "    \n",
        "    # For the time being I will remove columns that are duplicates across all columns (less that of 'Values')\n",
        "    df_copy=df_copy[['UniqueID','Source','Goal', 'Target', 'Indicator', 'SeriesCode', 'SeriesDescription','[Units]','[Nature]',\n",
        "       'GeoAreaCode', 'GeoAreaName', 'Time_Detail', 'Value','[Reporting Type]','TimePeriod']].drop_duplicates(subset=['UniqueID','Source','Goal', 'Target', 'Indicator', 'SeriesCode', 'SeriesDescription','[Units]','[Nature]',\n",
        "       'GeoAreaCode', 'GeoAreaName', 'Time_Detail','[Reporting Type]','TimePeriod'])\n",
        "    df_copy=df_copy[['UniqueID','Goal', 'Target', 'Indicator', 'SeriesCode','TimePeriod','Value']].drop_duplicates(subset=['UniqueID', 'Goal', 'Target', 'Indicator', 'SeriesCode', 'TimePeriod'])   \n",
        "    df_copy=df_copy.dropna()\n",
        "    df_copy['Value']=pd.to_numeric(df_copy['Value'])\n",
        "    return df_copy"
      ],
      "execution_count": 68,
      "outputs": []
    },
    {
      "cell_type": "code",
      "metadata": {
        "colab": {
          "base_uri": "https://localhost:8080/"
        },
        "id": "3barn4Rhozoc",
        "outputId": "c0109c35-6664-4a69-908c-9620c91a1217"
      },
      "source": [
        "processedIndo=preprocess_for_correlation(Indonesia)\n",
        "print(processedIndo)\n",
        "processedIndo.to_csv('/content/drive/MyDrive/Colab Notebooks/Practicum SDG Networks/Data/processedIndo.csv')"
      ],
      "execution_count": 69,
      "outputs": [
        {
          "output_type": "stream",
          "name": "stdout",
          "text": [
            "                                   UniqueID  Goal  ... TimePeriod       Value\n",
            "0      SI_POV_DAY1                            1.0  ...     2012.0     9.50000\n",
            "1      SI_POV_DAY1                            1.0  ...     2013.0     7.30000\n",
            "2      SI_POV_DAY1                            1.0  ...     2014.0     6.20000\n",
            "3      SI_POV_DAY1                            1.0  ...     2015.0     5.80000\n",
            "4      SI_POV_DAY1                            1.0  ...     2016.0     5.20000\n",
            "...                                     ...   ...  ...        ...         ...\n",
            "4227  DC_FTA_TOTAL                           17.0  ...     2015.0  3409.18378\n",
            "4228  DC_FTA_TOTAL                           17.0  ...     2016.0  1053.97416\n",
            "4229  DC_FTA_TOTAL                           17.0  ...     2017.0  1168.49150\n",
            "4230  DC_FTA_TOTAL                           17.0  ...     2018.0  2042.80551\n",
            "4231  DC_FTA_TOTAL                           17.0  ...     2019.0   886.47354\n",
            "\n",
            "[2076 rows x 7 columns]\n"
          ]
        }
      ]
    },
    {
      "cell_type": "code",
      "metadata": {
        "id": "pbWsShzIme0J"
      },
      "source": [
        "def calculate_correlation(df):\n",
        "  Allindicators=df['Indicator'].drop_duplicates()\n",
        "  for indicator in Allindicators:\n",
        "    AllID=df['UniqueID'].unique()\n",
        "    if len(AllID)>1:\n",
        "      group=df[df['Indicator']==indicator]\n",
        "      group=group.drop(columns=['Goal','Target','Indicator','SeriesCode'],axis=1)\n",
        "      group_pivot=group.pivot(index=['TimePeriod'], columns=['UniqueID'], values='Value').reset_index()\n",
        "      group_pivot=group_pivot.apply(lambda x:x.astype(float))\n",
        "      correlation=group_pivot.corr()\n",
        "      correlation=pd.DataFrame(correlation)\n",
        "      correlation=correlation.drop('TimePeriod', axis=1)\n",
        "      correlation=correlation.drop('TimePeriod', axis=0)\n",
        "      path='/content/drive/MyDrive/Colab Notebooks/Practicum SDG Networks/Data/Indonesia Correlation among measurements/Indicator '+indicator+'.csv'\n",
        "      correlation.to_csv(path)\n",
        "      print('Indicator '+indicator+' completed')"
      ],
      "execution_count": 70,
      "outputs": []
    },
    {
      "cell_type": "code",
      "metadata": {
        "colab": {
          "base_uri": "https://localhost:8080/"
        },
        "id": "TVpz002l5BXT",
        "outputId": "60c58ce9-f5b5-41c7-ac2c-4ebf29825147"
      },
      "source": [
        "calculate_correlation(processedIndo)"
      ],
      "execution_count": 71,
      "outputs": [
        {
          "output_type": "stream",
          "name": "stdout",
          "text": [
            "Indicator 1.1.1 completed\n",
            "Indicator 1.2.1 completed\n",
            "Indicator 1.3.1 completed\n",
            "Indicator 1.4.1 completed\n",
            "Indicator 1.4.2 completed\n",
            "Indicator 1.5.2 completed\n",
            "Indicator 1.5.1 completed\n",
            "Indicator 1.5.3 completed\n",
            "Indicator 1.5.4 completed\n",
            "Indicator 1.a.2 completed\n",
            "Indicator 2.1.1 completed\n",
            "Indicator 2.1.2 completed\n",
            "Indicator 2.2.1 completed\n",
            "Indicator 2.2.2 completed\n",
            "Indicator 2.2.3 completed\n",
            "Indicator 2.3.1 completed\n",
            "Indicator 2.3.2 completed\n",
            "Indicator 2.5.1 completed\n",
            "Indicator 2.5.2 completed\n",
            "Indicator 2.a.1 completed\n",
            "Indicator 2.b.1 completed\n",
            "Indicator 2.c.1 completed\n",
            "Indicator 3.1.1 completed\n",
            "Indicator 3.2.1 completed\n",
            "Indicator 3.2.2 completed\n",
            "Indicator 3.3.3 completed\n",
            "Indicator 3.3.5 completed\n",
            "Indicator 3.3.2 completed\n",
            "Indicator 3.3.4 completed\n",
            "Indicator 3.4.1 completed\n",
            "Indicator 3.4.2 completed\n",
            "Indicator 3.5.2 completed\n",
            "Indicator 3.5.1 completed\n",
            "Indicator 3.6.1 completed\n",
            "Indicator 3.7.1 completed\n",
            "Indicator 3.7.2 completed\n",
            "Indicator 3.8.2 completed\n",
            "Indicator 3.8.1 completed\n",
            "Indicator 3.9.1 completed\n",
            "Indicator 3.9.3 completed\n",
            "Indicator 3.9.2 completed\n",
            "Indicator 3.a.1 completed\n",
            "Indicator 3.b.1 completed\n",
            "Indicator 3.d.2 completed\n",
            "Indicator 4.1.1 completed\n",
            "Indicator 4.1.2 completed\n",
            "Indicator 4.2.2 completed\n",
            "Indicator 4.2.1 completed\n",
            "Indicator 4.3.1 completed\n",
            "Indicator 4.4.1 completed\n",
            "Indicator 4.5.1 completed\n",
            "Indicator 4.7.1 completed\n",
            "Indicator 5.3.1 completed\n",
            "Indicator 5.5.2 completed\n",
            "Indicator 5.5.1 completed\n",
            "Indicator 5.a.1 completed\n",
            "Indicator 5.a.2 completed\n",
            "Indicator 5.b.1 completed\n",
            "Indicator 6.2.1 completed\n",
            "Indicator 6.4.2 completed\n",
            "Indicator 6.4.1 completed\n",
            "Indicator 6.5.2 completed\n",
            "Indicator 6.5.1 completed\n",
            "Indicator 6.6.1 completed\n",
            "Indicator 7.1.2 completed\n",
            "Indicator 7.1.1 completed\n",
            "Indicator 7.2.1 completed\n",
            "Indicator 7.3.1 completed\n",
            "Indicator 7.a.1 completed\n",
            "Indicator 7.b.1 completed\n",
            "Indicator 8.1.1 completed\n",
            "Indicator 8.10.1 completed\n",
            "Indicator 8.10.2 completed\n",
            "Indicator 8.2.1 completed\n",
            "Indicator 8.3.1 completed\n",
            "Indicator 8.5.1 completed\n",
            "Indicator 8.5.2 completed\n",
            "Indicator 8.8.2 completed\n",
            "Indicator 8.9.1 completed\n",
            "Indicator 8.b.1 completed\n",
            "Indicator 9.1.2 completed\n",
            "Indicator 9.2.1 completed\n",
            "Indicator 9.2.2 completed\n",
            "Indicator 9.3.1 completed\n",
            "Indicator 9.3.2 completed\n",
            "Indicator 9.4.1 completed\n",
            "Indicator 9.5.2 completed\n",
            "Indicator 9.5.1 completed\n",
            "Indicator 9.b.1 completed\n",
            "Indicator 10.1.1 completed\n",
            "Indicator 10.4.1 completed\n",
            "Indicator 10.4.2 completed\n",
            "Indicator 10.5.1 completed\n",
            "Indicator 10.7.3 completed\n",
            "Indicator 10.a.1 completed\n",
            "Indicator 10.c.1 completed\n",
            "Indicator 11.1.1 completed\n",
            "Indicator 11.5.2 completed\n",
            "Indicator 11.5.1 completed\n",
            "Indicator 11.6.2 completed\n",
            "Indicator 11.a.1 completed\n",
            "Indicator 11.b.1 completed\n",
            "Indicator 11.b.2 completed\n",
            "Indicator 12.1.1 completed\n",
            "Indicator 12.3.1 completed\n",
            "Indicator 12.4.1 completed\n",
            "Indicator 12.4.2 completed\n",
            "Indicator 12.8.1 completed\n",
            "Indicator 12.a.1 completed\n",
            "Indicator 12.b.1 completed\n",
            "Indicator 12.c.1 completed\n",
            "Indicator 13.1.1 completed\n",
            "Indicator 13.1.2 completed\n",
            "Indicator 13.1.3 completed\n",
            "Indicator 13.3.1 completed\n",
            "Indicator 14.1.1 completed\n",
            "Indicator 14.4.1 completed\n",
            "Indicator 14.5.1 completed\n",
            "Indicator 14.7.1 completed\n",
            "Indicator 14.b.1 completed\n",
            "Indicator 15.1.1 completed\n",
            "Indicator 15.2.1 completed\n",
            "Indicator 15.3.1 completed\n",
            "Indicator 15.4.2 completed\n",
            "Indicator 15.5.1 completed\n",
            "Indicator 15.6.1 completed\n",
            "Indicator 15.8.1 completed\n",
            "Indicator 15.9.1 completed\n",
            "Indicator 16.1.4 completed\n",
            "Indicator 16.10.2 completed\n",
            "Indicator 16.2.2 completed\n",
            "Indicator 16.3.2 completed\n",
            "Indicator 16.5.2 completed\n",
            "Indicator 16.6.1 completed\n",
            "Indicator 16.7.1 completed\n",
            "Indicator 16.9.1 completed\n",
            "Indicator 16.a.1 completed\n",
            "Indicator 17.1.1 completed\n",
            "Indicator 17.13.1 completed\n",
            "Indicator 17.17.1 completed\n",
            "Indicator 17.18.3 completed\n",
            "Indicator 17.18.2 completed\n",
            "Indicator 17.19.1 completed\n",
            "Indicator 17.3.2 completed\n",
            "Indicator 17.3.1 completed\n",
            "Indicator 17.4.1 completed\n",
            "Indicator 17.8.1 completed\n",
            "Indicator 17.9.1 completed\n"
          ]
        }
      ]
    },
    {
      "cell_type": "code",
      "metadata": {
        "colab": {
          "base_uri": "https://localhost:8080/"
        },
        "id": "o06iUBXHdT95",
        "outputId": "403bff68-a047-4b42-d386-1e0058401a45"
      },
      "source": [
        "processedGuate=preprocess_for_correlation(Guatemala)\n",
        "print(processedGuate)\n",
        "#processedGuate.to_csv('/content/drive/MyDrive/Colab Notebooks/Practicum SDG Networks/Data/processedGuate.csv')"
      ],
      "execution_count": 72,
      "outputs": [
        {
          "output_type": "stream",
          "name": "stdout",
          "text": [
            "                                               UniqueID  ...      Value\n",
            "0                  SI_POV_DAY1                           ...    8.80000\n",
            "64            SI_POV_NAHC          URBAN                 ...   42.20000\n",
            "65            SI_POV_NAHC          RURAL                 ...   76.10000\n",
            "66          SI_POV_NAHC          ALLAREA                 ...   59.30000\n",
            "67    SD_MDP_MUHC BOTHSEX         ALLAREA        ALL...  ...   61.60000\n",
            "...                                                 ...  ...        ...\n",
            "4789              DC_FTA_TOTAL                           ...   48.66068\n",
            "4790              DC_FTA_TOTAL                           ...   77.71732\n",
            "4791              DC_FTA_TOTAL                           ...   94.32348\n",
            "4792              DC_FTA_TOTAL                           ...  289.73249\n",
            "4793              DC_FTA_TOTAL                           ...   61.08202\n",
            "\n",
            "[2281 rows x 7 columns]\n"
          ]
        }
      ]
    },
    {
      "cell_type": "code",
      "metadata": {
        "id": "zCAxJImdn1QZ"
      },
      "source": [
        "#measures_each_indicator(processedGuate)"
      ],
      "execution_count": 73,
      "outputs": []
    },
    {
      "cell_type": "code",
      "metadata": {
        "id": "ThjG6j-UdqKm"
      },
      "source": [
        "def calculate_correlation(df):\n",
        "  Allindicators=df['Indicator'].drop_duplicates()\n",
        "  for indicator in Allindicators:\n",
        "    AllID=df['UniqueID'].unique()\n",
        "    if len(AllID)>1:\n",
        "      group=df[df['Indicator']==indicator]\n",
        "      group=group.drop(columns=['Goal','Target','Indicator','SeriesCode'],axis=1)\n",
        "      group_pivot=group.pivot(index=['TimePeriod'],columns=['UniqueID'],values='Value').reset_index()\n",
        "      group_pivot=group_pivot.apply(lambda x:x.astype(float))\n",
        "      correlation=group_pivot.corr()\n",
        "      correlation=correlation.drop('TimePeriod', axis=1)\n",
        "      correlation=correlation.drop('TimePeriod', axis=0)\n",
        "      path='/content/drive/MyDrive/Colab Notebooks/Practicum SDG Networks/Data/Guatemala Correlation among measurements/Indicator '+indicator+'.csv'\n",
        "      correlation.to_csv(path)\n",
        "      print('Indicator '+indicator+' completed')"
      ],
      "execution_count": 74,
      "outputs": []
    },
    {
      "cell_type": "code",
      "metadata": {
        "colab": {
          "base_uri": "https://localhost:8080/"
        },
        "id": "tbOHc1_JeA3b",
        "outputId": "126bff36-107f-4dce-92e7-18ba2363b123"
      },
      "source": [
        "calculate_correlation(processedGuate)"
      ],
      "execution_count": 75,
      "outputs": [
        {
          "output_type": "stream",
          "name": "stdout",
          "text": [
            "Indicator 1.1.1 completed\n",
            "Indicator 1.2.1 completed\n",
            "Indicator 1.2.2 completed\n",
            "Indicator 1.3.1 completed\n",
            "Indicator 1.4.1 completed\n",
            "Indicator 1.5.2 completed\n",
            "Indicator 1.5.1 completed\n",
            "Indicator 1.5.3 completed\n",
            "Indicator 1.5.4 completed\n",
            "Indicator 1.a.2 completed\n",
            "Indicator 2.1.1 completed\n",
            "Indicator 2.1.2 completed\n",
            "Indicator 2.2.1 completed\n",
            "Indicator 2.2.2 completed\n",
            "Indicator 2.2.3 completed\n",
            "Indicator 2.3.1 completed\n",
            "Indicator 2.3.2 completed\n",
            "Indicator 2.5.1 completed\n",
            "Indicator 2.5.2 completed\n",
            "Indicator 2.a.1 completed\n",
            "Indicator 2.c.1 completed\n",
            "Indicator 3.1.1 completed\n",
            "Indicator 3.2.1 completed\n",
            "Indicator 3.2.2 completed\n",
            "Indicator 3.3.1 completed\n",
            "Indicator 3.3.3 completed\n",
            "Indicator 3.3.5 completed\n",
            "Indicator 3.3.2 completed\n",
            "Indicator 3.3.4 completed\n",
            "Indicator 3.4.1 completed\n",
            "Indicator 3.4.2 completed\n",
            "Indicator 3.5.2 completed\n",
            "Indicator 3.5.1 completed\n",
            "Indicator 3.6.1 completed\n",
            "Indicator 3.7.1 completed\n",
            "Indicator 3.7.2 completed\n",
            "Indicator 3.8.2 completed\n",
            "Indicator 3.8.1 completed\n",
            "Indicator 3.9.1 completed\n",
            "Indicator 3.9.3 completed\n",
            "Indicator 3.9.2 completed\n",
            "Indicator 3.b.1 completed\n",
            "Indicator 4.1.1 completed\n",
            "Indicator 4.1.2 completed\n",
            "Indicator 4.2.2 completed\n",
            "Indicator 4.3.1 completed\n",
            "Indicator 4.5.1 completed\n",
            "Indicator 4.7.1 completed\n",
            "Indicator 5.1.1 completed\n",
            "Indicator 5.3.1 completed\n",
            "Indicator 5.4.1 completed\n",
            "Indicator 5.5.2 completed\n",
            "Indicator 5.5.1 completed\n",
            "Indicator 5.6.1 completed\n",
            "Indicator 5.6.2 completed\n",
            "Indicator 5.a.1 completed\n",
            "Indicator 5.a.2 completed\n",
            "Indicator 5.c.1 completed\n",
            "Indicator 6.1.1 completed\n",
            "Indicator 6.2.1 completed\n",
            "Indicator 6.4.2 completed\n",
            "Indicator 6.4.1 completed\n",
            "Indicator 6.5.2 completed\n",
            "Indicator 6.5.1 completed\n",
            "Indicator 6.6.1 completed\n",
            "Indicator 7.1.2 completed\n",
            "Indicator 7.1.1 completed\n",
            "Indicator 7.2.1 completed\n",
            "Indicator 7.3.1 completed\n",
            "Indicator 7.a.1 completed\n",
            "Indicator 7.b.1 completed\n",
            "Indicator 8.1.1 completed\n",
            "Indicator 8.10.1 completed\n",
            "Indicator 8.10.2 completed\n",
            "Indicator 8.2.1 completed\n",
            "Indicator 8.3.1 completed\n",
            "Indicator 8.5.1 completed\n",
            "Indicator 8.8.2 completed\n",
            "Indicator 8.b.1 completed\n",
            "Indicator 9.1.2 completed\n",
            "Indicator 9.2.1 completed\n",
            "Indicator 9.2.2 completed\n",
            "Indicator 9.3.2 completed\n",
            "Indicator 9.4.1 completed\n",
            "Indicator 9.5.2 completed\n",
            "Indicator 9.5.1 completed\n",
            "Indicator 9.b.1 completed\n",
            "Indicator 10.2.1 completed\n",
            "Indicator 10.4.1 completed\n",
            "Indicator 10.4.2 completed\n",
            "Indicator 10.5.1 completed\n",
            "Indicator 10.7.3 completed\n",
            "Indicator 10.a.1 completed\n",
            "Indicator 10.c.1 completed\n",
            "Indicator 11.1.1 completed\n",
            "Indicator 11.5.2 completed\n",
            "Indicator 11.5.1 completed\n",
            "Indicator 11.6.2 completed\n",
            "Indicator 11.a.1 completed\n",
            "Indicator 11.b.1 completed\n",
            "Indicator 11.b.2 completed\n",
            "Indicator 12.1.1 completed\n",
            "Indicator 12.3.1 completed\n",
            "Indicator 12.4.1 completed\n",
            "Indicator 12.4.2 completed\n",
            "Indicator 12.8.1 completed\n",
            "Indicator 12.a.1 completed\n",
            "Indicator 12.b.1 completed\n",
            "Indicator 12.c.1 completed\n",
            "Indicator 13.1.1 completed\n",
            "Indicator 13.1.2 completed\n",
            "Indicator 13.1.3 completed\n",
            "Indicator 13.3.1 completed\n",
            "Indicator 14.1.1 completed\n",
            "Indicator 14.4.1 completed\n",
            "Indicator 14.5.1 completed\n",
            "Indicator 14.7.1 completed\n",
            "Indicator 14.b.1 completed\n",
            "Indicator 15.1.1 completed\n",
            "Indicator 15.2.1 completed\n",
            "Indicator 15.3.1 completed\n",
            "Indicator 15.4.2 completed\n",
            "Indicator 15.5.1 completed\n",
            "Indicator 15.6.1 completed\n",
            "Indicator 15.8.1 completed\n",
            "Indicator 15.9.1 completed\n",
            "Indicator 16.10.2 completed\n",
            "Indicator 16.2.2 completed\n",
            "Indicator 16.3.2 completed\n",
            "Indicator 16.5.2 completed\n",
            "Indicator 16.6.1 completed\n",
            "Indicator 16.7.1 completed\n",
            "Indicator 16.9.1 completed\n",
            "Indicator 16.a.1 completed\n",
            "Indicator 17.1.1 completed\n",
            "Indicator 17.13.1 completed\n",
            "Indicator 17.17.1 completed\n",
            "Indicator 17.18.3 completed\n",
            "Indicator 17.18.2 completed\n",
            "Indicator 17.19.2 completed\n",
            "Indicator 17.19.1 completed\n",
            "Indicator 17.3.2 completed\n",
            "Indicator 17.3.1 completed\n",
            "Indicator 17.4.1 completed\n",
            "Indicator 17.8.1 completed\n",
            "Indicator 17.9.1 completed\n"
          ]
        }
      ]
    }
  ]
}