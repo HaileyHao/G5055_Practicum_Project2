{
  "nbformat": 4,
  "nbformat_minor": 0,
  "metadata": {
    "colab": {
      "name": "Correlation_Analysis_(Indicator_Measurement_Level).ipynb",
      "provenance": [],
      "collapsed_sections": []
    },
    "kernelspec": {
      "display_name": "Python 3",
      "language": "python",
      "name": "python3"
    },
    "language_info": {
      "codemirror_mode": {
        "name": "ipython",
        "version": 3
      },
      "file_extension": ".py",
      "mimetype": "text/x-python",
      "name": "python",
      "nbconvert_exporter": "python",
      "pygments_lexer": "ipython3",
      "version": "3.8.8"
    }
  },
  "cells": [
    {
      "cell_type": "code",
      "metadata": {
        "colab": {
          "base_uri": "https://localhost:8080/"
        },
        "id": "DTToHS-IoBI1",
        "outputId": "1771771e-e2c5-45b8-fdd8-20c892646f4e"
      },
      "source": [
        "from google.colab import drive\n",
        "drive.mount('/content/drive')"
      ],
      "execution_count": 2,
      "outputs": [
        {
          "output_type": "stream",
          "name": "stdout",
          "text": [
            "Mounted at /content/drive\n"
          ]
        }
      ]
    },
    {
      "cell_type": "code",
      "metadata": {
        "id": "Emjxn116or7Y",
        "colab": {
          "base_uri": "https://localhost:8080/"
        },
        "outputId": "e4596f5b-4b14-41cd-91f0-a435f08aa6a3"
      },
      "source": [
        "import pandas as pd\n",
        "import numpy as np\n",
        "Indonesia=pd.read_csv('https://github.com/PeishanLi/G5055_Practicum_Project2/raw/main/Data/Indonesia.csv')\n",
        "Guatemala=pd.read_csv('https://github.com/PeishanLi/G5055_Practicum_Project2/raw/main/Data/Guatemala.csv')\n",
        "print(Indonesia.size)\n",
        "print(Guatemala.size)"
      ],
      "execution_count": 44,
      "outputs": [
        {
          "output_type": "stream",
          "name": "stdout",
          "text": [
            "270912\n",
            "306880\n"
          ]
        }
      ]
    },
    {
      "cell_type": "code",
      "metadata": {
        "colab": {
          "base_uri": "https://localhost:8080/"
        },
        "id": "ALcfWHT9QIQy",
        "outputId": "a0d926c1-e038-4aa6-ad48-7bfd93afa545"
      },
      "source": [
        "#Eliminate disaggregation rows from dataset\n",
        "Indonesia=Indonesia[Indonesia['SeriesDescription'].str.contains('by')==False]\n",
        "Guatemala=Guatemala[Guatemala['SeriesDescription'].str.contains('by')==False]\n",
        "print(Indonesia.size)\n",
        "print(Guatemala.size)"
      ],
      "execution_count": 45,
      "outputs": [
        {
          "output_type": "stream",
          "name": "stdout",
          "text": [
            "115904\n",
            "122880\n"
          ]
        }
      ]
    },
    {
      "cell_type": "code",
      "metadata": {
        "id": "6BShIRDhjSKR"
      },
      "source": [
        "def preprocess_for_correlation(df): \n",
        "    df_copy=df.copy()\n",
        "\n",
        "    # If a column with unique identifying info has nothing, we then will have blanks for those fields - otherwise concatenating the text will be NanNan etc. \n",
        "    df_copy=df_copy.fillna('')\n",
        "\n",
        "    # Concatenated Column with a number of identifiers \n",
        "    df_copy['UniqueID']=df_copy[['SeriesCode','[Sex]',\\\n",
        "                                   '[Deviation Level]', '[Mountain Elevation]',\\\n",
        "                                   '[Parliamentary committees]', '[Mode of transportation]',\\\n",
        "                                   '[Type of speed]', '[Policy instruments]', '[Type of skill]',\\\n",
        "                                   '[Education level]', '[Location]', '[Food Waste Sector]',\\\n",
        "                                   '[Freq]', '[Type of product]', '[Observation Status]',\\\n",
        "                                   '[Type of occupation]','[Name of non-communicable disease]', '[Level/Status]',\\\n",
        "                                   '[Age]', '[Disability status]','[Frequency of Chlorophyll-a concentration]',\\\n",
        "                                   '[Activity]', '[Level of requirement]', '[Quantile]',\\\n",
        "                                   '[IHR Capacity]','[Name of international institution]'\\\n",
        "                                  ]].apply(lambda x: ' '.join(x), axis=1)\n",
        "    duplicates=df_copy[df_copy.duplicated(subset=['UniqueID','Goal', 'Target', 'Indicator',\\\n",
        "                                      'SeriesCode', 'SeriesDescription','Source','TimePeriod'])]\n",
        "    duplicates # if you print duplicates (outside of this function) you will find a small number of duplicate columns; \n",
        "    # however when I looked at them, the values were largely consistent - the only differing column I could find was Value. \n",
        "    # Let me know if you think this should be done differently. \n",
        "    \n",
        "    # For the time being I will remove columns that are duplicates across all columns (less that of 'Values')\n",
        "    df_copy=df_copy[['UniqueID','Source','Goal', 'Target', 'Indicator', 'SeriesCode', 'SeriesDescription','[Units]','[Nature]',\n",
        "       'GeoAreaCode', 'GeoAreaName', 'Time_Detail', 'Value','[Reporting Type]','TimePeriod']].drop_duplicates(subset=['UniqueID','Source','Goal', 'Target', 'Indicator', 'SeriesCode', 'SeriesDescription','[Units]','[Nature]',\n",
        "       'GeoAreaCode', 'GeoAreaName', 'Time_Detail','[Reporting Type]','TimePeriod'])\n",
        "    df_copy=df_copy[['UniqueID','Goal', 'Target', 'Indicator', 'SeriesCode','TimePeriod','Value']].drop_duplicates(subset=['UniqueID', 'Goal', 'Target', 'Indicator', 'SeriesCode', 'TimePeriod'])   \n",
        "    df_copy=df_copy.dropna()\n",
        "    df_copy['Value']=pd.to_numeric(df_copy['Value'])\n",
        "    return df_copy"
      ],
      "execution_count": 46,
      "outputs": []
    },
    {
      "cell_type": "code",
      "metadata": {
        "colab": {
          "base_uri": "https://localhost:8080/"
        },
        "id": "3barn4Rhozoc",
        "outputId": "147788ef-15e3-404f-d295-e917ef75f709"
      },
      "source": [
        "processedIndo=preprocess_for_correlation(Indonesia)\n",
        "print(processedIndo)\n",
        "processedIndo.to_csv('/content/drive/MyDrive/Colab Notebooks/Practicum SDG Networks/Data/processedIndo.csv')"
      ],
      "execution_count": 49,
      "outputs": [
        {
          "output_type": "stream",
          "name": "stdout",
          "text": [
            "                                   UniqueID  Goal  ... TimePeriod       Value\n",
            "0      SI_POV_DAY1                            1.0  ...     2012.0     9.50000\n",
            "1      SI_POV_DAY1                            1.0  ...     2013.0     7.30000\n",
            "2      SI_POV_DAY1                            1.0  ...     2014.0     6.20000\n",
            "3      SI_POV_DAY1                            1.0  ...     2015.0     5.80000\n",
            "4      SI_POV_DAY1                            1.0  ...     2016.0     5.20000\n",
            "...                                     ...   ...  ...        ...         ...\n",
            "4227  DC_FTA_TOTAL                           17.0  ...     2015.0  3409.18378\n",
            "4228  DC_FTA_TOTAL                           17.0  ...     2016.0  1053.97416\n",
            "4229  DC_FTA_TOTAL                           17.0  ...     2017.0  1168.49150\n",
            "4230  DC_FTA_TOTAL                           17.0  ...     2018.0  2042.80551\n",
            "4231  DC_FTA_TOTAL                           17.0  ...     2019.0   886.47354\n",
            "\n",
            "[1809 rows x 7 columns]\n"
          ]
        }
      ]
    },
    {
      "cell_type": "code",
      "metadata": {
        "id": "1-iY-gk9UwFe",
        "colab": {
          "base_uri": "https://localhost:8080/"
        },
        "outputId": "3805cf2b-049d-49e0-e187-b718cd0223fb"
      },
      "source": [
        "processedIndo['UniqueID'].head(30)"
      ],
      "execution_count": 50,
      "outputs": [
        {
          "output_type": "execute_result",
          "data": {
            "text/plain": [
              "0             SI_POV_DAY1                         \n",
              "1             SI_POV_DAY1                         \n",
              "2             SI_POV_DAY1                         \n",
              "3             SI_POV_DAY1                         \n",
              "4             SI_POV_DAY1                         \n",
              "5             SI_POV_DAY1                         \n",
              "6             SI_POV_DAY1                         \n",
              "7             SI_POV_DAY1                         \n",
              "71     SI_POV_NAHC          ALLAREA               \n",
              "72     SI_POV_NAHC          ALLAREA               \n",
              "73     SI_POV_NAHC          ALLAREA               \n",
              "74     SI_COV_MATNL FEMALE                        \n",
              "162          VC_DSR_GDPLS                         \n",
              "163          VC_DSR_GDPLS                         \n",
              "164          VC_DSR_GDPLS                         \n",
              "165          VC_DSR_GDPLS                         \n",
              "166          VC_DSR_GDPLS                         \n",
              "167          VC_DSR_GDPLS                         \n",
              "168          VC_DSR_GDPLS                         \n",
              "169          VC_DSR_GDPLS                         \n",
              "170           VC_DSR_MISS                         \n",
              "171           VC_DSR_MISS                         \n",
              "172           VC_DSR_MISS                         \n",
              "173           VC_DSR_MISS                         \n",
              "174           VC_DSR_MISS                         \n",
              "175           VC_DSR_MISS                         \n",
              "176           VC_DSR_MISS                         \n",
              "177           VC_DSR_MISS                         \n",
              "186           VC_DSR_MORT                         \n",
              "187           VC_DSR_MORT                         \n",
              "Name: UniqueID, dtype: object"
            ]
          },
          "metadata": {},
          "execution_count": 50
        }
      ]
    },
    {
      "cell_type": "code",
      "metadata": {
        "id": "fjZd0MjHn1QW"
      },
      "source": [
        "'''def measures_each_indicator(df):\n",
        "  Allindicators=df['Indicator'].drop_duplicates()\n",
        "  for indicator in Allindicators:\n",
        "    AllID=list(df['UniqueID'].drop_duplicates())\n",
        "    if len(AllID)>1:\n",
        "      group=df[df['Indicator']==indicator]\n",
        "      group=group.drop(columns=['TimePeriod','Value'],axis=1)\n",
        "      path='/content/drive/MyDrive/Colab Notebooks/Practicum SDG Networks/Data/Indonesia Correlation among measurements/Attribute '+indicator+'.csv'\n",
        "      group.to_csv(path)\n",
        "      print('Attribute '+indicator+' completed')'''"
      ],
      "execution_count": null,
      "outputs": []
    },
    {
      "cell_type": "code",
      "metadata": {
        "id": "N_VqmdQan1QX"
      },
      "source": [
        "#measures_each_indicator(processedIndo)"
      ],
      "execution_count": 51,
      "outputs": []
    },
    {
      "cell_type": "code",
      "metadata": {
        "id": "pbWsShzIme0J"
      },
      "source": [
        "def calculate_correlation(df):\n",
        "  Allindicators=df['Indicator'].drop_duplicates()\n",
        "  for indicator in Allindicators:\n",
        "    AllID=list(df['UniqueID'].drop_duplicates())\n",
        "    if len(AllID)>1:\n",
        "      group=df[df['Indicator']==indicator]\n",
        "      group=group.drop(columns=['Goal','Target','Indicator','SeriesCode'],axis=1)\n",
        "      group_pivot=group.pivot(index=['TimePeriod'], columns=['UniqueID'], values='Value').reset_index()\n",
        "      group_pivot=group_pivot.apply(lambda x:x.astype(float))\n",
        "      correlation=group_pivot.corr()\n",
        "      correlation=pd.DataFrame(correlation)\n",
        "      correlation=correlation.drop('TimePeriod', axis=1)\n",
        "      correlation=correlation.drop('TimePeriod', axis=0)\n",
        "      path='/content/drive/MyDrive/Colab Notebooks/Practicum SDG Networks/Data/Indonesia Correlation among measurements/Indicator '+indicator+'.csv'\n",
        "      correlation.to_csv(path)\n",
        "      print('Indicator '+indicator+' completed')"
      ],
      "execution_count": 52,
      "outputs": []
    },
    {
      "cell_type": "code",
      "metadata": {
        "colab": {
          "base_uri": "https://localhost:8080/"
        },
        "id": "TVpz002l5BXT",
        "outputId": "310fea7c-805d-4138-9c8b-1e71e3945c01"
      },
      "source": [
        "calculate_correlation(processedIndo)"
      ],
      "execution_count": 53,
      "outputs": [
        {
          "output_type": "stream",
          "name": "stdout",
          "text": [
            "Indicator 1.1.1 completed\n",
            "Indicator 1.2.1 completed\n",
            "Indicator 1.3.1 completed\n",
            "Indicator 1.5.2 completed\n",
            "Indicator 1.5.1 completed\n",
            "Indicator 1.5.3 completed\n",
            "Indicator 1.5.4 completed\n",
            "Indicator 1.a.2 completed\n",
            "Indicator 2.1.1 completed\n",
            "Indicator 2.1.2 completed\n",
            "Indicator 2.2.1 completed\n",
            "Indicator 2.2.2 completed\n",
            "Indicator 2.2.3 completed\n",
            "Indicator 2.3.1 completed\n",
            "Indicator 2.3.2 completed\n",
            "Indicator 2.5.1 completed\n",
            "Indicator 2.5.2 completed\n",
            "Indicator 2.a.1 completed\n",
            "Indicator 2.b.1 completed\n",
            "Indicator 2.c.1 completed\n",
            "Indicator 3.1.1 completed\n",
            "Indicator 3.2.1 completed\n",
            "Indicator 3.2.2 completed\n",
            "Indicator 3.3.3 completed\n",
            "Indicator 3.3.5 completed\n",
            "Indicator 3.3.2 completed\n",
            "Indicator 3.3.4 completed\n",
            "Indicator 3.4.1 completed\n",
            "Indicator 3.5.2 completed\n",
            "Indicator 3.5.1 completed\n",
            "Indicator 3.7.1 completed\n",
            "Indicator 3.7.2 completed\n",
            "Indicator 3.8.2 completed\n",
            "Indicator 3.8.1 completed\n",
            "Indicator 3.9.1 completed\n",
            "Indicator 3.9.2 completed\n",
            "Indicator 3.b.1 completed\n",
            "Indicator 3.d.2 completed\n",
            "Indicator 4.1.1 completed\n",
            "Indicator 4.2.1 completed\n",
            "Indicator 4.5.1 completed\n",
            "Indicator 4.7.1 completed\n",
            "Indicator 5.3.1 completed\n",
            "Indicator 5.5.2 completed\n",
            "Indicator 5.5.1 completed\n",
            "Indicator 5.a.2 completed\n",
            "Indicator 6.4.2 completed\n",
            "Indicator 6.4.1 completed\n",
            "Indicator 6.5.2 completed\n",
            "Indicator 6.5.1 completed\n",
            "Indicator 6.6.1 completed\n",
            "Indicator 7.1.2 completed\n",
            "Indicator 7.2.1 completed\n",
            "Indicator 7.3.1 completed\n",
            "Indicator 7.a.1 completed\n",
            "Indicator 7.b.1 completed\n",
            "Indicator 8.1.1 completed\n",
            "Indicator 8.10.1 completed\n",
            "Indicator 8.2.1 completed\n",
            "Indicator 8.8.2 completed\n",
            "Indicator 8.9.1 completed\n",
            "Indicator 8.b.1 completed\n",
            "Indicator 9.1.2 completed\n",
            "Indicator 9.2.1 completed\n",
            "Indicator 9.2.2 completed\n",
            "Indicator 9.3.1 completed\n",
            "Indicator 9.3.2 completed\n",
            "Indicator 9.4.1 completed\n",
            "Indicator 9.5.2 completed\n",
            "Indicator 9.5.1 completed\n",
            "Indicator 9.b.1 completed\n",
            "Indicator 10.1.1 completed\n",
            "Indicator 10.4.1 completed\n",
            "Indicator 10.4.2 completed\n",
            "Indicator 10.5.1 completed\n",
            "Indicator 10.7.3 completed\n",
            "Indicator 10.a.1 completed\n",
            "Indicator 10.c.1 completed\n",
            "Indicator 11.1.1 completed\n",
            "Indicator 11.5.2 completed\n",
            "Indicator 11.5.1 completed\n",
            "Indicator 11.a.1 completed\n",
            "Indicator 11.b.1 completed\n",
            "Indicator 11.b.2 completed\n",
            "Indicator 12.1.1 completed\n",
            "Indicator 12.3.1 completed\n",
            "Indicator 12.4.2 completed\n",
            "Indicator 12.8.1 completed\n",
            "Indicator 12.a.1 completed\n",
            "Indicator 12.b.1 completed\n",
            "Indicator 12.c.1 completed\n",
            "Indicator 13.1.1 completed\n",
            "Indicator 13.1.2 completed\n",
            "Indicator 13.1.3 completed\n",
            "Indicator 13.3.1 completed\n",
            "Indicator 14.1.1 completed\n",
            "Indicator 14.4.1 completed\n",
            "Indicator 14.5.1 completed\n",
            "Indicator 14.7.1 completed\n",
            "Indicator 14.b.1 completed\n",
            "Indicator 15.1.1 completed\n",
            "Indicator 15.2.1 completed\n",
            "Indicator 15.3.1 completed\n",
            "Indicator 15.4.2 completed\n",
            "Indicator 15.5.1 completed\n",
            "Indicator 15.6.1 completed\n",
            "Indicator 15.8.1 completed\n",
            "Indicator 15.9.1 completed\n",
            "Indicator 16.1.4 completed\n",
            "Indicator 16.10.2 completed\n",
            "Indicator 16.3.2 completed\n",
            "Indicator 16.5.2 completed\n",
            "Indicator 16.6.1 completed\n",
            "Indicator 16.7.1 completed\n",
            "Indicator 16.9.1 completed\n",
            "Indicator 16.a.1 completed\n",
            "Indicator 17.1.1 completed\n",
            "Indicator 17.13.1 completed\n",
            "Indicator 17.17.1 completed\n",
            "Indicator 17.18.3 completed\n",
            "Indicator 17.18.2 completed\n",
            "Indicator 17.19.1 completed\n",
            "Indicator 17.3.2 completed\n",
            "Indicator 17.3.1 completed\n",
            "Indicator 17.4.1 completed\n",
            "Indicator 17.8.1 completed\n",
            "Indicator 17.9.1 completed\n"
          ]
        }
      ]
    },
    {
      "cell_type": "code",
      "metadata": {
        "colab": {
          "base_uri": "https://localhost:8080/"
        },
        "id": "o06iUBXHdT95",
        "outputId": "36542d79-6b18-4cfe-d348-3b6a07e32724"
      },
      "source": [
        "processedGuate=preprocess_for_correlation(Guatemala)\n",
        "print(processedGuate)\n",
        "#processedGuate.to_csv('/content/drive/MyDrive/Colab Notebooks/Practicum SDG Networks/Data/processedGuate.csv')"
      ],
      "execution_count": 56,
      "outputs": [
        {
          "output_type": "stream",
          "name": "stdout",
          "text": [
            "                                               UniqueID  ...      Value\n",
            "0                  SI_POV_DAY1                           ...    8.80000\n",
            "64            SI_POV_NAHC          URBAN                 ...   42.20000\n",
            "65            SI_POV_NAHC          RURAL                 ...   76.10000\n",
            "66          SI_POV_NAHC          ALLAREA                 ...   59.30000\n",
            "67    SD_MDP_MUHC BOTHSEX         ALLAREA        ALL...  ...   61.60000\n",
            "...                                                 ...  ...        ...\n",
            "4789              DC_FTA_TOTAL                           ...   48.66068\n",
            "4790              DC_FTA_TOTAL                           ...   77.71732\n",
            "4791              DC_FTA_TOTAL                           ...   94.32348\n",
            "4792              DC_FTA_TOTAL                           ...  289.73249\n",
            "4793              DC_FTA_TOTAL                           ...   61.08202\n",
            "\n",
            "[1918 rows x 7 columns]\n"
          ]
        }
      ]
    },
    {
      "cell_type": "code",
      "metadata": {
        "id": "zCAxJImdn1QZ"
      },
      "source": [
        "#measures_each_indicator(processedGuate)"
      ],
      "execution_count": null,
      "outputs": []
    },
    {
      "cell_type": "code",
      "metadata": {
        "id": "ThjG6j-UdqKm"
      },
      "source": [
        "def calculate_correlation(df):\n",
        "  Allindicators=df['Indicator'].drop_duplicates()\n",
        "  for indicator in Allindicators:\n",
        "    AllID=list(df['UniqueID'].drop_duplicates())\n",
        "    if len(AllID)>1:\n",
        "      group=df[df['Indicator']==indicator]\n",
        "      group=group.drop(columns=['Goal','Target','Indicator','SeriesCode'],axis=1)\n",
        "      group_pivot=group.pivot(index=['TimePeriod'],columns=['UniqueID'],values='Value').reset_index()\n",
        "      group_pivot=group_pivot.apply(lambda x:x.astype(float))\n",
        "      correlation=group_pivot.corr()\n",
        "      correlation=correlation.drop('TimePeriod', axis=1)\n",
        "      correlation=correlation.drop('TimePeriod', axis=0)\n",
        "      path='/content/drive/MyDrive/Colab Notebooks/Practicum SDG Networks/Data/Guatemala Correlation among measurements/Indicator '+indicator+'.csv'\n",
        "      correlation.to_csv(path)\n",
        "      print('Indicator '+indicator+' completed')"
      ],
      "execution_count": 57,
      "outputs": []
    },
    {
      "cell_type": "code",
      "metadata": {
        "colab": {
          "base_uri": "https://localhost:8080/"
        },
        "id": "tbOHc1_JeA3b",
        "outputId": "216e734d-ba3e-4c31-cfd1-067425511c48"
      },
      "source": [
        "calculate_correlation(processedGuate)"
      ],
      "execution_count": 58,
      "outputs": [
        {
          "output_type": "stream",
          "name": "stdout",
          "text": [
            "Indicator 1.1.1 completed\n",
            "Indicator 1.2.1 completed\n",
            "Indicator 1.2.2 completed\n",
            "Indicator 1.3.1 completed\n",
            "Indicator 1.5.2 completed\n",
            "Indicator 1.5.1 completed\n",
            "Indicator 1.5.3 completed\n",
            "Indicator 1.5.4 completed\n",
            "Indicator 1.a.2 completed\n",
            "Indicator 2.1.1 completed\n",
            "Indicator 2.1.2 completed\n",
            "Indicator 2.2.1 completed\n",
            "Indicator 2.2.2 completed\n",
            "Indicator 2.2.3 completed\n",
            "Indicator 2.3.1 completed\n",
            "Indicator 2.3.2 completed\n",
            "Indicator 2.5.1 completed\n",
            "Indicator 2.5.2 completed\n",
            "Indicator 2.a.1 completed\n",
            "Indicator 2.c.1 completed\n",
            "Indicator 3.1.1 completed\n",
            "Indicator 3.2.1 completed\n",
            "Indicator 3.2.2 completed\n",
            "Indicator 3.3.3 completed\n",
            "Indicator 3.3.5 completed\n",
            "Indicator 3.3.2 completed\n",
            "Indicator 3.3.4 completed\n",
            "Indicator 3.4.1 completed\n",
            "Indicator 3.5.2 completed\n",
            "Indicator 3.5.1 completed\n",
            "Indicator 3.7.1 completed\n",
            "Indicator 3.7.2 completed\n",
            "Indicator 3.8.2 completed\n",
            "Indicator 3.8.1 completed\n",
            "Indicator 3.9.1 completed\n",
            "Indicator 3.9.2 completed\n",
            "Indicator 3.b.1 completed\n",
            "Indicator 4.1.1 completed\n",
            "Indicator 4.5.1 completed\n",
            "Indicator 4.7.1 completed\n",
            "Indicator 5.1.1 completed\n",
            "Indicator 5.3.1 completed\n",
            "Indicator 5.5.2 completed\n",
            "Indicator 5.5.1 completed\n",
            "Indicator 5.6.1 completed\n",
            "Indicator 5.6.2 completed\n",
            "Indicator 5.a.2 completed\n",
            "Indicator 5.c.1 completed\n",
            "Indicator 6.4.2 completed\n",
            "Indicator 6.4.1 completed\n",
            "Indicator 6.5.2 completed\n",
            "Indicator 6.5.1 completed\n",
            "Indicator 6.6.1 completed\n",
            "Indicator 7.1.2 completed\n",
            "Indicator 7.2.1 completed\n",
            "Indicator 7.3.1 completed\n",
            "Indicator 7.a.1 completed\n",
            "Indicator 7.b.1 completed\n",
            "Indicator 8.1.1 completed\n",
            "Indicator 8.10.1 completed\n",
            "Indicator 8.2.1 completed\n",
            "Indicator 8.8.2 completed\n",
            "Indicator 8.b.1 completed\n",
            "Indicator 9.1.2 completed\n",
            "Indicator 9.2.1 completed\n",
            "Indicator 9.2.2 completed\n",
            "Indicator 9.3.2 completed\n",
            "Indicator 9.4.1 completed\n",
            "Indicator 9.5.2 completed\n",
            "Indicator 9.5.1 completed\n",
            "Indicator 9.b.1 completed\n",
            "Indicator 10.2.1 completed\n",
            "Indicator 10.4.1 completed\n",
            "Indicator 10.4.2 completed\n",
            "Indicator 10.5.1 completed\n",
            "Indicator 10.7.3 completed\n",
            "Indicator 10.a.1 completed\n",
            "Indicator 10.c.1 completed\n",
            "Indicator 11.1.1 completed\n",
            "Indicator 11.5.2 completed\n",
            "Indicator 11.5.1 completed\n",
            "Indicator 11.a.1 completed\n",
            "Indicator 11.b.1 completed\n",
            "Indicator 11.b.2 completed\n",
            "Indicator 12.1.1 completed\n",
            "Indicator 12.3.1 completed\n",
            "Indicator 12.4.2 completed\n",
            "Indicator 12.8.1 completed\n",
            "Indicator 12.a.1 completed\n",
            "Indicator 12.b.1 completed\n",
            "Indicator 12.c.1 completed\n",
            "Indicator 13.1.1 completed\n",
            "Indicator 13.1.2 completed\n",
            "Indicator 13.1.3 completed\n",
            "Indicator 13.3.1 completed\n",
            "Indicator 14.1.1 completed\n",
            "Indicator 14.4.1 completed\n",
            "Indicator 14.5.1 completed\n",
            "Indicator 14.7.1 completed\n",
            "Indicator 14.b.1 completed\n",
            "Indicator 15.1.1 completed\n",
            "Indicator 15.2.1 completed\n",
            "Indicator 15.3.1 completed\n",
            "Indicator 15.4.2 completed\n",
            "Indicator 15.5.1 completed\n",
            "Indicator 15.6.1 completed\n",
            "Indicator 15.8.1 completed\n",
            "Indicator 15.9.1 completed\n",
            "Indicator 16.10.2 completed\n",
            "Indicator 16.3.2 completed\n",
            "Indicator 16.5.2 completed\n",
            "Indicator 16.6.1 completed\n",
            "Indicator 16.7.1 completed\n",
            "Indicator 16.9.1 completed\n",
            "Indicator 16.a.1 completed\n",
            "Indicator 17.1.1 completed\n",
            "Indicator 17.13.1 completed\n",
            "Indicator 17.17.1 completed\n",
            "Indicator 17.18.3 completed\n",
            "Indicator 17.18.2 completed\n",
            "Indicator 17.19.2 completed\n",
            "Indicator 17.19.1 completed\n",
            "Indicator 17.3.2 completed\n",
            "Indicator 17.3.1 completed\n",
            "Indicator 17.4.1 completed\n",
            "Indicator 17.8.1 completed\n",
            "Indicator 17.9.1 completed\n"
          ]
        }
      ]
    }
  ]
}