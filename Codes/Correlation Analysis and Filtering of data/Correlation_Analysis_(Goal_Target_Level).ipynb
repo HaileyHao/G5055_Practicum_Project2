{
  "nbformat": 4,
  "nbformat_minor": 0,
  "metadata": {
    "colab": {
      "name": "Correlation_Analysis_(Goal_Target_Level).ipynb",
      "provenance": [],
      "collapsed_sections": []
    },
    "kernelspec": {
      "display_name": "Python 3",
      "language": "python",
      "name": "python3"
    },
    "language_info": {
      "codemirror_mode": {
        "name": "ipython",
        "version": 3
      },
      "file_extension": ".py",
      "mimetype": "text/x-python",
      "name": "python",
      "nbconvert_exporter": "python",
      "pygments_lexer": "ipython3",
      "version": "3.8.8"
    }
  },
  "cells": [
    {
      "cell_type": "markdown",
      "metadata": {
        "id": "NFGneAvqPy4z"
      },
      "source": [
        "# Correlation Analysis at Goal-Target Level"
      ]
    },
    {
      "cell_type": "code",
      "metadata": {
        "colab": {
          "base_uri": "https://localhost:8080/"
        },
        "id": "LvPLdfn5c7sO",
        "outputId": "1f13f516-7c77-49bd-ad8f-48ed9ed44817"
      },
      "source": [
        "from google.colab import drive\n",
        "drive.mount('/content/drive')"
      ],
      "execution_count": 1,
      "outputs": [
        {
          "output_type": "stream",
          "name": "stdout",
          "text": [
            "Mounted at /content/drive\n"
          ]
        }
      ]
    },
    {
      "cell_type": "markdown",
      "metadata": {
        "id": "N5e6LgnvP2nj"
      },
      "source": [
        "## Import libraries and read in data"
      ]
    },
    {
      "cell_type": "code",
      "metadata": {
        "id": "Emjxn116or7Y"
      },
      "source": [
        "import pandas as pd\n",
        "import numpy as np"
      ],
      "execution_count": 2,
      "outputs": []
    },
    {
      "cell_type": "code",
      "metadata": {
        "id": "6bFJIo2Bt5gB"
      },
      "source": [
        "#Read in data\n",
        "Indonesia=pd.read_csv('https://github.com/PeishanLi/G5055_Practicum_Project2/raw/main/Data/processedIndo.csv')\n",
        "Guatemala=pd.read_csv('https://github.com/PeishanLi/G5055_Practicum_Project2/raw/main/Data/processedGuate.csv')\n",
        "Ivariables=pd.read_csv('https://github.com/PeishanLi/G5055_Practicum_Project2/raw/main/Data/variables_picked/Indo_GTIM.csv')\n",
        "Gvariables=pd.read_csv('https://github.com/PeishanLi/G5055_Practicum_Project2/raw/main/Data/variables_picked/Gua_GTIM.csv')\n",
        "\n",
        "#A little preprocessing of data\n",
        "Indonesia=Indonesia.drop('Unnamed: 0', axis=1)\n",
        "Indonesia['UniqueIDNew']=[x.replace(\" \",\"\") for x in Indonesia['UniqueID']]\n",
        "Guatemala=Guatemala.drop('Unnamed: 0', axis=1)\n",
        "Guatemala['UniqueIDNew']=[x.replace(\" \",\"\") for x in Guatemala['UniqueID']]\n",
        "Ivariables['UniqueIDNew']=[x.replace(\" \",\"\") for x in Ivariables['UniqueID']]\n",
        "Gvariables['UniqueIDNew']=[x.replace(\" \",\"\") for x in Gvariables['UniqueID']]"
      ],
      "execution_count": 8,
      "outputs": []
    },
    {
      "cell_type": "code",
      "metadata": {
        "colab": {
          "base_uri": "https://localhost:8080/"
        },
        "id": "PUMiHjZ7U7Y3",
        "outputId": "9dbcc976-47e7-4aaa-8344-22c15f123a47"
      },
      "source": [
        "Indonesia['UniqueIDNew'].head(20)"
      ],
      "execution_count": 9,
      "outputs": [
        {
          "output_type": "execute_result",
          "data": {
            "text/plain": [
              "0                 SI_POV_DAY1\n",
              "1                 SI_POV_DAY1\n",
              "2                 SI_POV_DAY1\n",
              "3                 SI_POV_DAY1\n",
              "4                 SI_POV_DAY1\n",
              "5                 SI_POV_DAY1\n",
              "6                 SI_POV_DAY1\n",
              "7                 SI_POV_DAY1\n",
              "8      SI_POV_EMP1FEMALE15-24\n",
              "9        SI_POV_EMP1FEMALE15+\n",
              "10       SI_POV_EMP1FEMALE25+\n",
              "11       SI_POV_EMP1MALE15-24\n",
              "12      SI_POV_EMP1BOTHSEX15+\n",
              "13    SI_POV_EMP1BOTHSEX15-24\n",
              "14      SI_POV_EMP1BOTHSEX25+\n",
              "15         SI_POV_EMP1MALE25+\n",
              "16         SI_POV_EMP1MALE15+\n",
              "17       SI_POV_EMP1FEMALE15+\n",
              "18       SI_POV_EMP1FEMALE25+\n",
              "19      SI_POV_EMP1BOTHSEX15+\n",
              "Name: UniqueIDNew, dtype: object"
            ]
          },
          "metadata": {},
          "execution_count": 9
        }
      ]
    },
    {
      "cell_type": "code",
      "metadata": {
        "colab": {
          "base_uri": "https://localhost:8080/",
          "height": 419
        },
        "id": "hE5sW3nxNgpS",
        "outputId": "3dd6d491-3717-4082-a14e-c4cbc83c0c5e"
      },
      "source": [
        "Ivariables"
      ],
      "execution_count": 10,
      "outputs": [
        {
          "output_type": "execute_result",
          "data": {
            "text/html": [
              "<div>\n",
              "<style scoped>\n",
              "    .dataframe tbody tr th:only-of-type {\n",
              "        vertical-align: middle;\n",
              "    }\n",
              "\n",
              "    .dataframe tbody tr th {\n",
              "        vertical-align: top;\n",
              "    }\n",
              "\n",
              "    .dataframe thead th {\n",
              "        text-align: right;\n",
              "    }\n",
              "</style>\n",
              "<table border=\"1\" class=\"dataframe\">\n",
              "  <thead>\n",
              "    <tr style=\"text-align: right;\">\n",
              "      <th></th>\n",
              "      <th>Goal</th>\n",
              "      <th>Target</th>\n",
              "      <th>Indicator</th>\n",
              "      <th>SeriesCode</th>\n",
              "      <th>UniqueID</th>\n",
              "      <th>UniqueIDNew</th>\n",
              "    </tr>\n",
              "  </thead>\n",
              "  <tbody>\n",
              "    <tr>\n",
              "      <th>0</th>\n",
              "      <td>1</td>\n",
              "      <td>1.1</td>\n",
              "      <td>1.1.1</td>\n",
              "      <td>SI_POV_EMP1</td>\n",
              "      <td>SI_POV_EMP1 BOTHSEX                 15+</td>\n",
              "      <td>SI_POV_EMP1BOTHSEX15+</td>\n",
              "    </tr>\n",
              "    <tr>\n",
              "      <th>1</th>\n",
              "      <td>1</td>\n",
              "      <td>1.2</td>\n",
              "      <td>1.2.1</td>\n",
              "      <td>SI_POV_NAHC</td>\n",
              "      <td>SI_POV_NAHC          ALLAREA</td>\n",
              "      <td>SI_POV_NAHCALLAREA</td>\n",
              "    </tr>\n",
              "    <tr>\n",
              "      <th>2</th>\n",
              "      <td>1</td>\n",
              "      <td>1.3</td>\n",
              "      <td>1.3.1</td>\n",
              "      <td>SI_COV_SOCAST</td>\n",
              "      <td>SI_COV_SOCAST                       Q1</td>\n",
              "      <td>SI_COV_SOCASTQ1</td>\n",
              "    </tr>\n",
              "    <tr>\n",
              "      <th>3</th>\n",
              "      <td>1</td>\n",
              "      <td>1.4</td>\n",
              "      <td>1.4.1</td>\n",
              "      <td>SP_ACS_BSRVH2O</td>\n",
              "      <td>SP_ACS_BSRVH2O          RURAL</td>\n",
              "      <td>SP_ACS_BSRVH2ORURAL</td>\n",
              "    </tr>\n",
              "    <tr>\n",
              "      <th>4</th>\n",
              "      <td>1</td>\n",
              "      <td>1.5</td>\n",
              "      <td>1.5.4</td>\n",
              "      <td>SG_DSR_SILN</td>\n",
              "      <td>SG_DSR_SILN</td>\n",
              "      <td>SG_DSR_SILN</td>\n",
              "    </tr>\n",
              "    <tr>\n",
              "      <th>...</th>\n",
              "      <td>...</td>\n",
              "      <td>...</td>\n",
              "      <td>...</td>\n",
              "      <td>...</td>\n",
              "      <td>...</td>\n",
              "      <td>...</td>\n",
              "    </tr>\n",
              "    <tr>\n",
              "      <th>126</th>\n",
              "      <td>17</td>\n",
              "      <td>17.3</td>\n",
              "      <td>17.3.1</td>\n",
              "      <td>GF_FRN_FDI</td>\n",
              "      <td>GF_FRN_FDI</td>\n",
              "      <td>GF_FRN_FDI</td>\n",
              "    </tr>\n",
              "    <tr>\n",
              "      <th>127</th>\n",
              "      <td>17</td>\n",
              "      <td>17.4</td>\n",
              "      <td>17.4.1</td>\n",
              "      <td>DT_TDS_DECT</td>\n",
              "      <td>DT_TDS_DECT</td>\n",
              "      <td>DT_TDS_DECT</td>\n",
              "    </tr>\n",
              "    <tr>\n",
              "      <th>128</th>\n",
              "      <td>17</td>\n",
              "      <td>17.6</td>\n",
              "      <td>17.6.1</td>\n",
              "      <td>IT_NET_BBND</td>\n",
              "      <td>IT_NET_BBND      ANYS</td>\n",
              "      <td>IT_NET_BBNDANYS</td>\n",
              "    </tr>\n",
              "    <tr>\n",
              "      <th>129</th>\n",
              "      <td>17</td>\n",
              "      <td>17.8</td>\n",
              "      <td>17.8.1</td>\n",
              "      <td>IT_USE_ii99</td>\n",
              "      <td>IT_USE_ii99</td>\n",
              "      <td>IT_USE_ii99</td>\n",
              "    </tr>\n",
              "    <tr>\n",
              "      <th>130</th>\n",
              "      <td>17</td>\n",
              "      <td>17.9</td>\n",
              "      <td>17.9.1</td>\n",
              "      <td>DC_FTA_TOTAL</td>\n",
              "      <td>DC_FTA_TOTAL</td>\n",
              "      <td>DC_FTA_TOTAL</td>\n",
              "    </tr>\n",
              "  </tbody>\n",
              "</table>\n",
              "<p>131 rows × 6 columns</p>\n",
              "</div>"
            ],
            "text/plain": [
              "     Goal  ...            UniqueIDNew\n",
              "0       1  ...  SI_POV_EMP1BOTHSEX15+\n",
              "1       1  ...     SI_POV_NAHCALLAREA\n",
              "2       1  ...        SI_COV_SOCASTQ1\n",
              "3       1  ...    SP_ACS_BSRVH2ORURAL\n",
              "4       1  ...            SG_DSR_SILN\n",
              "..    ...  ...                    ...\n",
              "126    17  ...             GF_FRN_FDI\n",
              "127    17  ...            DT_TDS_DECT\n",
              "128    17  ...        IT_NET_BBNDANYS\n",
              "129    17  ...            IT_USE_ii99\n",
              "130    17  ...           DC_FTA_TOTAL\n",
              "\n",
              "[131 rows x 6 columns]"
            ]
          },
          "metadata": {},
          "execution_count": 10
        }
      ]
    },
    {
      "cell_type": "markdown",
      "metadata": {
        "id": "ombRi1WUwGe-"
      },
      "source": [
        "## Filter data\n",
        "\n",
        "Measure the measures picked using Rmd file with the original dataset, to identify which indicator of which target and goal it belongs to, and filters the original dataset for further correlation analysis at target-indicator level."
      ]
    },
    {
      "cell_type": "code",
      "metadata": {
        "colab": {
          "base_uri": "https://localhost:8080/",
          "height": 419
        },
        "id": "sHAcaQOUOHJv",
        "outputId": "0a4113ff-1d61-4cdd-d214-f2e653f5c820"
      },
      "source": [
        "FilteredIndo=Indonesia.copy()\n",
        "is_included=FilteredIndo['UniqueIDNew'].isin(Ivariables['UniqueIDNew'])\n",
        "FilteredIndo=FilteredIndo[is_included]\n",
        "FilteredIndo.to_csv('/content/drive/MyDrive/Colab Notebooks/Practicum SDG Networks/Data/Indonesia data after selecting one indicator for each target.csv')\n",
        "FilteredIndo"
      ],
      "execution_count": 18,
      "outputs": [
        {
          "output_type": "execute_result",
          "data": {
            "text/html": [
              "<div>\n",
              "<style scoped>\n",
              "    .dataframe tbody tr th:only-of-type {\n",
              "        vertical-align: middle;\n",
              "    }\n",
              "\n",
              "    .dataframe tbody tr th {\n",
              "        vertical-align: top;\n",
              "    }\n",
              "\n",
              "    .dataframe thead th {\n",
              "        text-align: right;\n",
              "    }\n",
              "</style>\n",
              "<table border=\"1\" class=\"dataframe\">\n",
              "  <thead>\n",
              "    <tr style=\"text-align: right;\">\n",
              "      <th></th>\n",
              "      <th>UniqueID</th>\n",
              "      <th>Goal</th>\n",
              "      <th>Target</th>\n",
              "      <th>Indicator</th>\n",
              "      <th>SeriesCode</th>\n",
              "      <th>TimePeriod</th>\n",
              "      <th>Value</th>\n",
              "      <th>UniqueIDNew</th>\n",
              "    </tr>\n",
              "  </thead>\n",
              "  <tbody>\n",
              "    <tr>\n",
              "      <th>12</th>\n",
              "      <td>SI_POV_EMP1 BOTHSEX                 15+</td>\n",
              "      <td>1.0</td>\n",
              "      <td>1.1</td>\n",
              "      <td>1.1.1</td>\n",
              "      <td>SI_POV_EMP1</td>\n",
              "      <td>2012.0</td>\n",
              "      <td>8.30000</td>\n",
              "      <td>SI_POV_EMP1BOTHSEX15+</td>\n",
              "    </tr>\n",
              "    <tr>\n",
              "      <th>19</th>\n",
              "      <td>SI_POV_EMP1 BOTHSEX                 15+</td>\n",
              "      <td>1.0</td>\n",
              "      <td>1.1</td>\n",
              "      <td>1.1.1</td>\n",
              "      <td>SI_POV_EMP1</td>\n",
              "      <td>2013.0</td>\n",
              "      <td>7.00000</td>\n",
              "      <td>SI_POV_EMP1BOTHSEX15+</td>\n",
              "    </tr>\n",
              "    <tr>\n",
              "      <th>28</th>\n",
              "      <td>SI_POV_EMP1 BOTHSEX                 15+</td>\n",
              "      <td>1.0</td>\n",
              "      <td>1.1</td>\n",
              "      <td>1.1.1</td>\n",
              "      <td>SI_POV_EMP1</td>\n",
              "      <td>2014.0</td>\n",
              "      <td>6.10000</td>\n",
              "      <td>SI_POV_EMP1BOTHSEX15+</td>\n",
              "    </tr>\n",
              "    <tr>\n",
              "      <th>43</th>\n",
              "      <td>SI_POV_EMP1 BOTHSEX                 15+</td>\n",
              "      <td>1.0</td>\n",
              "      <td>1.1</td>\n",
              "      <td>1.1.1</td>\n",
              "      <td>SI_POV_EMP1</td>\n",
              "      <td>2015.0</td>\n",
              "      <td>5.70000</td>\n",
              "      <td>SI_POV_EMP1BOTHSEX15+</td>\n",
              "    </tr>\n",
              "    <tr>\n",
              "      <th>48</th>\n",
              "      <td>SI_POV_EMP1 BOTHSEX                 15+</td>\n",
              "      <td>1.0</td>\n",
              "      <td>1.1</td>\n",
              "      <td>1.1.1</td>\n",
              "      <td>SI_POV_EMP1</td>\n",
              "      <td>2016.0</td>\n",
              "      <td>5.20000</td>\n",
              "      <td>SI_POV_EMP1BOTHSEX15+</td>\n",
              "    </tr>\n",
              "    <tr>\n",
              "      <th>...</th>\n",
              "      <td>...</td>\n",
              "      <td>...</td>\n",
              "      <td>...</td>\n",
              "      <td>...</td>\n",
              "      <td>...</td>\n",
              "      <td>...</td>\n",
              "      <td>...</td>\n",
              "      <td>...</td>\n",
              "    </tr>\n",
              "    <tr>\n",
              "      <th>4225</th>\n",
              "      <td>DC_FTA_TOTAL</td>\n",
              "      <td>17.0</td>\n",
              "      <td>17.9</td>\n",
              "      <td>17.9.1</td>\n",
              "      <td>DC_FTA_TOTAL</td>\n",
              "      <td>2015.0</td>\n",
              "      <td>3409.18378</td>\n",
              "      <td>DC_FTA_TOTAL</td>\n",
              "    </tr>\n",
              "    <tr>\n",
              "      <th>4226</th>\n",
              "      <td>DC_FTA_TOTAL</td>\n",
              "      <td>17.0</td>\n",
              "      <td>17.9</td>\n",
              "      <td>17.9.1</td>\n",
              "      <td>DC_FTA_TOTAL</td>\n",
              "      <td>2016.0</td>\n",
              "      <td>1053.97416</td>\n",
              "      <td>DC_FTA_TOTAL</td>\n",
              "    </tr>\n",
              "    <tr>\n",
              "      <th>4227</th>\n",
              "      <td>DC_FTA_TOTAL</td>\n",
              "      <td>17.0</td>\n",
              "      <td>17.9</td>\n",
              "      <td>17.9.1</td>\n",
              "      <td>DC_FTA_TOTAL</td>\n",
              "      <td>2017.0</td>\n",
              "      <td>1168.49150</td>\n",
              "      <td>DC_FTA_TOTAL</td>\n",
              "    </tr>\n",
              "    <tr>\n",
              "      <th>4228</th>\n",
              "      <td>DC_FTA_TOTAL</td>\n",
              "      <td>17.0</td>\n",
              "      <td>17.9</td>\n",
              "      <td>17.9.1</td>\n",
              "      <td>DC_FTA_TOTAL</td>\n",
              "      <td>2018.0</td>\n",
              "      <td>2042.80551</td>\n",
              "      <td>DC_FTA_TOTAL</td>\n",
              "    </tr>\n",
              "    <tr>\n",
              "      <th>4229</th>\n",
              "      <td>DC_FTA_TOTAL</td>\n",
              "      <td>17.0</td>\n",
              "      <td>17.9</td>\n",
              "      <td>17.9.1</td>\n",
              "      <td>DC_FTA_TOTAL</td>\n",
              "      <td>2019.0</td>\n",
              "      <td>886.47354</td>\n",
              "      <td>DC_FTA_TOTAL</td>\n",
              "    </tr>\n",
              "  </tbody>\n",
              "</table>\n",
              "<p>665 rows × 8 columns</p>\n",
              "</div>"
            ],
            "text/plain": [
              "                                            UniqueID  ...            UniqueIDNew\n",
              "12    SI_POV_EMP1 BOTHSEX                 15+         ...  SI_POV_EMP1BOTHSEX15+\n",
              "19    SI_POV_EMP1 BOTHSEX                 15+         ...  SI_POV_EMP1BOTHSEX15+\n",
              "28    SI_POV_EMP1 BOTHSEX                 15+         ...  SI_POV_EMP1BOTHSEX15+\n",
              "43    SI_POV_EMP1 BOTHSEX                 15+         ...  SI_POV_EMP1BOTHSEX15+\n",
              "48    SI_POV_EMP1 BOTHSEX                 15+         ...  SI_POV_EMP1BOTHSEX15+\n",
              "...                                              ...  ...                    ...\n",
              "4225           DC_FTA_TOTAL                           ...           DC_FTA_TOTAL\n",
              "4226           DC_FTA_TOTAL                           ...           DC_FTA_TOTAL\n",
              "4227           DC_FTA_TOTAL                           ...           DC_FTA_TOTAL\n",
              "4228           DC_FTA_TOTAL                           ...           DC_FTA_TOTAL\n",
              "4229           DC_FTA_TOTAL                           ...           DC_FTA_TOTAL\n",
              "\n",
              "[665 rows x 8 columns]"
            ]
          },
          "metadata": {},
          "execution_count": 18
        }
      ]
    },
    {
      "cell_type": "code",
      "metadata": {
        "colab": {
          "base_uri": "https://localhost:8080/",
          "height": 419
        },
        "id": "roGepWH_QH5k",
        "outputId": "2eb0f3d3-acb3-446c-f4f3-b4ee3890c49a"
      },
      "source": [
        "FilteredGuate=Guatemala.copy()\n",
        "is_included=FilteredGuate['UniqueIDNew'].isin(Gvariables['UniqueIDNew'])\n",
        "FilteredGuate=FilteredGuate[is_included]\n",
        "FilteredGuate.to_csv('/content/drive/MyDrive/Colab Notebooks/Practicum SDG Networks/Data/Guatemala data after selecting one indicator for each target.csv')\n",
        "FilteredGuate"
      ],
      "execution_count": 19,
      "outputs": [
        {
          "output_type": "execute_result",
          "data": {
            "text/html": [
              "<div>\n",
              "<style scoped>\n",
              "    .dataframe tbody tr th:only-of-type {\n",
              "        vertical-align: middle;\n",
              "    }\n",
              "\n",
              "    .dataframe tbody tr th {\n",
              "        vertical-align: top;\n",
              "    }\n",
              "\n",
              "    .dataframe thead th {\n",
              "        text-align: right;\n",
              "    }\n",
              "</style>\n",
              "<table border=\"1\" class=\"dataframe\">\n",
              "  <thead>\n",
              "    <tr style=\"text-align: right;\">\n",
              "      <th></th>\n",
              "      <th>UniqueID</th>\n",
              "      <th>Goal</th>\n",
              "      <th>Target</th>\n",
              "      <th>Indicator</th>\n",
              "      <th>SeriesCode</th>\n",
              "      <th>TimePeriod</th>\n",
              "      <th>Value</th>\n",
              "      <th>UniqueIDNew</th>\n",
              "    </tr>\n",
              "  </thead>\n",
              "  <tbody>\n",
              "    <tr>\n",
              "      <th>4</th>\n",
              "      <td>SI_POV_EMP1 BOTHSEX                 15+</td>\n",
              "      <td>1.0</td>\n",
              "      <td>1.1</td>\n",
              "      <td>1.1.1</td>\n",
              "      <td>SI_POV_EMP1</td>\n",
              "      <td>2012.0</td>\n",
              "      <td>6.30000</td>\n",
              "      <td>SI_POV_EMP1BOTHSEX15+</td>\n",
              "    </tr>\n",
              "    <tr>\n",
              "      <th>10</th>\n",
              "      <td>SI_POV_EMP1 BOTHSEX                 15+</td>\n",
              "      <td>1.0</td>\n",
              "      <td>1.1</td>\n",
              "      <td>1.1.1</td>\n",
              "      <td>SI_POV_EMP1</td>\n",
              "      <td>2013.0</td>\n",
              "      <td>5.70000</td>\n",
              "      <td>SI_POV_EMP1BOTHSEX15+</td>\n",
              "    </tr>\n",
              "    <tr>\n",
              "      <th>25</th>\n",
              "      <td>SI_POV_EMP1 BOTHSEX                 15+</td>\n",
              "      <td>1.0</td>\n",
              "      <td>1.1</td>\n",
              "      <td>1.1.1</td>\n",
              "      <td>SI_POV_EMP1</td>\n",
              "      <td>2014.0</td>\n",
              "      <td>5.00000</td>\n",
              "      <td>SI_POV_EMP1BOTHSEX15+</td>\n",
              "    </tr>\n",
              "    <tr>\n",
              "      <th>28</th>\n",
              "      <td>SI_POV_EMP1 BOTHSEX                 15+</td>\n",
              "      <td>1.0</td>\n",
              "      <td>1.1</td>\n",
              "      <td>1.1.1</td>\n",
              "      <td>SI_POV_EMP1</td>\n",
              "      <td>2015.0</td>\n",
              "      <td>4.30000</td>\n",
              "      <td>SI_POV_EMP1BOTHSEX15+</td>\n",
              "    </tr>\n",
              "    <tr>\n",
              "      <th>38</th>\n",
              "      <td>SI_POV_EMP1 BOTHSEX                 15+</td>\n",
              "      <td>1.0</td>\n",
              "      <td>1.1</td>\n",
              "      <td>1.1.1</td>\n",
              "      <td>SI_POV_EMP1</td>\n",
              "      <td>2016.0</td>\n",
              "      <td>4.00000</td>\n",
              "      <td>SI_POV_EMP1BOTHSEX15+</td>\n",
              "    </tr>\n",
              "    <tr>\n",
              "      <th>...</th>\n",
              "      <td>...</td>\n",
              "      <td>...</td>\n",
              "      <td>...</td>\n",
              "      <td>...</td>\n",
              "      <td>...</td>\n",
              "      <td>...</td>\n",
              "      <td>...</td>\n",
              "      <td>...</td>\n",
              "    </tr>\n",
              "    <tr>\n",
              "      <th>4780</th>\n",
              "      <td>DC_FTA_TOTAL</td>\n",
              "      <td>17.0</td>\n",
              "      <td>17.9</td>\n",
              "      <td>17.9.1</td>\n",
              "      <td>DC_FTA_TOTAL</td>\n",
              "      <td>2015.0</td>\n",
              "      <td>48.66068</td>\n",
              "      <td>DC_FTA_TOTAL</td>\n",
              "    </tr>\n",
              "    <tr>\n",
              "      <th>4781</th>\n",
              "      <td>DC_FTA_TOTAL</td>\n",
              "      <td>17.0</td>\n",
              "      <td>17.9</td>\n",
              "      <td>17.9.1</td>\n",
              "      <td>DC_FTA_TOTAL</td>\n",
              "      <td>2016.0</td>\n",
              "      <td>77.71732</td>\n",
              "      <td>DC_FTA_TOTAL</td>\n",
              "    </tr>\n",
              "    <tr>\n",
              "      <th>4782</th>\n",
              "      <td>DC_FTA_TOTAL</td>\n",
              "      <td>17.0</td>\n",
              "      <td>17.9</td>\n",
              "      <td>17.9.1</td>\n",
              "      <td>DC_FTA_TOTAL</td>\n",
              "      <td>2017.0</td>\n",
              "      <td>94.32348</td>\n",
              "      <td>DC_FTA_TOTAL</td>\n",
              "    </tr>\n",
              "    <tr>\n",
              "      <th>4783</th>\n",
              "      <td>DC_FTA_TOTAL</td>\n",
              "      <td>17.0</td>\n",
              "      <td>17.9</td>\n",
              "      <td>17.9.1</td>\n",
              "      <td>DC_FTA_TOTAL</td>\n",
              "      <td>2018.0</td>\n",
              "      <td>289.73249</td>\n",
              "      <td>DC_FTA_TOTAL</td>\n",
              "    </tr>\n",
              "    <tr>\n",
              "      <th>4784</th>\n",
              "      <td>DC_FTA_TOTAL</td>\n",
              "      <td>17.0</td>\n",
              "      <td>17.9</td>\n",
              "      <td>17.9.1</td>\n",
              "      <td>DC_FTA_TOTAL</td>\n",
              "      <td>2019.0</td>\n",
              "      <td>61.08202</td>\n",
              "      <td>DC_FTA_TOTAL</td>\n",
              "    </tr>\n",
              "  </tbody>\n",
              "</table>\n",
              "<p>629 rows × 8 columns</p>\n",
              "</div>"
            ],
            "text/plain": [
              "                                            UniqueID  ...            UniqueIDNew\n",
              "4     SI_POV_EMP1 BOTHSEX                 15+         ...  SI_POV_EMP1BOTHSEX15+\n",
              "10    SI_POV_EMP1 BOTHSEX                 15+         ...  SI_POV_EMP1BOTHSEX15+\n",
              "25    SI_POV_EMP1 BOTHSEX                 15+         ...  SI_POV_EMP1BOTHSEX15+\n",
              "28    SI_POV_EMP1 BOTHSEX                 15+         ...  SI_POV_EMP1BOTHSEX15+\n",
              "38    SI_POV_EMP1 BOTHSEX                 15+         ...  SI_POV_EMP1BOTHSEX15+\n",
              "...                                              ...  ...                    ...\n",
              "4780           DC_FTA_TOTAL                           ...           DC_FTA_TOTAL\n",
              "4781           DC_FTA_TOTAL                           ...           DC_FTA_TOTAL\n",
              "4782           DC_FTA_TOTAL                           ...           DC_FTA_TOTAL\n",
              "4783           DC_FTA_TOTAL                           ...           DC_FTA_TOTAL\n",
              "4784           DC_FTA_TOTAL                           ...           DC_FTA_TOTAL\n",
              "\n",
              "[629 rows x 8 columns]"
            ]
          },
          "metadata": {},
          "execution_count": 19
        }
      ]
    },
    {
      "cell_type": "markdown",
      "metadata": {
        "id": "o-wzsCFDQWR2"
      },
      "source": [
        "## Preprocess data into desired format"
      ]
    },
    {
      "cell_type": "markdown",
      "metadata": {
        "id": "5K-hBW-ZPtko"
      },
      "source": [
        "## Calculate correlation among indicators"
      ]
    },
    {
      "cell_type": "code",
      "metadata": {
        "id": "pbWsShzIme0J"
      },
      "source": [
        "def calculate_correlation(df):\n",
        "  Allgoals=df['Goal'].drop_duplicates()\n",
        "  for goal in Allgoals:\n",
        "    Alltargets=list(df['Target'].drop_duplicates())\n",
        "    if len(Alltargets)>1:\n",
        "      group=df[df['Goal']==goal]\n",
        "      group=group.drop(columns=['UniqueID','Goal','Indicator','SeriesCode','UniqueIDNew'],axis=1)\n",
        "      group=group.drop_duplicates(subset = ['Target', 'TimePeriod'])\n",
        "      group=group.reset_index(drop=True)\n",
        "      group_pivot=group.pivot(index=['TimePeriod'], columns=['Target'], values='Value').reset_index()\n",
        "      group_pivot=group_pivot.apply(lambda x:x.astype(float))\n",
        "      correlation=group_pivot.corr()\n",
        "      correlation=pd.DataFrame(correlation)\n",
        "      correlation=correlation.drop('TimePeriod', axis=1)\n",
        "      correlation=correlation.drop('TimePeriod', axis=0)\n",
        "      path='/content/drive/MyDrive/Colab Notebooks/Practicum SDG Networks/Data/Indonesia Correlation among Targets/Indonesia Correlation among Targets of Goal '+str(goal)+'.csv'\n",
        "      correlation.to_csv(path)\n",
        "      print('Goal '+str(goal)+' completed')"
      ],
      "execution_count": 50,
      "outputs": []
    },
    {
      "cell_type": "code",
      "metadata": {
        "colab": {
          "base_uri": "https://localhost:8080/"
        },
        "id": "TVpz002l5BXT",
        "outputId": "18d03a61-ce1b-439f-84ce-065c86768bf0"
      },
      "source": [
        "calculate_correlation(FilteredIndo)"
      ],
      "execution_count": 51,
      "outputs": [
        {
          "output_type": "stream",
          "name": "stdout",
          "text": [
            "Goal 1.0 completed\n",
            "Goal 2.0 completed\n",
            "Goal 3.0 completed\n",
            "Goal 4.0 completed\n",
            "Goal 5.0 completed\n",
            "Goal 6.0 completed\n",
            "Goal 7.0 completed\n",
            "Goal 8.0 completed\n",
            "Goal 9.0 completed\n",
            "Goal 10.0 completed\n",
            "Goal 11.0 completed\n",
            "Goal 12.0 completed\n",
            "Goal 13.0 completed\n",
            "Goal 14.0 completed\n",
            "Goal 15.0 completed\n",
            "Goal 16.0 completed\n",
            "Goal 17.0 completed\n"
          ]
        }
      ]
    },
    {
      "cell_type": "code",
      "metadata": {
        "id": "ThjG6j-UdqKm"
      },
      "source": [
        "def calculate_correlation(df):\n",
        "  Allgoals=df['Goal'].drop_duplicates()\n",
        "  for goal in Allgoals:\n",
        "    Alltargets=list(df['Target'].drop_duplicates())\n",
        "    if len(Alltargets)>1:\n",
        "      group=df[df['Goal']==goal]\n",
        "      group=group.drop(columns=['UniqueID','Goal','Indicator','SeriesCode','UniqueIDNew'],axis=1)\n",
        "      group=group.drop_duplicates(subset = ['Target', 'TimePeriod'])\n",
        "      group=group.reset_index(drop=True)\n",
        "      group_pivot=group.pivot(index=['TimePeriod'], columns=['Target'], values='Value').reset_index()\n",
        "      group_pivot=group_pivot.apply(lambda x:x.astype(float))\n",
        "      correlation=group_pivot.corr()\n",
        "      correlation=pd.DataFrame(correlation)\n",
        "      correlation=correlation.drop('TimePeriod', axis=1)\n",
        "      correlation=correlation.drop('TimePeriod', axis=0)\n",
        "      path='/content/drive/MyDrive/Colab Notebooks/Practicum SDG Networks/Data/Guatemala Correlation among Targets/Guatemala Correlation among Targets of Goal '+str(goal)+'.csv'\n",
        "      correlation.to_csv(path)\n",
        "      print('Goal '+str(goal)+' completed')"
      ],
      "execution_count": 52,
      "outputs": []
    },
    {
      "cell_type": "code",
      "metadata": {
        "colab": {
          "base_uri": "https://localhost:8080/"
        },
        "id": "tbOHc1_JeA3b",
        "outputId": "ed4c19ea-0be7-4a46-f216-5ffc4cc17732"
      },
      "source": [
        "calculate_correlation(FilteredGuate)"
      ],
      "execution_count": 53,
      "outputs": [
        {
          "output_type": "stream",
          "name": "stdout",
          "text": [
            "Goal 1.0 completed\n",
            "Goal 2.0 completed\n",
            "Goal 3.0 completed\n",
            "Goal 4.0 completed\n",
            "Goal 5.0 completed\n",
            "Goal 6.0 completed\n",
            "Goal 7.0 completed\n",
            "Goal 8.0 completed\n",
            "Goal 9.0 completed\n",
            "Goal 10.0 completed\n",
            "Goal 11.0 completed\n",
            "Goal 12.0 completed\n",
            "Goal 13.0 completed\n",
            "Goal 14.0 completed\n",
            "Goal 15.0 completed\n",
            "Goal 16.0 completed\n",
            "Goal 17.0 completed\n"
          ]
        }
      ]
    }
  ]
}