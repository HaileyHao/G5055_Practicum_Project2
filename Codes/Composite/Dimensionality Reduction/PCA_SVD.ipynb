{
  "nbformat": 4,
  "nbformat_minor": 5,
  "metadata": {
    "kernelspec": {
      "display_name": "Python 3",
      "language": "python",
      "name": "python3"
    },
    "language_info": {
      "codemirror_mode": {
        "name": "ipython",
        "version": 3
      },
      "file_extension": ".py",
      "mimetype": "text/x-python",
      "name": "python",
      "nbconvert_exporter": "python",
      "pygments_lexer": "ipython3",
      "version": "3.8.8"
    },
    "colab": {
      "name": "PCA_SVD.ipynb",
      "provenance": [],
      "collapsed_sections": []
    }
  },
  "cells": [
    {
      "cell_type": "code",
      "metadata": {
        "id": "6a276ac8"
      },
      "source": [
        "import pandas as pd \n",
        "import os\n",
        "import glob\n",
        "import pandas as pd\n",
        "import numpy as np\n",
        "from sklearn.decomposition import PCA\n",
        "import matplotlib.pyplot as plt\n",
        "import seaborn as sns\n",
        "from sklearn.preprocessing import StandardScaler\n",
        "from sklearn.decomposition import TruncatedSVD"
      ],
      "id": "6a276ac8",
      "execution_count": 46,
      "outputs": []
    },
    {
      "cell_type": "code",
      "metadata": {
        "colab": {
          "base_uri": "https://localhost:8080/"
        },
        "id": "Hf5NCg-ZjcAU",
        "outputId": "dbc7247b-6887-4eee-ae36-61a9ad2047fb"
      },
      "source": [
        "from google.colab import drive\n",
        "drive.mount('/content/drive')"
      ],
      "id": "Hf5NCg-ZjcAU",
      "execution_count": 2,
      "outputs": [
        {
          "output_type": "stream",
          "name": "stdout",
          "text": [
            "Mounted at /content/drive\n"
          ]
        }
      ]
    },
    {
      "cell_type": "code",
      "metadata": {
        "colab": {
          "base_uri": "https://localhost:8080/"
        },
        "id": "rs0ts1IB8UVb",
        "outputId": "cd7fc32c-2d2b-4b23-b93d-a492140f99f3"
      },
      "source": [
        "PATH_I = \"/content/drive/MyDrive/Colab Notebooks/Practicum SDG Networks/Data/Indicators_with_imputation/Indonesia/\"\n",
        "PATH_G = \"/content/drive/MyDrive/Colab Notebooks/Practicum SDG Networks/Data/Indicators_with_imputation/Guatemala/\"\n",
        "EXT = \"*.csv\"\n",
        "all_csv_files_I = [file\n",
        "                 for path, subdir, files in os.walk(PATH_I)\n",
        "                 for file in glob(os.path.join(path, EXT))]\n",
        "all_csv_files_G = [file\n",
        "                 for path, subdir, files in os.walk(PATH_G)\n",
        "                 for file in glob(os.path.join(path, EXT))]\n",
        "print(all_csv_files_I)\n",
        "print(all_csv_files_G)"
      ],
      "id": "rs0ts1IB8UVb",
      "execution_count": 42,
      "outputs": [
        {
          "output_type": "stream",
          "name": "stdout",
          "text": [
            "['/content/drive/MyDrive/Colab Notebooks/Practicum SDG Networks/Data/Indicators_with_imputation/Indonesia/Indicator17.8.1.csv', '/content/drive/MyDrive/Colab Notebooks/Practicum SDG Networks/Data/Indicators_with_imputation/Indonesia/Indicator11.5.2.csv', '/content/drive/MyDrive/Colab Notebooks/Practicum SDG Networks/Data/Indicators_with_imputation/Indonesia/Indicator12.4.2.csv', '/content/drive/MyDrive/Colab Notebooks/Practicum SDG Networks/Data/Indicators_with_imputation/Indonesia/Indicator16.a.1.csv', '/content/drive/MyDrive/Colab Notebooks/Practicum SDG Networks/Data/Indicators_with_imputation/Indonesia/Indicator11.5.1.csv', '/content/drive/MyDrive/Colab Notebooks/Practicum SDG Networks/Data/Indicators_with_imputation/Indonesia/Indicator4.5.1.csv', '/content/drive/MyDrive/Colab Notebooks/Practicum SDG Networks/Data/Indicators_with_imputation/Indonesia/Indicator8.9.1.csv', '/content/drive/MyDrive/Colab Notebooks/Practicum SDG Networks/Data/Indicators_with_imputation/Indonesia/Indicator17.18.2.csv', '/content/drive/MyDrive/Colab Notebooks/Practicum SDG Networks/Data/Indicators_with_imputation/Indonesia/Indicator6.2.1.csv', '/content/drive/MyDrive/Colab Notebooks/Practicum SDG Networks/Data/Indicators_with_imputation/Indonesia/Indicator7.1.2.csv', '/content/drive/MyDrive/Colab Notebooks/Practicum SDG Networks/Data/Indicators_with_imputation/Indonesia/Indicator15.8.1.csv', '/content/drive/MyDrive/Colab Notebooks/Practicum SDG Networks/Data/Indicators_with_imputation/Indonesia/Indicator3.d.2.csv', '/content/drive/MyDrive/Colab Notebooks/Practicum SDG Networks/Data/Indicators_with_imputation/Indonesia/Indicator1.a.2.csv', '/content/drive/MyDrive/Colab Notebooks/Practicum SDG Networks/Data/Indicators_with_imputation/Indonesia/Indicator2.b.1.csv', '/content/drive/MyDrive/Colab Notebooks/Practicum SDG Networks/Data/Indicators_with_imputation/Indonesia/Indicator17.18.3.csv', '/content/drive/MyDrive/Colab Notebooks/Practicum SDG Networks/Data/Indicators_with_imputation/Indonesia/Indicator3.9.3.csv', '/content/drive/MyDrive/Colab Notebooks/Practicum SDG Networks/Data/Indicators_with_imputation/Indonesia/Indicator7.1.1.csv', '/content/drive/MyDrive/Colab Notebooks/Practicum SDG Networks/Data/Indicators_with_imputation/Indonesia/Indicator7.3.1.csv', '/content/drive/MyDrive/Colab Notebooks/Practicum SDG Networks/Data/Indicators_with_imputation/Indonesia/Indicator4.2.2.csv', '/content/drive/MyDrive/Colab Notebooks/Practicum SDG Networks/Data/Indicators_with_imputation/Indonesia/Indicator6.5.1.csv', '/content/drive/MyDrive/Colab Notebooks/Practicum SDG Networks/Data/Indicators_with_imputation/Indonesia/Indicator17.9.1.csv', '/content/drive/MyDrive/Colab Notebooks/Practicum SDG Networks/Data/Indicators_with_imputation/Indonesia/Indicator3.b.1.csv', '/content/drive/MyDrive/Colab Notebooks/Practicum SDG Networks/Data/Indicators_with_imputation/Indonesia/Indicator13.1.2.csv', '/content/drive/MyDrive/Colab Notebooks/Practicum SDG Networks/Data/Indicators_with_imputation/Indonesia/Indicator13.1.3.csv', '/content/drive/MyDrive/Colab Notebooks/Practicum SDG Networks/Data/Indicators_with_imputation/Indonesia/Indicator11.6.2.csv', '/content/drive/MyDrive/Colab Notebooks/Practicum SDG Networks/Data/Indicators_with_imputation/Indonesia/Indicator13.1.1.csv', '/content/drive/MyDrive/Colab Notebooks/Practicum SDG Networks/Data/Indicators_with_imputation/Indonesia/Indicator8.8.2.csv', '/content/drive/MyDrive/Colab Notebooks/Practicum SDG Networks/Data/Indicators_with_imputation/Indonesia/Indicator10.4.1.csv', '/content/drive/MyDrive/Colab Notebooks/Practicum SDG Networks/Data/Indicators_with_imputation/Indonesia/Indicator1.4.1.csv', '/content/drive/MyDrive/Colab Notebooks/Practicum SDG Networks/Data/Indicators_with_imputation/Indonesia/Indicator15.2.1.csv', '/content/drive/MyDrive/Colab Notebooks/Practicum SDG Networks/Data/Indicators_with_imputation/Indonesia/Indicator16.3.2.csv', '/content/drive/MyDrive/Colab Notebooks/Practicum SDG Networks/Data/Indicators_with_imputation/Indonesia/Indicator2.5.2.csv', '/content/drive/MyDrive/Colab Notebooks/Practicum SDG Networks/Data/Indicators_with_imputation/Indonesia/Indicator3.3.2.csv', '/content/drive/MyDrive/Colab Notebooks/Practicum SDG Networks/Data/Indicators_with_imputation/Indonesia/Indicator2.5.1.csv', '/content/drive/MyDrive/Colab Notebooks/Practicum SDG Networks/Data/Indicators_with_imputation/Indonesia/Indicator17.1.1.csv', '/content/drive/MyDrive/Colab Notebooks/Practicum SDG Networks/Data/Indicators_with_imputation/Indonesia/Indicator8.2.1.csv', '/content/drive/MyDrive/Colab Notebooks/Practicum SDG Networks/Data/Indicators_with_imputation/Indonesia/Indicator3.3.3.csv', '/content/drive/MyDrive/Colab Notebooks/Practicum SDG Networks/Data/Indicators_with_imputation/Indonesia/Indicator12.b.1.csv', '/content/drive/MyDrive/Colab Notebooks/Practicum SDG Networks/Data/Indicators_with_imputation/Indonesia/Indicator10.c.1.csv', '/content/drive/MyDrive/Colab Notebooks/Practicum SDG Networks/Data/Indicators_with_imputation/Indonesia/Indicator7.b.1.csv', '/content/drive/MyDrive/Colab Notebooks/Practicum SDG Networks/Data/Indicators_with_imputation/Indonesia/Indicator9.4.1.csv', '/content/drive/MyDrive/Colab Notebooks/Practicum SDG Networks/Data/Indicators_with_imputation/Indonesia/Indicator17.3.2.csv', '/content/drive/MyDrive/Colab Notebooks/Practicum SDG Networks/Data/Indicators_with_imputation/Indonesia/Indicator2.1.1.csv', '/content/drive/MyDrive/Colab Notebooks/Practicum SDG Networks/Data/Indicators_with_imputation/Indonesia/Indicator1.2.1.csv', '/content/drive/MyDrive/Colab Notebooks/Practicum SDG Networks/Data/Indicators_with_imputation/Indonesia/Indicator17.4.1.csv', '/content/drive/MyDrive/Colab Notebooks/Practicum SDG Networks/Data/Indicators_with_imputation/Indonesia/Indicator3.3.5.csv', '/content/drive/MyDrive/Colab Notebooks/Practicum SDG Networks/Data/Indicators_with_imputation/Indonesia/Indicator2.1.2.csv', '/content/drive/MyDrive/Colab Notebooks/Practicum SDG Networks/Data/Indicators_with_imputation/Indonesia/Indicator3.2.2.csv', '/content/drive/MyDrive/Colab Notebooks/Practicum SDG Networks/Data/Indicators_with_imputation/Indonesia/Indicator16.2.2.csv', '/content/drive/MyDrive/Colab Notebooks/Practicum SDG Networks/Data/Indicators_with_imputation/Indonesia/Indicator15.1.1.csv', '/content/drive/MyDrive/Colab Notebooks/Practicum SDG Networks/Data/Indicators_with_imputation/Indonesia/Indicator15.6.1.csv', '/content/drive/MyDrive/Colab Notebooks/Practicum SDG Networks/Data/Indicators_with_imputation/Indonesia/Indicator17.3.1.csv', '/content/drive/MyDrive/Colab Notebooks/Practicum SDG Networks/Data/Indicators_with_imputation/Indonesia/Indicator1.5.1.csv', '/content/drive/MyDrive/Colab Notebooks/Practicum SDG Networks/Data/Indicators_with_imputation/Indonesia/Indicator5.b.1.csv', '/content/drive/MyDrive/Colab Notebooks/Practicum SDG Networks/Data/Indicators_with_imputation/Indonesia/Indicator3.2.1.csv', '/content/drive/MyDrive/Colab Notebooks/Practicum SDG Networks/Data/Indicators_with_imputation/Indonesia/Indicator7.a.1.csv', '/content/drive/MyDrive/Colab Notebooks/Practicum SDG Networks/Data/Indicators_with_imputation/Indonesia/Indicator9.1.2.csv', '/content/drive/MyDrive/Colab Notebooks/Practicum SDG Networks/Data/Indicators_with_imputation/Indonesia/Indicator17.13.1.csv', '/content/drive/MyDrive/Colab Notebooks/Practicum SDG Networks/Data/Indicators_with_imputation/Indonesia/Indicator3.4.2.csv', '/content/drive/MyDrive/Colab Notebooks/Practicum SDG Networks/Data/Indicators_with_imputation/Indonesia/Indicator17.17.1.csv', '/content/drive/MyDrive/Colab Notebooks/Practicum SDG Networks/Data/Indicators_with_imputation/Indonesia/Indicator1.5.3.csv', '/content/drive/MyDrive/Colab Notebooks/Practicum SDG Networks/Data/Indicators_with_imputation/Indonesia/Indicator1.5.2.csv', '/content/drive/MyDrive/Colab Notebooks/Practicum SDG Networks/Data/Indicators_with_imputation/Indonesia/Indicator14.7.1.csv', '/content/drive/MyDrive/Colab Notebooks/Practicum SDG Networks/Data/Indicators_with_imputation/Indonesia/Indicator12.a.1.csv', '/content/drive/MyDrive/Colab Notebooks/Practicum SDG Networks/Data/Indicators_with_imputation/Indonesia/Indicator1.3.1.csv', '/content/drive/MyDrive/Colab Notebooks/Practicum SDG Networks/Data/Indicators_with_imputation/Indonesia/Indicator3.6.1.csv', '/content/drive/MyDrive/Colab Notebooks/Practicum SDG Networks/Data/Indicators_with_imputation/Indonesia/Indicator2.2.1.csv', '/content/drive/MyDrive/Colab Notebooks/Practicum SDG Networks/Data/Indicators_with_imputation/Indonesia/Indicator9.5.1.csv', '/content/drive/MyDrive/Colab Notebooks/Practicum SDG Networks/Data/Indicators_with_imputation/Indonesia/Indicator8.1.1.csv', '/content/drive/MyDrive/Colab Notebooks/Practicum SDG Networks/Data/Indicators_with_imputation/Indonesia/Indicator8.3.1.csv', '/content/drive/MyDrive/Colab Notebooks/Practicum SDG Networks/Data/Indicators_with_imputation/Indonesia/Indicator11.b.2.csv', '/content/drive/MyDrive/Colab Notebooks/Practicum SDG Networks/Data/Indicators_with_imputation/Indonesia/Indicator16.6.1.csv', '/content/drive/MyDrive/Colab Notebooks/Practicum SDG Networks/Data/Indicators_with_imputation/Indonesia/Indicator1.5.4.csv', '/content/drive/MyDrive/Colab Notebooks/Practicum SDG Networks/Data/Indicators_with_imputation/Indonesia/Indicator15.5.1.csv', '/content/drive/MyDrive/Colab Notebooks/Practicum SDG Networks/Data/Indicators_with_imputation/Indonesia/Indicator12.c.1.csv', '/content/drive/MyDrive/Colab Notebooks/Practicum SDG Networks/Data/Indicators_with_imputation/Indonesia/Indicator10.7.3.csv', '/content/drive/MyDrive/Colab Notebooks/Practicum SDG Networks/Data/Indicators_with_imputation/Indonesia/Indicator11.b.1.csv', '/content/drive/MyDrive/Colab Notebooks/Practicum SDG Networks/Data/Indicators_with_imputation/Indonesia/Indicator9.5.2.csv', '/content/drive/MyDrive/Colab Notebooks/Practicum SDG Networks/Data/Indicators_with_imputation/Indonesia/Indicator1.1.1.csv', '/content/drive/MyDrive/Colab Notebooks/Practicum SDG Networks/Data/Indicators_with_imputation/Indonesia/Indicator3.4.1.csv', '/content/drive/MyDrive/Colab Notebooks/Practicum SDG Networks/Data/Indicators_with_imputation/Indonesia/Indicator2.c.1.csv', '/content/drive/MyDrive/Colab Notebooks/Practicum SDG Networks/Data/Indicators_with_imputation/Indonesia/Indicator14.1.1.csv', '/content/drive/MyDrive/Colab Notebooks/Practicum SDG Networks/Data/Indicators_with_imputation/Indonesia/Indicator2.2.2.csv', '/content/drive/MyDrive/Colab Notebooks/Practicum SDG Networks/Data/Indicators_with_imputation/Indonesia/Indicator11.1.1.csv', '/content/drive/MyDrive/Colab Notebooks/Practicum SDG Networks/Data/Indicators_with_imputation/Indonesia/Indicator7.2.1.csv', '/content/drive/MyDrive/Colab Notebooks/Practicum SDG Networks/Data/Indicators_with_imputation/Indonesia/Indicator10.5.1.csv', '/content/drive/MyDrive/Colab Notebooks/Practicum SDG Networks/Data/Indicators_with_imputation/Indonesia/Indicator8.b.1.csv', '/content/drive/MyDrive/Colab Notebooks/Practicum SDG Networks/Data/Indicators_with_imputation/Indonesia/Indicator6.4.1.csv', '/content/drive/MyDrive/Colab Notebooks/Practicum SDG Networks/Data/Indicators_with_imputation/Indonesia/Indicator4.3.1.csv', '/content/drive/MyDrive/Colab Notebooks/Practicum SDG Networks/Data/Indicators_with_imputation/Indonesia/Indicator6.4.2.csv', '/content/drive/MyDrive/Colab Notebooks/Practicum SDG Networks/Data/Indicators_with_imputation/Indonesia/Indicator6.6.1.csv', '/content/drive/MyDrive/Colab Notebooks/Practicum SDG Networks/Data/Indicators_with_imputation/Indonesia/Indicator3.8.1.csv', '/content/drive/MyDrive/Colab Notebooks/Practicum SDG Networks/Data/Indicators_with_imputation/Indonesia/Indicator2.a.1.csv', '/content/drive/MyDrive/Colab Notebooks/Practicum SDG Networks/Data/Indicators_with_imputation/Indonesia/Indicator3.8.2.csv']\n",
            "['/content/drive/MyDrive/Colab Notebooks/Practicum SDG Networks/Data/Indicators_with_imputation/Guatemala/Indicator3.6.1.csv', '/content/drive/MyDrive/Colab Notebooks/Practicum SDG Networks/Data/Indicators_with_imputation/Guatemala/Indicator2.2.1.csv', '/content/drive/MyDrive/Colab Notebooks/Practicum SDG Networks/Data/Indicators_with_imputation/Guatemala/Indicator1.3.1.csv', '/content/drive/MyDrive/Colab Notebooks/Practicum SDG Networks/Data/Indicators_with_imputation/Guatemala/Indicator16.6.1.csv', '/content/drive/MyDrive/Colab Notebooks/Practicum SDG Networks/Data/Indicators_with_imputation/Guatemala/Indicator9.5.1.csv', '/content/drive/MyDrive/Colab Notebooks/Practicum SDG Networks/Data/Indicators_with_imputation/Guatemala/Indicator12.a.1.csv', '/content/drive/MyDrive/Colab Notebooks/Practicum SDG Networks/Data/Indicators_with_imputation/Guatemala/Indicator7.a.1.csv', '/content/drive/MyDrive/Colab Notebooks/Practicum SDG Networks/Data/Indicators_with_imputation/Guatemala/Indicator17.17.1.csv', '/content/drive/MyDrive/Colab Notebooks/Practicum SDG Networks/Data/Indicators_with_imputation/Guatemala/Indicator11.b.2.csv', '/content/drive/MyDrive/Colab Notebooks/Practicum SDG Networks/Data/Indicators_with_imputation/Guatemala/Indicator8.1.1.csv', '/content/drive/MyDrive/Colab Notebooks/Practicum SDG Networks/Data/Indicators_with_imputation/Guatemala/Indicator14.1.1.csv', '/content/drive/MyDrive/Colab Notebooks/Practicum SDG Networks/Data/Indicators_with_imputation/Guatemala/Indicator8.3.1.csv', '/content/drive/MyDrive/Colab Notebooks/Practicum SDG Networks/Data/Indicators_with_imputation/Guatemala/Indicator12.c.1.csv', '/content/drive/MyDrive/Colab Notebooks/Practicum SDG Networks/Data/Indicators_with_imputation/Guatemala/Indicator9.5.2.csv', '/content/drive/MyDrive/Colab Notebooks/Practicum SDG Networks/Data/Indicators_with_imputation/Guatemala/Indicator2.2.2.csv', '/content/drive/MyDrive/Colab Notebooks/Practicum SDG Networks/Data/Indicators_with_imputation/Guatemala/Indicator3.4.1.csv', '/content/drive/MyDrive/Colab Notebooks/Practicum SDG Networks/Data/Indicators_with_imputation/Guatemala/Indicator15.5.1.csv', '/content/drive/MyDrive/Colab Notebooks/Practicum SDG Networks/Data/Indicators_with_imputation/Guatemala/Indicator11.b.1.csv', '/content/drive/MyDrive/Colab Notebooks/Practicum SDG Networks/Data/Indicators_with_imputation/Guatemala/Indicator1.5.4.csv', '/content/drive/MyDrive/Colab Notebooks/Practicum SDG Networks/Data/Indicators_with_imputation/Guatemala/Indicator2.c.1.csv', '/content/drive/MyDrive/Colab Notebooks/Practicum SDG Networks/Data/Indicators_with_imputation/Guatemala/Indicator11.1.1.csv', '/content/drive/MyDrive/Colab Notebooks/Practicum SDG Networks/Data/Indicators_with_imputation/Guatemala/Indicator10.7.3.csv', '/content/drive/MyDrive/Colab Notebooks/Practicum SDG Networks/Data/Indicators_with_imputation/Guatemala/Indicator6.6.1.csv', '/content/drive/MyDrive/Colab Notebooks/Practicum SDG Networks/Data/Indicators_with_imputation/Guatemala/Indicator14.b.1.csv', '/content/drive/MyDrive/Colab Notebooks/Practicum SDG Networks/Data/Indicators_with_imputation/Guatemala/Indicator17.19.2.csv', '/content/drive/MyDrive/Colab Notebooks/Practicum SDG Networks/Data/Indicators_with_imputation/Guatemala/Indicator10.5.1.csv', '/content/drive/MyDrive/Colab Notebooks/Practicum SDG Networks/Data/Indicators_with_imputation/Guatemala/Indicator6.4.1.csv', '/content/drive/MyDrive/Colab Notebooks/Practicum SDG Networks/Data/Indicators_with_imputation/Guatemala/Indicator8.b.1.csv', '/content/drive/MyDrive/Colab Notebooks/Practicum SDG Networks/Data/Indicators_with_imputation/Guatemala/Indicator3.8.1.csv', '/content/drive/MyDrive/Colab Notebooks/Practicum SDG Networks/Data/Indicators_with_imputation/Guatemala/Indicator6.4.2.csv', '/content/drive/MyDrive/Colab Notebooks/Practicum SDG Networks/Data/Indicators_with_imputation/Guatemala/Indicator4.3.1.csv', '/content/drive/MyDrive/Colab Notebooks/Practicum SDG Networks/Data/Indicators_with_imputation/Guatemala/Indicator4.5.1.csv', '/content/drive/MyDrive/Colab Notebooks/Practicum SDG Networks/Data/Indicators_with_imputation/Guatemala/Indicator5.1.1.csv', '/content/drive/MyDrive/Colab Notebooks/Practicum SDG Networks/Data/Indicators_with_imputation/Guatemala/Indicator11.5.2.csv', '/content/drive/MyDrive/Colab Notebooks/Practicum SDG Networks/Data/Indicators_with_imputation/Guatemala/Indicator16.a.1.csv', '/content/drive/MyDrive/Colab Notebooks/Practicum SDG Networks/Data/Indicators_with_imputation/Guatemala/Indicator6.2.1.csv', '/content/drive/MyDrive/Colab Notebooks/Practicum SDG Networks/Data/Indicators_with_imputation/Guatemala/Indicator12.4.2.csv', '/content/drive/MyDrive/Colab Notebooks/Practicum SDG Networks/Data/Indicators_with_imputation/Guatemala/Indicator2.a.1.csv', '/content/drive/MyDrive/Colab Notebooks/Practicum SDG Networks/Data/Indicators_with_imputation/Guatemala/Indicator7.2.1.csv', '/content/drive/MyDrive/Colab Notebooks/Practicum SDG Networks/Data/Indicators_with_imputation/Guatemala/Indicator11.5.1.csv', '/content/drive/MyDrive/Colab Notebooks/Practicum SDG Networks/Data/Indicators_with_imputation/Guatemala/Indicator7.1.1.csv', '/content/drive/MyDrive/Colab Notebooks/Practicum SDG Networks/Data/Indicators_with_imputation/Guatemala/Indicator7.1.2.csv', '/content/drive/MyDrive/Colab Notebooks/Practicum SDG Networks/Data/Indicators_with_imputation/Guatemala/Indicator4.2.2.csv', '/content/drive/MyDrive/Colab Notebooks/Practicum SDG Networks/Data/Indicators_with_imputation/Guatemala/Indicator17.18.3.csv', '/content/drive/MyDrive/Colab Notebooks/Practicum SDG Networks/Data/Indicators_with_imputation/Guatemala/Indicator17.8.1.csv', '/content/drive/MyDrive/Colab Notebooks/Practicum SDG Networks/Data/Indicators_with_imputation/Guatemala/Indicator15.8.1.csv', '/content/drive/MyDrive/Colab Notebooks/Practicum SDG Networks/Data/Indicators_with_imputation/Guatemala/Indicator3.9.3.csv', '/content/drive/MyDrive/Colab Notebooks/Practicum SDG Networks/Data/Indicators_with_imputation/Guatemala/Indicator7.3.1.csv', '/content/drive/MyDrive/Colab Notebooks/Practicum SDG Networks/Data/Indicators_with_imputation/Guatemala/Indicator17.18.2.csv', '/content/drive/MyDrive/Colab Notebooks/Practicum SDG Networks/Data/Indicators_with_imputation/Guatemala/Indicator1.a.2.csv', '/content/drive/MyDrive/Colab Notebooks/Practicum SDG Networks/Data/Indicators_with_imputation/Guatemala/Indicator6.1.1.csv', '/content/drive/MyDrive/Colab Notebooks/Practicum SDG Networks/Data/Indicators_with_imputation/Guatemala/Indicator3.b.1.csv', '/content/drive/MyDrive/Colab Notebooks/Practicum SDG Networks/Data/Indicators_with_imputation/Guatemala/Indicator13.1.1.csv', '/content/drive/MyDrive/Colab Notebooks/Practicum SDG Networks/Data/Indicators_with_imputation/Guatemala/Indicator10.4.1.csv', '/content/drive/MyDrive/Colab Notebooks/Practicum SDG Networks/Data/Indicators_with_imputation/Guatemala/Indicator11.6.2.csv', '/content/drive/MyDrive/Colab Notebooks/Practicum SDG Networks/Data/Indicators_with_imputation/Guatemala/Indicator17.9.1.csv', '/content/drive/MyDrive/Colab Notebooks/Practicum SDG Networks/Data/Indicators_with_imputation/Guatemala/Indicator6.5.1.csv', '/content/drive/MyDrive/Colab Notebooks/Practicum SDG Networks/Data/Indicators_with_imputation/Guatemala/Indicator8.8.2.csv', '/content/drive/MyDrive/Colab Notebooks/Practicum SDG Networks/Data/Indicators_with_imputation/Guatemala/Indicator13.1.2.csv', '/content/drive/MyDrive/Colab Notebooks/Practicum SDG Networks/Data/Indicators_with_imputation/Guatemala/Indicator13.1.3.csv', '/content/drive/MyDrive/Colab Notebooks/Practicum SDG Networks/Data/Indicators_with_imputation/Guatemala/Indicator3.4.2.csv', '/content/drive/MyDrive/Colab Notebooks/Practicum SDG Networks/Data/Indicators_with_imputation/Guatemala/Indicator15.2.1.csv', '/content/drive/MyDrive/Colab Notebooks/Practicum SDG Networks/Data/Indicators_with_imputation/Guatemala/Indicator3.3.1.csv', '/content/drive/MyDrive/Colab Notebooks/Practicum SDG Networks/Data/Indicators_with_imputation/Guatemala/Indicator1.4.1.csv', '/content/drive/MyDrive/Colab Notebooks/Practicum SDG Networks/Data/Indicators_with_imputation/Guatemala/Indicator2.5.2.csv', '/content/drive/MyDrive/Colab Notebooks/Practicum SDG Networks/Data/Indicators_with_imputation/Guatemala/Indicator2.5.1.csv', '/content/drive/MyDrive/Colab Notebooks/Practicum SDG Networks/Data/Indicators_with_imputation/Guatemala/Indicator17.3.2.csv', '/content/drive/MyDrive/Colab Notebooks/Practicum SDG Networks/Data/Indicators_with_imputation/Guatemala/Indicator3.3.3.csv', '/content/drive/MyDrive/Colab Notebooks/Practicum SDG Networks/Data/Indicators_with_imputation/Guatemala/Indicator3.3.2.csv', '/content/drive/MyDrive/Colab Notebooks/Practicum SDG Networks/Data/Indicators_with_imputation/Guatemala/Indicator16.3.2.csv', '/content/drive/MyDrive/Colab Notebooks/Practicum SDG Networks/Data/Indicators_with_imputation/Guatemala/Indicator8.2.1.csv', '/content/drive/MyDrive/Colab Notebooks/Practicum SDG Networks/Data/Indicators_with_imputation/Guatemala/Indicator10.c.1.csv', '/content/drive/MyDrive/Colab Notebooks/Practicum SDG Networks/Data/Indicators_with_imputation/Guatemala/Indicator17.1.1.csv', '/content/drive/MyDrive/Colab Notebooks/Practicum SDG Networks/Data/Indicators_with_imputation/Guatemala/Indicator3.3.5.csv', '/content/drive/MyDrive/Colab Notebooks/Practicum SDG Networks/Data/Indicators_with_imputation/Guatemala/Indicator2.1.1.csv', '/content/drive/MyDrive/Colab Notebooks/Practicum SDG Networks/Data/Indicators_with_imputation/Guatemala/Indicator2.1.2.csv', '/content/drive/MyDrive/Colab Notebooks/Practicum SDG Networks/Data/Indicators_with_imputation/Guatemala/Indicator7.b.1.csv', '/content/drive/MyDrive/Colab Notebooks/Practicum SDG Networks/Data/Indicators_with_imputation/Guatemala/Indicator9.4.1.csv', '/content/drive/MyDrive/Colab Notebooks/Practicum SDG Networks/Data/Indicators_with_imputation/Guatemala/Indicator17.3.1.csv', '/content/drive/MyDrive/Colab Notebooks/Practicum SDG Networks/Data/Indicators_with_imputation/Guatemala/Indicator1.5.1.csv', '/content/drive/MyDrive/Colab Notebooks/Practicum SDG Networks/Data/Indicators_with_imputation/Guatemala/Indicator12.b.1.csv', '/content/drive/MyDrive/Colab Notebooks/Practicum SDG Networks/Data/Indicators_with_imputation/Guatemala/Indicator15.6.1.csv', '/content/drive/MyDrive/Colab Notebooks/Practicum SDG Networks/Data/Indicators_with_imputation/Guatemala/Indicator17.4.1.csv', '/content/drive/MyDrive/Colab Notebooks/Practicum SDG Networks/Data/Indicators_with_imputation/Guatemala/Indicator14.7.1.csv', '/content/drive/MyDrive/Colab Notebooks/Practicum SDG Networks/Data/Indicators_with_imputation/Guatemala/Indicator1.5.2.csv', '/content/drive/MyDrive/Colab Notebooks/Practicum SDG Networks/Data/Indicators_with_imputation/Guatemala/Indicator16.2.2.csv', '/content/drive/MyDrive/Colab Notebooks/Practicum SDG Networks/Data/Indicators_with_imputation/Guatemala/Indicator9.1.2.csv', '/content/drive/MyDrive/Colab Notebooks/Practicum SDG Networks/Data/Indicators_with_imputation/Guatemala/Indicator3.2.2.csv', '/content/drive/MyDrive/Colab Notebooks/Practicum SDG Networks/Data/Indicators_with_imputation/Guatemala/Indicator17.13.1.csv', '/content/drive/MyDrive/Colab Notebooks/Practicum SDG Networks/Data/Indicators_with_imputation/Guatemala/Indicator1.5.3.csv', '/content/drive/MyDrive/Colab Notebooks/Practicum SDG Networks/Data/Indicators_with_imputation/Guatemala/Indicator3.2.1.csv', '/content/drive/MyDrive/Colab Notebooks/Practicum SDG Networks/Data/Indicators_with_imputation/Guatemala/Indicator15.1.1.csv']\n"
          ]
        }
      ]
    },
    {
      "cell_type": "code",
      "metadata": {
        "colab": {
          "base_uri": "https://localhost:8080/",
          "height": 37
        },
        "id": "TturbwcK_uwb",
        "outputId": "b7eecb2f-903e-4017-c2e2-8fbdafc3d006"
      },
      "source": [
        "os.path.basename(all_csv_files_I[0])"
      ],
      "id": "TturbwcK_uwb",
      "execution_count": 47,
      "outputs": [
        {
          "output_type": "execute_result",
          "data": {
            "application/vnd.google.colaboratory.intrinsic+json": {
              "type": "string"
            },
            "text/plain": [
              "'Indicator17.8.1.csv'"
            ]
          },
          "metadata": {},
          "execution_count": 47
        }
      ]
    },
    {
      "cell_type": "code",
      "metadata": {
        "colab": {
          "base_uri": "https://localhost:8080/"
        },
        "id": "VI-2N6JiAehu",
        "outputId": "428b4c95-e402-4dfd-a148-9227ac7a258c"
      },
      "source": [
        "df=pd.read_csv('/content/drive/MyDrive/Colab Notebooks/Practicum SDG Networks/Data/Indicators_with_imputation/Indonesia/Indicator17.8.1.csv')\n",
        "df = df.drop(['Unnamed: 0'], axis=1)\n",
        "df = df.set_index('Year')\n",
        "print(df)\n",
        "len(df.columns)"
      ],
      "id": "VI-2N6JiAehu",
      "execution_count": 53,
      "outputs": [
        {
          "output_type": "stream",
          "name": "stdout",
          "text": [
            "        IT_USE_ii99_new\n",
            "Year                   \n",
            "2012.0        14.520000\n",
            "2013.0        14.940000\n",
            "2014.0        17.140000\n",
            "2015.0        22.062740\n",
            "2016.0        25.447350\n",
            "2017.0        32.335810\n",
            "2018.0        39.904640\n",
            "2019.0        47.690650\n",
            "2020.0        48.504602\n",
            "2021.0        53.337814\n"
          ]
        },
        {
          "output_type": "execute_result",
          "data": {
            "text/plain": [
              "1"
            ]
          },
          "metadata": {},
          "execution_count": 53
        }
      ]
    },
    {
      "cell_type": "code",
      "metadata": {
        "id": "db71abef"
      },
      "source": [
        "# iteratively impute missing data - this for loop will include notes; guatemala follows the same structure (notes in this python chunk only)\n",
        "path_out_PCA_I = '/content/drive/MyDrive/Colab Notebooks/Practicum SDG Networks/Data/Composite/PCA/Indonesia/'\n",
        "path_out_SVD_I = '/content/drive/MyDrive/Colab Notebooks/Practicum SDG Networks/Data/Composite/SVD/Indonesia/'\n",
        "path_out_PCA_G = '/content/drive/MyDrive/Colab Notebooks/Practicum SDG Networks/Data/Composite/PCA/Guatemala/'\n",
        "path_out_SVD_G = '/content/drive/MyDrive/Colab Notebooks/Practicum SDG Networks/Data/Composite/SVD/Guatemala/'"
      ],
      "id": "db71abef",
      "execution_count": 50,
      "outputs": []
    },
    {
      "cell_type": "code",
      "metadata": {
        "id": "XbWNjX2JB4PD"
      },
      "source": [
        "#Indonesia\n",
        "for path in all_csv_files_I:\n",
        "    #Read in file name from path\n",
        "    file_name = os.path.basename(path)\n",
        "    #Read data into dataframe\n",
        "    df = pd.read_csv(path)\n",
        "    df = df.drop(['Unnamed: 0'], axis=1)\n",
        "    df = df.set_index('Year')\n",
        "    #Scale data\n",
        "    sc = StandardScaler()\n",
        "    df_scaled = sc.fit_transform(df)\n",
        "    \n",
        "    if len(df.columns)==1:\n",
        "      df_PCA = df\n",
        "      df_SVD = df\n",
        "      print('Indonesia '+file_name+' has only one measurement!')\n",
        "   \n",
        "    if len(df.columns)>1:\n",
        "      #PCA\n",
        "      pca = PCA(n_components=1)\n",
        "      pca.fit(df_scaled)\n",
        "      df_PCA = pca.transform(df_scaled) # create data with single pca vector\n",
        "      #SVD\n",
        "      svd = TruncatedSVD(n_components=1, algorithm='randomized',\n",
        "                   random_state=0)\n",
        "      df_SVD = svd.fit_transform(df_scaled)\n",
        "      print('Indonesia '+file_name+' has multiple measurements and composite is completed!')\n",
        "\n",
        "    #Write csv files\n",
        "    #df_PCA.to_csv(path_out_PCA_I+file_name)\n",
        "    #df_SVD.to_csv(path_out_SVD_I+file_name)\n",
        "    print(df_PCA)\n",
        "    print(df_SVD)\n",
        "    print('Export successful!')   "
      ],
      "id": "XbWNjX2JB4PD",
      "execution_count": null,
      "outputs": []
    },
    {
      "cell_type": "code",
      "metadata": {
        "id": "_TrQEBRJHNNi"
      },
      "source": [
        "#Guatemala\n",
        "for path in all_csv_files_G:\n",
        "    #Read in file name from path\n",
        "    file_name = os.path.basename(path)\n",
        "    #Read data into dataframe\n",
        "    df = pd.read_csv(path)\n",
        "    df = df.drop(['Unnamed: 0'], axis=1)\n",
        "    df = df.set_index('Year')\n",
        "    #Scale data\n",
        "    sc = StandardScaler()\n",
        "    df_scaled = sc.fit_transform(df)\n",
        "    \n",
        "    if len(df.columns)==1:\n",
        "      df_PCA = df\n",
        "      df_SVD = df\n",
        "      print('Indonesia '+file_name+' has only one measurement!')\n",
        "   \n",
        "    if len(df.columns)>1:\n",
        "      #PCA\n",
        "      pca = PCA(n_components=1)\n",
        "      pca.fit(df_scaled)\n",
        "      df_PCA = pca.transform(df_scaled) # create data with single pca vector\n",
        "      #SVD\n",
        "      svd = TruncatedSVD(n_components=1, algorithm='randomized',\n",
        "                   random_state=0)\n",
        "      df_SVD = svd.fit_transform(df_scaled)\n",
        "      print('Indonesia '+file_name+' has multiple measurements and composite is completed!')\n",
        "\n",
        "    #Write csv files\n",
        "    #df_PCA.to_csv(path_out_PCA_G+file_name)\n",
        "    #df_SVD.to_csv(path_out_SVD_G+file_name)\n",
        "    print(df_PCA)\n",
        "    print(df_SVD)\n",
        "    print('Export successful!')   "
      ],
      "id": "_TrQEBRJHNNi",
      "execution_count": null,
      "outputs": []
    }
  ]
}