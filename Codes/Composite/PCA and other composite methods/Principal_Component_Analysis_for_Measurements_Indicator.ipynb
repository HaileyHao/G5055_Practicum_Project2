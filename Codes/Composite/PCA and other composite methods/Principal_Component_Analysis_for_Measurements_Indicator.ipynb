{
  "nbformat": 4,
  "nbformat_minor": 0,
  "metadata": {
    "anaconda-cloud": {},
    "colab": {
      "name": "Principal_Component_Analysis for Measurements-Indicator.ipynb",
      "provenance": [],
      "collapsed_sections": []
    },
    "kernelspec": {
      "display_name": "Python 3",
      "language": "python",
      "name": "python3"
    },
    "language_info": {
      "codemirror_mode": {
        "name": "ipython",
        "version": 3
      },
      "file_extension": ".py",
      "mimetype": "text/x-python",
      "name": "python",
      "nbconvert_exporter": "python",
      "pygments_lexer": "ipython3",
      "version": "3.8.5"
    }
  },
  "cells": [
    {
      "cell_type": "markdown",
      "metadata": {
        "id": "FZhTMhcPf0EP"
      },
      "source": [
        "#  Principal Component Analysis"
      ]
    },
    {
      "cell_type": "code",
      "metadata": {
        "id": "xKQ9FYooc1Y5",
        "colab": {
          "base_uri": "https://localhost:8080/"
        },
        "outputId": "a63d71b4-0219-4296-fd9a-8370e676d4e9"
      },
      "source": [
        "from google.colab import drive\n",
        "drive.mount('/content/drive')"
      ],
      "execution_count": null,
      "outputs": [
        {
          "output_type": "stream",
          "name": "stdout",
          "text": [
            "Mounted at /content/drive\n"
          ]
        }
      ]
    },
    {
      "cell_type": "code",
      "metadata": {
        "id": "qKEP_RQJf0Eb"
      },
      "source": [
        "%matplotlib inline\n",
        "import numpy as np\n",
        "import pandas as pd\n",
        "import matplotlib.pyplot as plt\n",
        "import seaborn as sns; sns.set()"
      ],
      "execution_count": null,
      "outputs": []
    },
    {
      "cell_type": "markdown",
      "metadata": {
        "id": "BXFSn63of0E9"
      },
      "source": [
        "Principal component analysis is a fast and flexible unsupervised method for dimensionality reduction in data.\n",
        "\n",
        "Using PCA for dimensionality reduction involves zeroing out one or more of the smallest principal components, resulting in a lower-dimensional projection of the data that preserves the maximal data variance."
      ]
    },
    {
      "cell_type": "code",
      "metadata": {
        "colab": {
          "base_uri": "https://localhost:8080/",
          "height": 268
        },
        "id": "wzPHp3rqf0FG",
        "outputId": "03051053-08f3-45bc-be92-56916bde8c80"
      },
      "source": [
        "rng = np.random.RandomState(1)\n",
        "X = np.dot(rng.rand(2, 2), rng.randn(2, 200)).T\n",
        "plt.scatter(X[:, 0], X[:, 1])\n",
        "plt.axis('equal');"
      ],
      "execution_count": null,
      "outputs": [
        {
          "output_type": "display_data",
          "data": {
            "image/png": "[encoded data removed]",
            "text/plain": [
              "<Figure size 432x288 with 1 Axes>"
            ]
          },
          "metadata": {}
        }
      ]
    },
    {
      "cell_type": "code",
      "metadata": {
        "colab": {
          "base_uri": "https://localhost:8080/"
        },
        "id": "TrhTGQQCcFer",
        "outputId": "281088a9-a544-4ce5-c979-f90eb9224e10"
      },
      "source": [
        "X"
      ],
      "execution_count": null,
      "outputs": [
        {
          "output_type": "execute_result",
          "data": {
            "text/plain": [
              "array([[-6.25301618e-01,             nan],\n",
              "       [ 9.60695033e-01,  5.90900597e-01],\n",
              "       [-5.98543385e-01, -4.02593393e-01],\n",
              "       [-2.22805938e+00, -5.32576740e-01],\n",
              "       [-4.61430060e-01, -4.98867244e-01],\n",
              "       [-9.58929028e-01, -2.69331024e-01],\n",
              "       [-6.73079909e-01, -3.38308547e-01],\n",
              "       [ 1.30501861e+00,  5.91357846e-01],\n",
              "       [ 3.74545597e-01, -9.85442049e-02],\n",
              "       [-1.82628627e+00, -4.06170254e-01],\n",
              "       [ 6.68262284e-01,  3.36877396e-01],\n",
              "       [-5.82646676e-01, -1.77369217e-01],\n",
              "       [-4.18128976e-01, -3.73811389e-01],\n",
              "       [ 1.72209371e-01,  2.64668836e-01],\n",
              "       [ 3.77116687e-01,  1.88442969e-01],\n",
              "       [-6.79396230e-01, -1.31601978e-01],\n",
              "       [ 1.03148960e+00,  4.25550018e-01],\n",
              "       [ 3.36041799e-01,  3.90982721e-02],\n",
              "       [ 7.05745985e-01,  4.88730649e-01],\n",
              "       [ 8.39511547e-01,  1.52125872e-01],\n",
              "       [ 1.49882898e+00,  4.71380809e-01],\n",
              "       [ 2.88356638e-01,  3.31334714e-02],\n",
              "       [-5.02935011e-01, -3.68665426e-01],\n",
              "       [ 1.47921067e+00,  7.40445724e-01],\n",
              "       [-4.44382429e-01, -1.65019364e-01],\n",
              "       [-5.33464228e-01, -6.02221911e-02],\n",
              "       [-6.16229422e-01, -2.11783922e-01],\n",
              "       [ 7.46598965e-02, -6.14321077e-02],\n",
              "       [-1.13637011e-01,  7.32877678e-02],\n",
              "       [-2.00717298e-02,  6.09744586e-02],\n",
              "       [ 1.89582967e-01,  1.99769369e-01],\n",
              "       [ 9.38466103e-01,  5.41731132e-01],\n",
              "       [-3.66697989e-01, -3.64971376e-02],\n",
              "       [-8.93528486e-01, -3.72814013e-01],\n",
              "       [-1.31759571e+00, -3.57581073e-01],\n",
              "       [-3.81802782e-01, -2.01252465e-01],\n",
              "       [-5.13790216e-01, -5.05974086e-01],\n",
              "       [ 9.03737934e-01,  2.49518260e-01],\n",
              "       [-4.38875079e-01, -1.50648130e-01],\n",
              "       [-5.94170907e-01, -9.41224109e-02],\n",
              "       [-3.12943931e-01, -6.57312966e-04],\n",
              "       [-3.00229089e-01, -4.22050272e-01],\n",
              "       [-5.99239320e-01, -2.60398180e-01],\n",
              "       [ 2.20370036e-01,  2.03914415e-01],\n",
              "       [ 5.25164844e-01,  1.87026363e-01],\n",
              "       [ 5.56625011e-01, -1.33745094e-01],\n",
              "       [ 1.35428157e+00,  5.47397422e-01],\n",
              "       [-6.83159806e-01, -3.94693187e-01],\n",
              "       [-1.23325109e-01, -1.04266539e-01],\n",
              "       [-3.13175458e-01, -6.98306619e-02],\n",
              "       [-2.48838277e+00, -8.44571249e-01],\n",
              "       [ 1.24996586e+00,  5.85738115e-01],\n",
              "       [ 1.76764431e-01,  1.10730208e-01],\n",
              "       [-5.07808538e-01, -3.15746300e-01],\n",
              "       [ 1.82738502e+00,  6.20232502e-01],\n",
              "       [ 8.10156740e-01,  1.77171194e-01],\n",
              "       [ 4.28494398e-01,  1.29892407e-01],\n",
              "       [-6.81124709e-02, -1.83414149e-01],\n",
              "       [-2.38085712e-01,  3.20283053e-02],\n",
              "       [-5.76511311e-01, -4.61119558e-01],\n",
              "       [ 7.86579791e-01,  2.40420951e-01],\n",
              "       [-3.94028364e-01, -1.13238995e-01],\n",
              "       [ 3.00281016e-01,  4.05830103e-02],\n",
              "       [ 8.34354492e-01,  3.63411695e-01],\n",
              "       [ 6.77025394e-01,  8.62180588e-02],\n",
              "       [ 8.22858785e-01,  7.95262868e-02],\n",
              "       [ 1.11060226e+00,  8.38447209e-02],\n",
              "       [-1.11056320e+00, -2.21851614e-01],\n",
              "       [-3.25581172e-05,  2.52586287e-01],\n",
              "       [ 9.01346004e-01,  4.66550032e-01],\n",
              "       [ 6.13325282e-01,  2.29429972e-01],\n",
              "       [ 1.00280321e+00,  2.67636970e-01],\n",
              "       [-5.00300647e-01, -2.65194678e-01],\n",
              "       [-1.46839080e+00, -2.62591632e-01],\n",
              "       [-1.16559210e+00, -4.35658777e-01],\n",
              "       [ 1.23290571e+00,  3.72644940e-01],\n",
              "       [-8.71374166e-02, -7.68205362e-02],\n",
              "       [ 1.32611731e+00,  4.23305575e-01],\n",
              "       [-6.55945864e-01, -2.36422799e-01],\n",
              "       [-3.98868969e-01, -1.32296178e-01],\n",
              "       [ 1.46537233e-01,  2.88714500e-02],\n",
              "       [ 8.34743614e-01,  2.78631269e-01],\n",
              "       [ 1.26455201e-01,  1.83894435e-02],\n",
              "       [ 2.01707556e-01,  6.38435019e-02],\n",
              "       [-2.67775720e-01,  4.92011507e-03],\n",
              "       [ 2.85085062e-01,  5.36128031e-02],\n",
              "       [-7.53418549e-01, -3.37531319e-01],\n",
              "       [ 5.29313417e-01,  2.45960831e-02],\n",
              "       [ 3.65577719e-01, -5.62717811e-02],\n",
              "       [ 3.62822350e-02, -1.71587143e-02],\n",
              "       [ 1.98139998e-01,  1.48806454e-01],\n",
              "       [-7.56673772e-01, -2.05864228e-01],\n",
              "       [ 1.15733262e-01, -2.55010922e-02],\n",
              "       [-1.81944537e-01, -8.98933373e-02],\n",
              "       [ 1.57198306e-01,  1.26124661e-01],\n",
              "       [ 5.83470370e-01,  2.37266716e-01],\n",
              "       [-9.46770213e-01, -2.88927090e-01],\n",
              "       [ 7.13140353e-01,  1.77219645e-01],\n",
              "       [ 1.30157187e+00,  6.24502445e-01],\n",
              "       [-5.49063710e-01, -4.44638605e-01],\n",
              "       [-4.29728257e-01, -2.50941856e-01],\n",
              "       [-3.86766308e-01, -2.66159401e-01],\n",
              "       [-6.57643258e-01, -8.45055625e-02],\n",
              "       [ 1.23961415e+00,  4.90659512e-01],\n",
              "       [ 3.18446596e-01,  4.12165000e-03],\n",
              "       [-8.98118949e-01, -2.10137581e-01],\n",
              "       [ 3.36881319e-01,  1.87961004e-01],\n",
              "       [-4.18452911e-01, -1.81336717e-01],\n",
              "       [ 2.36601159e-01,  3.39487039e-01],\n",
              "       [ 3.51319728e-01,  9.23282159e-02],\n",
              "       [ 1.35323942e+00,  4.19970027e-01],\n",
              "       [-8.34819518e-01, -2.00044213e-01],\n",
              "       [ 2.32938600e+00,  9.16366922e-01],\n",
              "       [ 4.67174434e-02,  2.49148699e-01],\n",
              "       [ 4.55373238e-01,  1.97896476e-01],\n",
              "       [-7.10684919e-01, -1.56607387e-02],\n",
              "       [-5.50095165e-02, -2.19243382e-01],\n",
              "       [-4.54554511e-01, -2.62307969e-01],\n",
              "       [-1.08213611e-01, -4.11131904e-02],\n",
              "       [-8.97552407e-01, -2.41129284e-01],\n",
              "       [ 7.34802491e-01,  8.56077609e-02],\n",
              "       [ 2.25266501e-01, -2.49531175e-01],\n",
              "       [-3.27438240e-01,  1.87561024e-01],\n",
              "       [ 1.20422548e+00,  2.89208121e-01],\n",
              "       [ 1.70331974e-01, -2.13212414e-01],\n",
              "       [ 1.00007930e+00,  3.60626507e-01],\n",
              "       [-6.71516563e-01, -7.20747636e-02],\n",
              "       [ 1.19221616e+00,  3.49379904e-01],\n",
              "       [ 2.40174205e-01,  1.32451266e-01],\n",
              "       [ 5.56592389e-01,  3.39247336e-01],\n",
              "       [-1.23113909e+00, -3.01572247e-01],\n",
              "       [ 1.52659926e-01, -3.22243331e-02],\n",
              "       [ 1.37611796e+00,  4.38905019e-01],\n",
              "       [-7.05213114e-01, -1.86923986e-01],\n",
              "       [-1.25035415e+00, -6.15852747e-01],\n",
              "       [-1.87651011e+00, -5.87438869e-01],\n",
              "       [-1.47105690e+00, -7.57686938e-01],\n",
              "       [-1.50346447e+00, -6.39175291e-01],\n",
              "       [-3.74317472e-01, -1.24473266e-01],\n",
              "       [ 8.78524826e-01,  3.86529047e-01],\n",
              "       [ 4.37960653e-02, -1.33600937e-01],\n",
              "       [ 5.45982844e-01,  9.78986853e-02],\n",
              "       [ 1.41569127e-01, -3.31934527e-02],\n",
              "       [ 6.35824494e-02,  2.60037422e-03],\n",
              "       [-8.87046213e-02, -5.08430872e-02],\n",
              "       [ 1.32411808e-01, -5.25896645e-02],\n",
              "       [ 4.29143144e-01,  1.39451520e-01],\n",
              "       [-5.62450166e-01, -3.55459800e-01],\n",
              "       [ 5.98293829e-01,  3.05358879e-01],\n",
              "       [-3.52669474e-01,  2.77872905e-01],\n",
              "       [ 2.92708138e-01, -5.88533723e-02],\n",
              "       [ 1.49216325e+00,  2.43746801e-01],\n",
              "       [-3.21136884e-01, -2.11988784e-01],\n",
              "       [-4.28741839e-01, -1.62431474e-01],\n",
              "       [ 5.56602182e-02,  4.72280460e-02],\n",
              "       [-1.86669080e-01, -5.75236287e-02],\n",
              "       [-3.15976890e-01, -1.35666133e-01],\n",
              "       [-9.52287292e-01, -2.03431276e-01],\n",
              "       [-6.17216871e-01, -1.68607956e-01],\n",
              "       [ 2.60724124e-01,  2.83827268e-01],\n",
              "       [-1.29606872e+00, -5.87501508e-01],\n",
              "       [ 1.30204436e-01,  1.06536600e-01],\n",
              "       [ 3.62026915e-02, -7.14259522e-02],\n",
              "       [ 4.51406829e-01,  2.20021746e-01],\n",
              "       [ 7.82343617e-01,  1.55836343e-01],\n",
              "       [-1.91527940e+00, -8.41226381e-01],\n",
              "       [ 1.33470527e+00,  1.77008275e-01],\n",
              "       [-5.57241554e-01,  9.78217703e-02],\n",
              "       [-2.54030157e-01,  6.53585666e-03],\n",
              "       [ 3.83426415e-02, -1.41592253e-01],\n",
              "       [ 1.66900682e+00,  2.58263884e-01],\n",
              "       [-4.01201302e-01, -1.24900651e-01],\n",
              "       [ 1.33980298e+00,  5.54699895e-01],\n",
              "       [ 3.12160775e-01,  1.70605436e-01],\n",
              "       [ 2.09517683e+00,  6.46487345e-01],\n",
              "       [-6.85653080e-01, -2.37525375e-01],\n",
              "       [-9.81232159e-01, -5.30795733e-01],\n",
              "       [ 3.81516151e-01,  2.16067601e-01],\n",
              "       [ 8.35386181e-02,  2.57654664e-01],\n",
              "       [ 1.56227043e-01,  1.07263711e-02],\n",
              "       [-8.98591326e-01, -4.65169769e-01],\n",
              "       [ 2.16673778e-01, -1.35265391e-01],\n",
              "       [ 3.99091276e-01,  1.86824524e-01],\n",
              "       [-3.90120284e-01, -5.57531130e-02],\n",
              "       [ 1.51136791e-01, -3.50017338e-02],\n",
              "       [-2.59947279e-02, -5.30194271e-02],\n",
              "       [-5.55678088e-01, -2.82320719e-01],\n",
              "       [-4.14437203e-01, -1.61157769e-01],\n",
              "       [-5.43696094e-01, -4.31161457e-01],\n",
              "       [ 1.42759145e+00,  5.34554140e-01],\n",
              "       [ 4.51861867e-01, -1.43502859e-01],\n",
              "       [ 8.07369404e-01,  1.44524192e-01],\n",
              "       [-4.61251208e-01, -3.08874028e-01],\n",
              "       [-1.06359448e-01,  2.40025629e-01],\n",
              "       [-1.09810334e+00, -5.66248687e-01],\n",
              "       [ 8.38408546e-01,  2.78380007e-01],\n",
              "       [ 3.12708310e-01, -1.06001233e-02],\n",
              "       [ 1.95587585e+00,  6.38224114e-01],\n",
              "       [-1.10830352e+00, -3.95053658e-01],\n",
              "       [ 3.98647206e-01,  2.31865526e-02]])"
            ]
          },
          "metadata": {},
          "execution_count": 37
        }
      ]
    },
    {
      "cell_type": "code",
      "metadata": {
        "colab": {
          "base_uri": "https://localhost:8080/"
        },
        "id": "yoL5GAlLfoOd",
        "outputId": "2f9e305e-bbe3-458f-e4fd-341f1ed5b7a4"
      },
      "source": [
        "SampleX=[[-6.25301618e-01],\n",
        "       [ 9.60695033e-01,  5.90900597e-01, -1.70063657e-01],\n",
        "       [-5.98543385e-01, -4.02593393e-01],\n",
        "       [-2.22805938e+00, -5.32576740e-01],\n",
        "       [-4.61430060e-01, -4.98867244e-01]]\n",
        "def asarray(a, dtype=None, order=None):\n",
        "    return np.array(a, dtype, copy=False, order=order)       \n",
        "SampleX=asarray(SampleX)\n",
        "type(SampleX)\n",
        "#setting an array element with a sequence.\n",
        "#Seems like we could not have "
      ],
      "execution_count": null,
      "outputs": [
        {
          "output_type": "stream",
          "name": "stderr",
          "text": [
            "/usr/local/lib/python3.7/dist-packages/ipykernel_launcher.py:7: VisibleDeprecationWarning: Creating an ndarray from ragged nested sequences (which is a list-or-tuple of lists-or-tuples-or ndarrays with different lengths or shapes) is deprecated. If you meant to do this, you must specify 'dtype=object' when creating the ndarray\n",
            "  import sys\n"
          ]
        },
        {
          "output_type": "execute_result",
          "data": {
            "text/plain": [
              "numpy.ndarray"
            ]
          },
          "metadata": {},
          "execution_count": 34
        }
      ]
    },
    {
      "cell_type": "code",
      "metadata": {
        "id": "-IE_ffSYcmtp"
      },
      "source": [
        "Xdf=pd.DataFrame(X)"
      ],
      "execution_count": null,
      "outputs": []
    },
    {
      "cell_type": "code",
      "metadata": {
        "colab": {
          "base_uri": "https://localhost:8080/",
          "height": 419
        },
        "id": "izEPeeiRep7K",
        "outputId": "8a9d7f5a-671c-4b64-843c-365aa151805f"
      },
      "source": [
        "Xdf.iloc[0,1]=None\n",
        "Xdf\n",
        "#Input contains NaN, infinity or a value too large for dtype('float64')."
      ],
      "execution_count": null,
      "outputs": [
        {
          "output_type": "execute_result",
          "data": {
            "text/html": [
              "<div>\n",
              "<style scoped>\n",
              "    .dataframe tbody tr th:only-of-type {\n",
              "        vertical-align: middle;\n",
              "    }\n",
              "\n",
              "    .dataframe tbody tr th {\n",
              "        vertical-align: top;\n",
              "    }\n",
              "\n",
              "    .dataframe thead th {\n",
              "        text-align: right;\n",
              "    }\n",
              "</style>\n",
              "<table border=\"1\" class=\"dataframe\">\n",
              "  <thead>\n",
              "    <tr style=\"text-align: right;\">\n",
              "      <th></th>\n",
              "      <th>0</th>\n",
              "      <th>1</th>\n",
              "    </tr>\n",
              "  </thead>\n",
              "  <tbody>\n",
              "    <tr>\n",
              "      <th>0</th>\n",
              "      <td>-0.625302</td>\n",
              "      <td>NaN</td>\n",
              "    </tr>\n",
              "    <tr>\n",
              "      <th>1</th>\n",
              "      <td>0.960695</td>\n",
              "      <td>0.590901</td>\n",
              "    </tr>\n",
              "    <tr>\n",
              "      <th>2</th>\n",
              "      <td>-0.598543</td>\n",
              "      <td>-0.402593</td>\n",
              "    </tr>\n",
              "    <tr>\n",
              "      <th>3</th>\n",
              "      <td>-2.228059</td>\n",
              "      <td>-0.532577</td>\n",
              "    </tr>\n",
              "    <tr>\n",
              "      <th>4</th>\n",
              "      <td>-0.461430</td>\n",
              "      <td>-0.498867</td>\n",
              "    </tr>\n",
              "    <tr>\n",
              "      <th>...</th>\n",
              "      <td>...</td>\n",
              "      <td>...</td>\n",
              "    </tr>\n",
              "    <tr>\n",
              "      <th>195</th>\n",
              "      <td>0.838409</td>\n",
              "      <td>0.278380</td>\n",
              "    </tr>\n",
              "    <tr>\n",
              "      <th>196</th>\n",
              "      <td>0.312708</td>\n",
              "      <td>-0.010600</td>\n",
              "    </tr>\n",
              "    <tr>\n",
              "      <th>197</th>\n",
              "      <td>1.955876</td>\n",
              "      <td>0.638224</td>\n",
              "    </tr>\n",
              "    <tr>\n",
              "      <th>198</th>\n",
              "      <td>-1.108304</td>\n",
              "      <td>-0.395054</td>\n",
              "    </tr>\n",
              "    <tr>\n",
              "      <th>199</th>\n",
              "      <td>0.398647</td>\n",
              "      <td>0.023187</td>\n",
              "    </tr>\n",
              "  </tbody>\n",
              "</table>\n",
              "<p>200 rows × 2 columns</p>\n",
              "</div>"
            ],
            "text/plain": [
              "            0         1\n",
              "0   -0.625302       NaN\n",
              "1    0.960695  0.590901\n",
              "2   -0.598543 -0.402593\n",
              "3   -2.228059 -0.532577\n",
              "4   -0.461430 -0.498867\n",
              "..        ...       ...\n",
              "195  0.838409  0.278380\n",
              "196  0.312708 -0.010600\n",
              "197  1.955876  0.638224\n",
              "198 -1.108304 -0.395054\n",
              "199  0.398647  0.023187\n",
              "\n",
              "[200 rows x 2 columns]"
            ]
          },
          "metadata": {},
          "execution_count": 21
        }
      ]
    },
    {
      "cell_type": "markdown",
      "metadata": {
        "id": "q0QHIxP3f0Hk"
      },
      "source": [
        "### Transform data into single dimension-Leave one measurement for each indicator"
      ]
    },
    {
      "cell_type": "code",
      "metadata": {
        "colab": {
          "base_uri": "https://localhost:8080/"
        },
        "id": "CnoZitpWf0Ho",
        "outputId": "816b9fe6-b77c-48be-b837-673ee949187e"
      },
      "source": [
        "from sklearn.decomposition import PCA\n",
        "pca = PCA(n_components=1)\n",
        "pca.fit(X)\n",
        "X_pca = pca.transform(X) # create X data with single pca vector\n",
        "print(\"original shape:   \", X.shape)\n",
        "print(\"transformed shape:\", X_pca.shape)"
      ],
      "execution_count": null,
      "outputs": [
        {
          "output_type": "stream",
          "name": "stdout",
          "text": [
            "original shape:    (200, 2)\n",
            "transformed shape: (200, 1)\n"
          ]
        }
      ]
    },
    {
      "cell_type": "markdown",
      "metadata": {
        "id": "frnoLymOf0GZ"
      },
      "source": [
        "The fit learns the \"components\" (i.e.-the loadings) and \"explained variance\":"
      ]
    },
    {
      "cell_type": "code",
      "metadata": {
        "colab": {
          "base_uri": "https://localhost:8080/"
        },
        "id": "nok4E59Bf0Gg",
        "outputId": "dfee00ef-bb2a-40e7-ec0a-201260717739"
      },
      "source": [
        "print(pca.components_) "
      ],
      "execution_count": null,
      "outputs": [
        {
          "output_type": "stream",
          "name": "stdout",
          "text": [
            "[[-0.94446029 -0.32862557]]\n"
          ]
        }
      ]
    },
    {
      "cell_type": "code",
      "metadata": {
        "colab": {
          "base_uri": "https://localhost:8080/"
        },
        "id": "i6mitBV_f0Gz",
        "outputId": "144a4711-2eb0-4907-f149-268b0cf0a57f"
      },
      "source": [
        "print(pca.explained_variance_) # explained variance for for each principal component vector"
      ],
      "execution_count": null,
      "outputs": [
        {
          "output_type": "stream",
          "name": "stdout",
          "text": [
            "[0.7625315]\n"
          ]
        }
      ]
    },
    {
      "cell_type": "code",
      "metadata": {
        "id": "Coth-aCNf0H7"
      },
      "source": [
        "#print(Xdf) #original data\n",
        "#print(X_pca[0:5,:]) #data transformed to a single pca vector\n",
        "#X_pca_df=pd.DataFrame(X_pca)\n",
        "#print(X_pca_df)"
      ],
      "execution_count": null,
      "outputs": []
    },
    {
      "cell_type": "markdown",
      "metadata": {
        "id": "G2Ui7J8-f0IL"
      },
      "source": [
        "To understand the effect of this dimensionality reduction, we can perform the inverse transform of this reduced data and plot it along with the original data:"
      ]
    },
    {
      "cell_type": "code",
      "metadata": {
        "colab": {
          "base_uri": "https://localhost:8080/",
          "height": 268
        },
        "id": "TxGhQsTHf0IN",
        "outputId": "b76e0487-68ac-4bd7-fd19-ee1149d73f10"
      },
      "source": [
        "X_new = pca.inverse_transform(X_pca) # inverse_transform returns pc vector to original matrix\n",
        "plt.scatter(X[:, 0], X[:, 1], alpha=0.2)\n",
        "plt.scatter(X_new[:, 0], X_new[:, 1], alpha=0.8)\n",
        "plt.axis('equal');"
      ],
      "execution_count": null,
      "outputs": [
        {
          "output_type": "display_data",
          "data": {
            "image/png": "[encoded data removed]",
            "text/plain": [
              "<Figure size 432x288 with 1 Axes>"
            ]
          },
          "metadata": {}
        }
      ]
    },
    {
      "cell_type": "markdown",
      "metadata": {
        "id": "LeDse9CUf0IZ"
      },
      "source": [
        "The light points are the original data, while the dark points are the projected version.\n",
        "\n",
        "This means that the information along the least important principal axis or axes is removed, leaving only the component(s) of the data with the highest variance.\n",
        "\n",
        "The fraction of variance that is cut out (proportional to the spread of points about the line formed in this figure) is roughly a measure of how much \"information\" is discarded in this reduction of dimensionality.\n",
        "\n",
        "This reduced-dimension dataset is in some senses \"good enough\" to encode the most important relationships between the points: despite reducing the dimension of the data, the overall relationship between the data points are mostly preserved."
      ]
    }
  ]
}